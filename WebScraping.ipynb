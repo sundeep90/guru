{
  "nbformat": 4,
  "nbformat_minor": 0,
  "metadata": {
    "colab": {
      "name": "3101_Cute4_WebScraping.ipynb",
      "provenance": [],
      "collapsed_sections": []
    },
    "kernelspec": {
      "name": "python3",
      "display_name": "Python 3"
    },
    "accelerator": "GPU"
  },
  "cells": [
    {
      "cell_type": "markdown",
      "metadata": {
        "id": "xihHHC5X4vgZ",
        "colab_type": "text"
      },
      "source": [
        "####TASK 1\n",
        "\n",
        "---\n",
        "\n",
        "\n",
        "\n",
        "---\n",
        "\n"
      ]
    },
    {
      "cell_type": "code",
      "metadata": {
        "id": "pgP2_HLruIvO",
        "colab_type": "code",
        "outputId": "fb692743-905e-4340-aa37-59efebd91d0f",
        "colab": {
          "base_uri": "https://localhost:8080/",
          "height": 121
        }
      },
      "source": [
        "from google.colab import drive\n",
        "drive.mount('/content/drive')"
      ],
      "execution_count": 0,
      "outputs": [
        {
          "output_type": "stream",
          "text": [
            "Go to this URL in a browser: https://accounts.google.com/o/oauth2/auth?client_id=947318989803-6bn6qk8qdgf4n4g3pfee6491hc0brc4i.apps.googleusercontent.com&redirect_uri=urn%3aietf%3awg%3aoauth%3a2.0%3aoob&response_type=code&scope=email%20https%3a%2f%2fwww.googleapis.com%2fauth%2fdocs.test%20https%3a%2f%2fwww.googleapis.com%2fauth%2fdrive%20https%3a%2f%2fwww.googleapis.com%2fauth%2fdrive.photos.readonly%20https%3a%2f%2fwww.googleapis.com%2fauth%2fpeopleapi.readonly\n",
            "\n",
            "Enter your authorization code:\n",
            "··········\n",
            "Mounted at /content/drive\n"
          ],
          "name": "stdout"
        }
      ]
    },
    {
      "cell_type": "code",
      "metadata": {
        "id": "oor8rxLnrQMh",
        "colab_type": "code",
        "colab": {}
      },
      "source": [
        "import numpy as np\n",
        "import pandas as pd\n",
        "\n",
        "#!pip install urllib\n",
        "import urllib.request as url\n",
        "\n",
        "#!pip install bs4\n",
        "from bs4 import BeautifulSoup as bs\n",
        "\n",
        "#!pip install wordcloud\n",
        "from wordcloud import WordCloud\n",
        "\n",
        "import random\n",
        "random.seed(555)\n",
        "\n",
        "from lxml import html\n",
        "import requests\n",
        "\n",
        "import datetime\n",
        "\n",
        "import re"
      ],
      "execution_count": 0,
      "outputs": []
    },
    {
      "cell_type": "code",
      "metadata": {
        "id": "T46A7cMir7-x",
        "colab_type": "code",
        "colab": {}
      },
      "source": [
        "def extract_web_details(page):\n",
        "    tree = html.fromstring(page)\n",
        "    d = {'Rank':[],'Title':[],'domain':[],'posted_by_user':[],'url':[],'num_comments':[],'num_upvotes':[],'date_created':[]}\n",
        "    rankArray = tree.xpath(\"//span[@class='rank']/text()\");\n",
        "    for rank in rankArray:\n",
        "         d['Rank'].append(rank)\n",
        "         titleList = tree.xpath(\"//span[@class='rank'][.=\"+rank+\"]/ancestor::tr[@class='athing']//a[@class='storylink']/text()\")\n",
        "         domainList = tree.xpath(\"//span[@class='rank'][.=\"+rank+\"]/ancestor::tr[@class='athing']//span[@class='sitebit comhead']/a/span/text()\")\n",
        "         postedByUsersList = tree.xpath(\"//span[@class='rank'][.=\"+rank+\"]/ancestor::tr[@class='athing']/following-sibling::tr[1]//a[@class='hnuser']/text()\")\n",
        "         urlList = tree.xpath(\"//span[@class='rank'][.=\"+rank+\"]/ancestor::tr[@class='athing']//a[@class='storylink']/@href\")\n",
        "         commentsList = tree.xpath(\"//span[@class='rank'][.=\"+rank+\"]/ancestor::tr[@class='athing']/following-sibling::tr[1]//a[contains(text(),'comments')]/text()\")\n",
        "         upVotesList = tree.xpath(\"//span[@class='rank'][.=\"+rank+\"]/ancestor::tr[@class='athing']/following-sibling::tr[1]//span[@class='score']/text()\")\n",
        "         date_createdList = tree.xpath(\"//span[@class='rank'][.=\"+rank+\"]/ancestor::tr[@class='athing']/following-sibling::tr[1]//span[@class='age']/a/text()\")\n",
        "         title = titleList[0].strip() if len(titleList)>0 else ''\n",
        "         domain = domainList[0].strip() if len(domainList)>0 else ''\n",
        "         postedByUser = postedByUsersList[0].strip() if len(postedByUsersList)>0 else ''\n",
        "         comment = commentsList[0].replace('comments','').replace('comment','').strip() if len(commentsList)>0 else 0\n",
        "         upVotes = upVotesList[0].replace('points','').replace('point','').strip() if len(upVotesList)>0 else 0\n",
        "         date_created = date_createdList[0] if len(date_createdList)>0 else ''\n",
        "         url = urlList[0] if len(urlList)>0 else ''\n",
        "         d['Title'].append(title)\n",
        "         d['domain'].append(domain)\n",
        "         d['posted_by_user'].append(postedByUser)\n",
        "         d['url'].append(url)\n",
        "         d['num_comments'].append(comment)\n",
        "         d['num_upvotes'].append(upVotes)\n",
        "         d['date_created'].append(date_created)\n",
        "         \n",
        "    blog_list = pd.DataFrame(d)\n",
        "    return blog_list"
      ],
      "execution_count": 0,
      "outputs": []
    },
    {
      "cell_type": "code",
      "metadata": {
        "id": "GXX1QCGo08XZ",
        "colab_type": "code",
        "colab": {}
      },
      "source": [
        "def get_Hacker_News_Details(web_url,noOfRowsRequired,initial_nav_path):\n",
        "  html_list = pd.DataFrame()\n",
        "  nav_path = initial_nav_path\n",
        "  while len(html_list.index)<=noOfRowsRequired and nav_path != '':\n",
        "      print(web_url+nav_path)\n",
        "      page = url.urlopen(web_url+nav_path).read()\n",
        "      print(page)\n",
        "      tree = html.fromstring(page)\n",
        "      more_urlList = tree.xpath(\"//a[@class='morelink']/@href\")\n",
        "      print(more_urlList)\n",
        "      nav_path = more_urlList[0] if len(more_urlList)>0 else ''\n",
        "      html_list = pd.concat([html_list,extract_web_details(page)])\n",
        "      print(html_list.count())\n",
        "  return html_list.head(noOfRowsRequired)"
      ],
      "execution_count": 0,
      "outputs": []
    },
    {
      "cell_type": "code",
      "metadata": {
        "id": "I6wBPW__dF87",
        "colab_type": "code",
        "outputId": "3cdea69a-ef44-4f3f-d220-36f7f2b1307e",
        "colab": {
          "base_uri": "https://localhost:8080/",
          "height": 642
        }
      },
      "source": [
        "# code to fetch 89 records\n",
        "init_nav_path = \"newest\"\n",
        "parent_web_url = 'https://news.ycombinator.com/'\n",
        "hacker_news_df= get_Hacker_News_Details(parent_web_url,89,init_nav_path)"
      ],
      "execution_count": 0,
      "outputs": [
        {
          "output_type": "stream",
          "text": [
            "https://news.ycombinator.com/newest\n",
            "b'<html op=\"newest\"><head><meta name=\"referrer\" content=\"origin\"><meta name=\"viewport\" content=\"width=device-width, initial-scale=1.0\"><link rel=\"stylesheet\" type=\"text/css\" href=\"news.css?bf9JyQjnS7iehVl5TlRD\">\\n        <link rel=\"shortcut icon\" href=\"favicon.ico\">\\n        <title>New Links | Hacker News</title></head><body><center><table id=\"hnmain\" border=\"0\" cellpadding=\"0\" cellspacing=\"0\" width=\"85%\" bgcolor=\"#f6f6ef\">\\n        <tr><td bgcolor=\"#ff6600\"><table border=\"0\" cellpadding=\"0\" cellspacing=\"0\" width=\"100%\" style=\"padding:2px\"><tr><td style=\"width:18px;padding-right:4px\"><a href=\"https://news.ycombinator.com\"><img src=\"y18.gif\" width=\"18\" height=\"18\" style=\"border:1px white solid;\"></a></td>\\n                  <td style=\"line-height:12pt; height:10px;\"><span class=\"pagetop\"><b class=\"hnname\"><a href=\"news\">Hacker News</a></b>\\n              <span class=\"topsel\"><a href=\"newest\">new</a></span> | <a href=\"front\">past</a> | <a href=\"newcomments\">comments</a> | <a href=\"ask\">ask</a> | <a href=\"show\">show</a> | <a href=\"jobs\">jobs</a> | <a href=\"submit\">submit</a>            </span></td><td style=\"text-align:right;padding-right:4px;\"><span class=\"pagetop\">\\n                              <a href=\"login?goto=newest\">login</a>\\n                          </span></td>\\n              </tr></table></td></tr>\\n<tr id=\"pagespace\" title=\"New Links\" style=\"height:10px\"></tr><tr><td><table border=\"0\" cellpadding=\"0\" cellspacing=\"0\" class=\"itemlist\">\\n              <tr class=\\'athing\\' id=\\'21770957\\'>\\n      <td align=\"right\" valign=\"top\" class=\"title\"><span class=\"rank\">1.</span></td>      <td valign=\"top\" class=\"votelinks\"><center><a id=\\'up_21770957\\' href=\\'vote?id=21770957&amp;how=up&amp;goto=newest\\'><div class=\\'votearrow\\' title=\\'upvote\\'></div></a></center></td><td class=\"title\"><a href=\"https://youtu.be/WXqbOBH9xjg\" class=\"storylink\" rel=\"nofollow\">ElixirConfLA 2019 \\xe2\\x80\\x93 Erlang/OTP: What Is in the Box? By Jo\\xc3\\xa3o Britto</a><span class=\"sitebit comhead\"> (<a href=\"from?site=youtu.be\"><span class=\"sitestr\">youtu.be</span></a>)</span></td></tr><tr><td colspan=\"2\"></td><td class=\"subtext\">\\n        <span class=\"score\" id=\"score_21770957\">1 point</span> by <a href=\"user?id=elbrujohalcon\" class=\"hnuser\">elbrujohalcon</a> <span class=\"age\"><a href=\"item?id=21770957\">2 minutes ago</a></span> <span id=\"unv_21770957\"></span> | <a href=\"hide?id=21770957&amp;goto=newest\">hide</a> | <a href=\"https://hn.algolia.com/?query=ElixirConfLA%202019%20%E2%80%93%20Erlang%2FOTP%3A%20What%20Is%20in%20the%20Box%3F%20By%20Jo%C3%A3o%20Britto&sort=byDate&dateRange=all&type=story&storyText=false&prefix&page=0\" class=\"hnpast\">past</a> | <a href=\"https://www.google.com/search?q=ElixirConfLA%202019%20%E2%80%93%20Erlang%2FOTP%3A%20What%20Is%20in%20the%20Box%3F%20By%20Jo%C3%A3o%20Britto\">web</a> | <a href=\"item?id=21770957\">discuss</a>              </td></tr>\\n      <tr class=\"spacer\" style=\"height:5px\"></tr>\\n                <tr class=\\'athing\\' id=\\'21770954\\'>\\n      <td align=\"right\" valign=\"top\" class=\"title\"><span class=\"rank\">2.</span></td>      <td valign=\"top\" class=\"votelinks\"><center><a id=\\'up_21770954\\' href=\\'vote?id=21770954&amp;how=up&amp;goto=newest\\'><div class=\\'votearrow\\' title=\\'upvote\\'></div></a></center></td><td class=\"title\"><a href=\"https://www.nytimes.com/2019/12/12/sports/this-helmet-will-save-football-actually-probably-not.html\" class=\"storylink\" rel=\"nofollow\">This Helmet Will Save Football. Actually, Probably Not</a><span class=\"sitebit comhead\"> (<a href=\"from?site=nytimes.com\"><span class=\"sitestr\">nytimes.com</span></a>)</span></td></tr><tr><td colspan=\"2\"></td><td class=\"subtext\">\\n        <span class=\"score\" id=\"score_21770954\">1 point</span> by <a href=\"user?id=vo2maxer\" class=\"hnuser\">vo2maxer</a> <span class=\"age\"><a href=\"item?id=21770954\">2 minutes ago</a></span> <span id=\"unv_21770954\"></span> | <a href=\"hide?id=21770954&amp;goto=newest\">hide</a> | <a href=\"https://hn.algolia.com/?query=This%20Helmet%20Will%20Save%20Football.%20Actually%2C%20Probably%20Not&sort=byDate&dateRange=all&type=story&storyText=false&prefix&page=0\" class=\"hnpast\">past</a> | <a href=\"https://www.google.com/search?q=This%20Helmet%20Will%20Save%20Football.%20Actually%2C%20Probably%20Not\">web</a> | <a href=\"item?id=21770954\">discuss</a>              </td></tr>\\n      <tr class=\"spacer\" style=\"height:5px\"></tr>\\n                <tr class=\\'athing\\' id=\\'21770951\\'>\\n      <td align=\"right\" valign=\"top\" class=\"title\"><span class=\"rank\">3.</span></td>      <td valign=\"top\" class=\"votelinks\"><center><a id=\\'up_21770951\\' href=\\'vote?id=21770951&amp;how=up&amp;goto=newest\\'><div class=\\'votearrow\\' title=\\'upvote\\'></div></a></center></td><td class=\"title\"><a href=\"https://switch2osm.org/\" class=\"storylink\" rel=\"nofollow\">Switch to OSM: Take back control of your maps</a><span class=\"sitebit comhead\"> (<a href=\"from?site=switch2osm.org\"><span class=\"sitestr\">switch2osm.org</span></a>)</span></td></tr><tr><td colspan=\"2\"></td><td class=\"subtext\">\\n        <span class=\"score\" id=\"score_21770951\">1 point</span> by <a href=\"user?id=chippy\" class=\"hnuser\">chippy</a> <span class=\"age\"><a href=\"item?id=21770951\">4 minutes ago</a></span> <span id=\"unv_21770951\"></span> | <a href=\"hide?id=21770951&amp;goto=newest\">hide</a> | <a href=\"https://hn.algolia.com/?query=Switch%20to%20OSM%3A%20Take%20back%20control%20of%20your%20maps&sort=byDate&dateRange=all&type=story&storyText=false&prefix&page=0\" class=\"hnpast\">past</a> | <a href=\"https://www.google.com/search?q=Switch%20to%20OSM%3A%20Take%20back%20control%20of%20your%20maps\">web</a> | <a href=\"item?id=21770951\">discuss</a>              </td></tr>\\n      <tr class=\"spacer\" style=\"height:5px\"></tr>\\n                <tr class=\\'athing\\' id=\\'21770947\\'>\\n      <td align=\"right\" valign=\"top\" class=\"title\"><span class=\"rank\">4.</span></td>      <td valign=\"top\" class=\"votelinks\"><center><a id=\\'up_21770947\\' href=\\'vote?id=21770947&amp;how=up&amp;goto=newest\\'><div class=\\'votearrow\\' title=\\'upvote\\'></div></a></center></td><td class=\"title\"><a href=\"https://hubert-parser-production.appspot.com/relevance_analyzer\" class=\"storylink\" rel=\"nofollow\">We\\'ve built a pretty cool NLP based relevance analyzer</a><span class=\"sitebit comhead\"> (<a href=\"from?site=hubert-parser-production.appspot.com\"><span class=\"sitestr\">hubert-parser-production.appspot.com</span></a>)</span></td></tr><tr><td colspan=\"2\"></td><td class=\"subtext\">\\n        <span class=\"score\" id=\"score_21770947\">1 point</span> by <a href=\"user?id=HubertAI\" class=\"hnuser\">HubertAI</a> <span class=\"age\"><a href=\"item?id=21770947\">4 minutes ago</a></span> <span id=\"unv_21770947\"></span> | <a href=\"hide?id=21770947&amp;goto=newest\">hide</a> | <a href=\"https://hn.algolia.com/?query=We\\'ve%20built%20a%20pretty%20cool%20NLP%20based%20relevance%20analyzer&sort=byDate&dateRange=all&type=story&storyText=false&prefix&page=0\" class=\"hnpast\">past</a> | <a href=\"https://www.google.com/search?q=We\\'ve%20built%20a%20pretty%20cool%20NLP%20based%20relevance%20analyzer\">web</a> | <a href=\"item?id=21770947\">discuss</a>              </td></tr>\\n      <tr class=\"spacer\" style=\"height:5px\"></tr>\\n                <tr class=\\'athing\\' id=\\'21770940\\'>\\n      <td align=\"right\" valign=\"top\" class=\"title\"><span class=\"rank\">5.</span></td>      <td valign=\"top\" class=\"votelinks\"><center><a id=\\'up_21770940\\' href=\\'vote?id=21770940&amp;how=up&amp;goto=newest\\'><div class=\\'votearrow\\' title=\\'upvote\\'></div></a></center></td><td class=\"title\"><a href=\"https://www.nytimes.com/2019/12/11/opinion/textbook-prices-college.html\" class=\"storylink\" rel=\"nofollow\">Professors Help Rip Off Students</a><span class=\"sitebit comhead\"> (<a href=\"from?site=nytimes.com\"><span class=\"sitestr\">nytimes.com</span></a>)</span></td></tr><tr><td colspan=\"2\"></td><td class=\"subtext\">\\n        <span class=\"score\" id=\"score_21770940\">1 point</span> by <a href=\"user?id=vo2maxer\" class=\"hnuser\">vo2maxer</a> <span class=\"age\"><a href=\"item?id=21770940\">6 minutes ago</a></span> <span id=\"unv_21770940\"></span> | <a href=\"hide?id=21770940&amp;goto=newest\">hide</a> | <a href=\"https://hn.algolia.com/?query=Professors%20Help%20Rip%20Off%20Students&sort=byDate&dateRange=all&type=story&storyText=false&prefix&page=0\" class=\"hnpast\">past</a> | <a href=\"https://www.google.com/search?q=Professors%20Help%20Rip%20Off%20Students\">web</a> | <a href=\"item?id=21770940\">discuss</a>              </td></tr>\\n      <tr class=\"spacer\" style=\"height:5px\"></tr>\\n                <tr class=\\'athing\\' id=\\'21770927\\'>\\n      <td align=\"right\" valign=\"top\" class=\"title\"><span class=\"rank\">6.</span></td>      <td valign=\"top\" class=\"votelinks\"><center><a id=\\'up_21770927\\' href=\\'vote?id=21770927&amp;how=up&amp;goto=newest\\'><div class=\\'votearrow\\' title=\\'upvote\\'></div></a></center></td><td class=\"title\"><a href=\"https://www.nytimes.com/interactive/2019/12/12/climate/texas-methane-super-emitters.html\" class=\"storylink\" rel=\"nofollow\">Exposing a Hidden Climate Threat: Methane \\xe2\\x80\\x98Super Emitters\\xe2\\x80\\x99</a><span class=\"sitebit comhead\"> (<a href=\"from?site=nytimes.com\"><span class=\"sitestr\">nytimes.com</span></a>)</span></td></tr><tr><td colspan=\"2\"></td><td class=\"subtext\">\\n        <span class=\"score\" id=\"score_21770927\">1 point</span> by <a href=\"user?id=vo2maxer\" class=\"hnuser\">vo2maxer</a> <span class=\"age\"><a href=\"item?id=21770927\">8 minutes ago</a></span> <span id=\"unv_21770927\"></span> | <a href=\"hide?id=21770927&amp;goto=newest\">hide</a> | <a href=\"https://hn.algolia.com/?query=Exposing%20a%20Hidden%20Climate%20Threat%3A%20Methane%20%E2%80%98Super%20Emitters%E2%80%99&sort=byDate&dateRange=all&type=story&storyText=false&prefix&page=0\" class=\"hnpast\">past</a> | <a href=\"https://www.google.com/search?q=Exposing%20a%20Hidden%20Climate%20Threat%3A%20Methane%20%E2%80%98Super%20Emitters%E2%80%99\">web</a> | <a href=\"item?id=21770927\">discuss</a>              </td></tr>\\n      <tr class=\"spacer\" style=\"height:5px\"></tr>\\n                <tr class=\\'athing\\' id=\\'21770925\\'>\\n      <td align=\"right\" valign=\"top\" class=\"title\"><span class=\"rank\">7.</span></td>      <td valign=\"top\" class=\"votelinks\"><center><a id=\\'up_21770925\\' href=\\'vote?id=21770925&amp;how=up&amp;goto=newest\\'><div class=\\'votearrow\\' title=\\'upvote\\'></div></a></center></td><td class=\"title\"><a href=\"https://www.boost.org/users/history/version_1_72_0.html\" class=\"storylink\" rel=\"nofollow\">Boost Version 1.72.0 Released</a><span class=\"sitebit comhead\"> (<a href=\"from?site=boost.org\"><span class=\"sitestr\">boost.org</span></a>)</span></td></tr><tr><td colspan=\"2\"></td><td class=\"subtext\">\\n        <span class=\"score\" id=\"score_21770925\">1 point</span> by <a href=\"user?id=susam\" class=\"hnuser\">susam</a> <span class=\"age\"><a href=\"item?id=21770925\">9 minutes ago</a></span> <span id=\"unv_21770925\"></span> | <a href=\"hide?id=21770925&amp;goto=newest\">hide</a> | <a href=\"https://hn.algolia.com/?query=Boost%20Version%201.72.0%20Released&sort=byDate&dateRange=all&type=story&storyText=false&prefix&page=0\" class=\"hnpast\">past</a> | <a href=\"https://www.google.com/search?q=Boost%20Version%201.72.0%20Released\">web</a> | <a href=\"item?id=21770925\">discuss</a>              </td></tr>\\n      <tr class=\"spacer\" style=\"height:5px\"></tr>\\n                <tr class=\\'athing\\' id=\\'21770924\\'>\\n      <td align=\"right\" valign=\"top\" class=\"title\"><span class=\"rank\">8.</span></td>      <td valign=\"top\" class=\"votelinks\"><center><a id=\\'up_21770924\\' href=\\'vote?id=21770924&amp;how=up&amp;goto=newest\\'><div class=\\'votearrow\\' title=\\'upvote\\'></div></a></center></td><td class=\"title\"><a href=\"https://jira.mongodb.org/browse/DOCS-6498?focusedCommentId=1753304&amp;page=com.atlassian.jira.plugin.system.issuetabpanels%3Acomment-tabpanel#comment-1753304\" class=\"storylink\" rel=\"nofollow\">Move MongoDB Across Ops Manager Projects</a><span class=\"sitebit comhead\"> (<a href=\"from?site=mongodb.org\"><span class=\"sitestr\">mongodb.org</span></a>)</span></td></tr><tr><td colspan=\"2\"></td><td class=\"subtext\">\\n        <span class=\"score\" id=\"score_21770924\">1 point</span> by <a href=\"user?id=ai_ja_nai\" class=\"hnuser\">ai_ja_nai</a> <span class=\"age\"><a href=\"item?id=21770924\">9 minutes ago</a></span> <span id=\"unv_21770924\"></span> | <a href=\"hide?id=21770924&amp;goto=newest\">hide</a> | <a href=\"https://hn.algolia.com/?query=Move%20MongoDB%20Across%20Ops%20Manager%20Projects&sort=byDate&dateRange=all&type=story&storyText=false&prefix&page=0\" class=\"hnpast\">past</a> | <a href=\"https://www.google.com/search?q=Move%20MongoDB%20Across%20Ops%20Manager%20Projects\">web</a> | <a href=\"item?id=21770924\">discuss</a>              </td></tr>\\n      <tr class=\"spacer\" style=\"height:5px\"></tr>\\n                <tr class=\\'athing\\' id=\\'21770920\\'>\\n      <td align=\"right\" valign=\"top\" class=\"title\"><span class=\"rank\">9.</span></td>      <td valign=\"top\" class=\"votelinks\"><center><a id=\\'up_21770920\\' href=\\'vote?id=21770920&amp;how=up&amp;goto=newest\\'><div class=\\'votearrow\\' title=\\'upvote\\'></div></a></center></td><td class=\"title\"><a href=\"https://www.techradar.com/au/news/fires-near-me-was-australias-top-search-of-2019-google-reveals\" class=\"storylink\" rel=\"nofollow\">\\'Fires near me\\' was Australia\\'s top search of 2019, Google reveals</a><span class=\"sitebit comhead\"> (<a href=\"from?site=techradar.com\"><span class=\"sitestr\">techradar.com</span></a>)</span></td></tr><tr><td colspan=\"2\"></td><td class=\"subtext\">\\n        <span class=\"score\" id=\"score_21770920\">1 point</span> by <a href=\"user?id=reddotX\" class=\"hnuser\">reddotX</a> <span class=\"age\"><a href=\"item?id=21770920\">12 minutes ago</a></span> <span id=\"unv_21770920\"></span> | <a href=\"hide?id=21770920&amp;goto=newest\">hide</a> | <a href=\"https://hn.algolia.com/?query=\\'Fires%20near%20me\\'%20was%20Australia\\'s%20top%20search%20of%202019%2C%20Google%20reveals&sort=byDate&dateRange=all&type=story&storyText=false&prefix&page=0\" class=\"hnpast\">past</a> | <a href=\"https://www.google.com/search?q=\\'Fires%20near%20me\\'%20was%20Australia\\'s%20top%20search%20of%202019%2C%20Google%20reveals\">web</a> | <a href=\"item?id=21770920\">discuss</a>              </td></tr>\\n      <tr class=\"spacer\" style=\"height:5px\"></tr>\\n                <tr class=\\'athing\\' id=\\'21770910\\'>\\n      <td align=\"right\" valign=\"top\" class=\"title\"><span class=\"rank\">10.</span></td>      <td valign=\"top\" class=\"votelinks\"><center><a id=\\'up_21770910\\' href=\\'vote?id=21770910&amp;how=up&amp;goto=newest\\'><div class=\\'votearrow\\' title=\\'upvote\\'></div></a></center></td><td class=\"title\"><a href=\"https://remotecyberjobs.com/\" class=\"storylink\" rel=\"nofollow\">Remote Jobs in Cyber Security</a><span class=\"sitebit comhead\"> (<a href=\"from?site=remotecyberjobs.com\"><span class=\"sitestr\">remotecyberjobs.com</span></a>)</span></td></tr><tr><td colspan=\"2\"></td><td class=\"subtext\">\\n        <span class=\"score\" id=\"score_21770910\">1 point</span> by <a href=\"user?id=pat-jay\" class=\"hnuser\">pat-jay</a> <span class=\"age\"><a href=\"item?id=21770910\">15 minutes ago</a></span> <span id=\"unv_21770910\"></span> | <a href=\"hide?id=21770910&amp;goto=newest\">hide</a> | <a href=\"https://hn.algolia.com/?query=Remote%20Jobs%20in%20Cyber%20Security&sort=byDate&dateRange=all&type=story&storyText=false&prefix&page=0\" class=\"hnpast\">past</a> | <a href=\"https://www.google.com/search?q=Remote%20Jobs%20in%20Cyber%20Security\">web</a> | <a href=\"item?id=21770910\">discuss</a>              </td></tr>\\n      <tr class=\"spacer\" style=\"height:5px\"></tr>\\n                <tr class=\\'athing\\' id=\\'21770905\\'>\\n      <td align=\"right\" valign=\"top\" class=\"title\"><span class=\"rank\">11.</span></td>      <td valign=\"top\" class=\"votelinks\"><center><a id=\\'up_21770905\\' href=\\'vote?id=21770905&amp;how=up&amp;goto=newest\\'><div class=\\'votearrow\\' title=\\'upvote\\'></div></a></center></td><td class=\"title\"><a href=\"https://lemire.me/blog/2019/12/11/amazons-new-arm-servers-graviton-2/\" class=\"storylink\" rel=\"nofollow\">Amazon\\xe2\\x80\\x99s new ARM servers: Graviton 2</a><span class=\"sitebit comhead\"> (<a href=\"from?site=lemire.me\"><span class=\"sitestr\">lemire.me</span></a>)</span></td></tr><tr><td colspan=\"2\"></td><td class=\"subtext\">\\n        <span class=\"score\" id=\"score_21770905\">1 point</span> by <a href=\"user?id=ibobev\" class=\"hnuser\">ibobev</a> <span class=\"age\"><a href=\"item?id=21770905\">17 minutes ago</a></span> <span id=\"unv_21770905\"></span> | <a href=\"hide?id=21770905&amp;goto=newest\">hide</a> | <a href=\"https://hn.algolia.com/?query=Amazon%E2%80%99s%20new%20ARM%20servers%3A%20Graviton%202&sort=byDate&dateRange=all&type=story&storyText=false&prefix&page=0\" class=\"hnpast\">past</a> | <a href=\"https://www.google.com/search?q=Amazon%E2%80%99s%20new%20ARM%20servers%3A%20Graviton%202\">web</a> | <a href=\"item?id=21770905\">discuss</a>              </td></tr>\\n      <tr class=\"spacer\" style=\"height:5px\"></tr>\\n                <tr class=\\'athing\\' id=\\'21770903\\'>\\n      <td align=\"right\" valign=\"top\" class=\"title\"><span class=\"rank\">12.</span></td>      <td valign=\"top\" class=\"votelinks\"><center><a id=\\'up_21770903\\' href=\\'vote?id=21770903&amp;how=up&amp;goto=newest\\'><div class=\\'votearrow\\' title=\\'upvote\\'></div></a></center></td><td class=\"title\"><a href=\"item?id=21770903\" class=\"storylink\">HTTPS: //blog.datahut.co/how-to-select-a-web-scraping-service-that-is-on-point/</a></td></tr><tr><td colspan=\"2\"></td><td class=\"subtext\">\\n        <span class=\"score\" id=\"score_21770903\">1 point</span> by <a href=\"user?id=sandramoraes\" class=\"hnuser\">sandramoraes</a> <span class=\"age\"><a href=\"item?id=21770903\">18 minutes ago</a></span> <span id=\"unv_21770903\"></span> | <a href=\"hide?id=21770903&amp;goto=newest\">hide</a> | <a href=\"https://hn.algolia.com/?query=HTTPS%3A%20%2F%2Fblog.datahut.co%2Fhow-to-select-a-web-scraping-service-that-is-on-point%2F&sort=byDate&dateRange=all&type=story&storyText=false&prefix&page=0\" class=\"hnpast\">past</a> | <a href=\"https://www.google.com/search?q=HTTPS%3A%20%2F%2Fblog.datahut.co%2Fhow-to-select-a-web-scraping-service-that-is-on-point%2F\">web</a> | <a href=\"item?id=21770903\">discuss</a>              </td></tr>\\n      <tr class=\"spacer\" style=\"height:5px\"></tr>\\n                <tr class=\\'athing\\' id=\\'21770895\\'>\\n      <td align=\"right\" valign=\"top\" class=\"title\"><span class=\"rank\">13.</span></td>      <td valign=\"top\" class=\"votelinks\"><center><a id=\\'up_21770895\\' href=\\'vote?id=21770895&amp;how=up&amp;goto=newest\\'><div class=\\'votearrow\\' title=\\'upvote\\'></div></a></center></td><td class=\"title\"><a href=\"https://medium.com/@galiciandeveloper/weakmaps-in-javascript-a4f89347b0c3\" class=\"storylink\" rel=\"nofollow\">WeakMaps in JavaScript</a><span class=\"sitebit comhead\"> (<a href=\"from?site=medium.com\"><span class=\"sitestr\">medium.com</span></a>)</span></td></tr><tr><td colspan=\"2\"></td><td class=\"subtext\">\\n        <span class=\"score\" id=\"score_21770895\">1 point</span> by <a href=\"user?id=ymd\" class=\"hnuser\">ymd</a> <span class=\"age\"><a href=\"item?id=21770895\">20 minutes ago</a></span> <span id=\"unv_21770895\"></span> | <a href=\"hide?id=21770895&amp;goto=newest\">hide</a> | <a href=\"https://hn.algolia.com/?query=WeakMaps%20in%20JavaScript&sort=byDate&dateRange=all&type=story&storyText=false&prefix&page=0\" class=\"hnpast\">past</a> | <a href=\"https://www.google.com/search?q=WeakMaps%20in%20JavaScript\">web</a> | <a href=\"item?id=21770895\">discuss</a>              </td></tr>\\n      <tr class=\"spacer\" style=\"height:5px\"></tr>\\n                <tr class=\\'athing\\' id=\\'21770887\\'>\\n      <td align=\"right\" valign=\"top\" class=\"title\"><span class=\"rank\">14.</span></td>      <td valign=\"top\" class=\"votelinks\"><center><a id=\\'up_21770887\\' href=\\'vote?id=21770887&amp;how=up&amp;goto=newest\\'><div class=\\'votearrow\\' title=\\'upvote\\'></div></a></center></td><td class=\"title\"><a href=\"https://lazywolves.github.io/\" class=\"storylink\" rel=\"nofollow\">LazyWolves: Building tools for faster and easier automation</a><span class=\"sitebit comhead\"> (<a href=\"from?site=lazywolves.github.io\"><span class=\"sitestr\">lazywolves.github.io</span></a>)</span></td></tr><tr><td colspan=\"2\"></td><td class=\"subtext\">\\n        <span class=\"score\" id=\"score_21770887\">2 points</span> by <a href=\"user?id=djm_dev\" class=\"hnuser\">djm_dev</a> <span class=\"age\"><a href=\"item?id=21770887\">23 minutes ago</a></span> <span id=\"unv_21770887\"></span> | <a href=\"hide?id=21770887&amp;goto=newest\">hide</a> | <a href=\"https://hn.algolia.com/?query=LazyWolves%3A%20Building%20tools%20for%20faster%20and%20easier%20automation&sort=byDate&dateRange=all&type=story&storyText=false&prefix&page=0\" class=\"hnpast\">past</a> | <a href=\"https://www.google.com/search?q=LazyWolves%3A%20Building%20tools%20for%20faster%20and%20easier%20automation\">web</a> | <a href=\"item?id=21770887\">discuss</a>              </td></tr>\\n      <tr class=\"spacer\" style=\"height:5px\"></tr>\\n                <tr class=\\'athing\\' id=\\'21770884\\'>\\n      <td align=\"right\" valign=\"top\" class=\"title\"><span class=\"rank\">15.</span></td>      <td valign=\"top\" class=\"votelinks\"><center><a id=\\'up_21770884\\' href=\\'vote?id=21770884&amp;how=up&amp;goto=newest\\'><div class=\\'votearrow\\' title=\\'upvote\\'></div></a></center></td><td class=\"title\"><a href=\"https://blog.appsignal.com/2019/12/12/how-to-use-broadway-in-your-elixir-application.html\" class=\"storylink\" rel=\"nofollow\">How to Use Broadway in Your Elixir Application</a><span class=\"sitebit comhead\"> (<a href=\"from?site=appsignal.com\"><span class=\"sitestr\">appsignal.com</span></a>)</span></td></tr><tr><td colspan=\"2\"></td><td class=\"subtext\">\\n        <span class=\"score\" id=\"score_21770884\">3 points</span> by <a href=\"user?id=Liriel\" class=\"hnuser\">Liriel</a> <span class=\"age\"><a href=\"item?id=21770884\">25 minutes ago</a></span> <span id=\"unv_21770884\"></span> | <a href=\"hide?id=21770884&amp;goto=newest\">hide</a> | <a href=\"https://hn.algolia.com/?query=How%20to%20Use%20Broadway%20in%20Your%20Elixir%20Application&sort=byDate&dateRange=all&type=story&storyText=false&prefix&page=0\" class=\"hnpast\">past</a> | <a href=\"https://www.google.com/search?q=How%20to%20Use%20Broadway%20in%20Your%20Elixir%20Application\">web</a> | <a href=\"item?id=21770884\">discuss</a>              </td></tr>\\n      <tr class=\"spacer\" style=\"height:5px\"></tr>\\n                <tr class=\\'athing\\' id=\\'21770880\\'>\\n      <td align=\"right\" valign=\"top\" class=\"title\"><span class=\"rank\">16.</span></td>      <td valign=\"top\" class=\"votelinks\"><center><a id=\\'up_21770880\\' href=\\'vote?id=21770880&amp;how=up&amp;goto=newest\\'><div class=\\'votearrow\\' title=\\'upvote\\'></div></a></center></td><td class=\"title\"><a href=\"https://6nomads.com/cherryhome\" class=\"storylink\" rel=\"nofollow\">How to Carve Out Own Niche in the Industry: Interview with CherryHome\\xe2\\x80\\x99s Founders</a><span class=\"sitebit comhead\"> (<a href=\"from?site=6nomads.com\"><span class=\"sitestr\">6nomads.com</span></a>)</span></td></tr><tr><td colspan=\"2\"></td><td class=\"subtext\">\\n        <span class=\"score\" id=\"score_21770880\">1 point</span> by <a href=\"user?id=6nomads\" class=\"hnuser\">6nomads</a> <span class=\"age\"><a href=\"item?id=21770880\">25 minutes ago</a></span> <span id=\"unv_21770880\"></span> | <a href=\"hide?id=21770880&amp;goto=newest\">hide</a> | <a href=\"https://hn.algolia.com/?query=How%20to%20Carve%20Out%20Own%20Niche%20in%20the%20Industry%3A%20Interview%20with%20CherryHome%E2%80%99s%20Founders&sort=byDate&dateRange=all&type=story&storyText=false&prefix&page=0\" class=\"hnpast\">past</a> | <a href=\"https://www.google.com/search?q=How%20to%20Carve%20Out%20Own%20Niche%20in%20the%20Industry%3A%20Interview%20with%20CherryHome%E2%80%99s%20Founders\">web</a> | <a href=\"item?id=21770880\">discuss</a>              </td></tr>\\n      <tr class=\"spacer\" style=\"height:5px\"></tr>\\n                <tr class=\\'athing\\' id=\\'21770876\\'>\\n      <td align=\"right\" valign=\"top\" class=\"title\"><span class=\"rank\">17.</span></td>      <td valign=\"top\" class=\"votelinks\"><center><a id=\\'up_21770876\\' href=\\'vote?id=21770876&amp;how=up&amp;goto=newest\\'><div class=\\'votearrow\\' title=\\'upvote\\'></div></a></center></td><td class=\"title\"><a href=\"https://github.com/mvdan/garble\" class=\"storylink\" rel=\"nofollow\">Show HN: Obfuscate Go builds, with support for modules</a><span class=\"sitebit comhead\"> (<a href=\"from?site=github.com\"><span class=\"sitestr\">github.com</span></a>)</span></td></tr><tr><td colspan=\"2\"></td><td class=\"subtext\">\\n        <span class=\"score\" id=\"score_21770876\">1 point</span> by <a href=\"user?id=mvdan\" class=\"hnuser\">mvdan</a> <span class=\"age\"><a href=\"item?id=21770876\">26 minutes ago</a></span> <span id=\"unv_21770876\"></span> | <a href=\"hide?id=21770876&amp;goto=newest\">hide</a> | <a href=\"https://hn.algolia.com/?query=Show%20HN%3A%20Obfuscate%20Go%20builds%2C%20with%20support%20for%20modules&sort=byDate&dateRange=all&type=story&storyText=false&prefix&page=0\" class=\"hnpast\">past</a> | <a href=\"https://www.google.com/search?q=Show%20HN%3A%20Obfuscate%20Go%20builds%2C%20with%20support%20for%20modules\">web</a> | <a href=\"item?id=21770876\">discuss</a>              </td></tr>\\n      <tr class=\"spacer\" style=\"height:5px\"></tr>\\n                <tr class=\\'athing\\' id=\\'21770874\\'>\\n      <td align=\"right\" valign=\"top\" class=\"title\"><span class=\"rank\">18.</span></td>      <td valign=\"top\" class=\"votelinks\"><center><a id=\\'up_21770874\\' href=\\'vote?id=21770874&amp;how=up&amp;goto=newest\\'><div class=\\'votearrow\\' title=\\'upvote\\'></div></a></center></td><td class=\"title\"><a href=\"https://www.vox.com/energy-and-environment/2019/12/11/21010681/european-green-new-deal-climate-change-cop25\" class=\"storylink\" rel=\"nofollow\">Europe now has its own Green New Deal</a><span class=\"sitebit comhead\"> (<a href=\"from?site=vox.com\"><span class=\"sitestr\">vox.com</span></a>)</span></td></tr><tr><td colspan=\"2\"></td><td class=\"subtext\">\\n        <span class=\"score\" id=\"score_21770874\">1 point</span> by <a href=\"user?id=dimitar\" class=\"hnuser\">dimitar</a> <span class=\"age\"><a href=\"item?id=21770874\">27 minutes ago</a></span> <span id=\"unv_21770874\"></span> | <a href=\"hide?id=21770874&amp;goto=newest\">hide</a> | <a href=\"https://hn.algolia.com/?query=Europe%20now%20has%20its%20own%20Green%20New%20Deal&sort=byDate&dateRange=all&type=story&storyText=false&prefix&page=0\" class=\"hnpast\">past</a> | <a href=\"https://www.google.com/search?q=Europe%20now%20has%20its%20own%20Green%20New%20Deal\">web</a> | <a href=\"item?id=21770874\">1&nbsp;comment</a>              </td></tr>\\n      <tr class=\"spacer\" style=\"height:5px\"></tr>\\n                <tr class=\\'athing\\' id=\\'21770871\\'>\\n      <td align=\"right\" valign=\"top\" class=\"title\"><span class=\"rank\">19.</span></td>      <td valign=\"top\" class=\"votelinks\"><center><a id=\\'up_21770871\\' href=\\'vote?id=21770871&amp;how=up&amp;goto=newest\\'><div class=\\'votearrow\\' title=\\'upvote\\'></div></a></center></td><td class=\"title\"><a href=\"https://jan.rychter.com/enblog/cloud-server-cpu-performance-comparison-2019-12-12\" class=\"storylink\" rel=\"nofollow\">Cloud server CPU performance comparison</a><span class=\"sitebit comhead\"> (<a href=\"from?site=rychter.com\"><span class=\"sitestr\">rychter.com</span></a>)</span></td></tr><tr><td colspan=\"2\"></td><td class=\"subtext\">\\n        <span class=\"score\" id=\"score_21770871\">1 point</span> by <a href=\"user?id=jwr\" class=\"hnuser\">jwr</a> <span class=\"age\"><a href=\"item?id=21770871\">27 minutes ago</a></span> <span id=\"unv_21770871\"></span> | <a href=\"hide?id=21770871&amp;goto=newest\">hide</a> | <a href=\"https://hn.algolia.com/?query=Cloud%20server%20CPU%20performance%20comparison&sort=byDate&dateRange=all&type=story&storyText=false&prefix&page=0\" class=\"hnpast\">past</a> | <a href=\"https://www.google.com/search?q=Cloud%20server%20CPU%20performance%20comparison\">web</a> | <a href=\"item?id=21770871\">discuss</a>              </td></tr>\\n      <tr class=\"spacer\" style=\"height:5px\"></tr>\\n                <tr class=\\'athing\\' id=\\'21770868\\'>\\n      <td align=\"right\" valign=\"top\" class=\"title\"><span class=\"rank\">20.</span></td>      <td valign=\"top\" class=\"votelinks\"><center><a id=\\'up_21770868\\' href=\\'vote?id=21770868&amp;how=up&amp;goto=newest\\'><div class=\\'votearrow\\' title=\\'upvote\\'></div></a></center></td><td class=\"title\"><a href=\"https://gitlab.com/keychest/keychestamp\" class=\"storylink\" rel=\"nofollow\">Show HN: ACMEv2 proxy producing JSON logs</a><span class=\"sitebit comhead\"> (<a href=\"from?site=gitlab.com\"><span class=\"sitestr\">gitlab.com</span></a>)</span></td></tr><tr><td colspan=\"2\"></td><td class=\"subtext\">\\n        <span class=\"score\" id=\"score_21770868\">1 point</span> by <a href=\"user?id=dc352\" class=\"hnuser\">dc352</a> <span class=\"age\"><a href=\"item?id=21770868\">27 minutes ago</a></span> <span id=\"unv_21770868\"></span> | <a href=\"hide?id=21770868&amp;goto=newest\">hide</a> | <a href=\"https://hn.algolia.com/?query=Show%20HN%3A%20ACMEv2%20proxy%20producing%20JSON%20logs&sort=byDate&dateRange=all&type=story&storyText=false&prefix&page=0\" class=\"hnpast\">past</a> | <a href=\"https://www.google.com/search?q=Show%20HN%3A%20ACMEv2%20proxy%20producing%20JSON%20logs\">web</a> | <a href=\"item?id=21770868\">discuss</a>              </td></tr>\\n      <tr class=\"spacer\" style=\"height:5px\"></tr>\\n                <tr class=\\'athing\\' id=\\'21770864\\'>\\n      <td align=\"right\" valign=\"top\" class=\"title\"><span class=\"rank\">21.</span></td>      <td valign=\"top\" class=\"votelinks\"><center><a id=\\'up_21770864\\' href=\\'vote?id=21770864&amp;how=up&amp;goto=newest\\'><div class=\\'votearrow\\' title=\\'upvote\\'></div></a></center></td><td class=\"title\"><a href=\"https://boingboing.net/2019/12/11/wilson-and-sheas-illuminatus.html\" class=\"storylink\" rel=\"nofollow\">Illuminatus trilogy to become TV series</a><span class=\"sitebit comhead\"> (<a href=\"from?site=boingboing.net\"><span class=\"sitestr\">boingboing.net</span></a>)</span></td></tr><tr><td colspan=\"2\"></td><td class=\"subtext\">\\n        <span class=\"score\" id=\"score_21770864\">1 point</span> by <a href=\"user?id=chippy\" class=\"hnuser\">chippy</a> <span class=\"age\"><a href=\"item?id=21770864\">28 minutes ago</a></span> <span id=\"unv_21770864\"></span> | <a href=\"hide?id=21770864&amp;goto=newest\">hide</a> | <a href=\"https://hn.algolia.com/?query=Illuminatus%20trilogy%20to%20become%20TV%20series&sort=byDate&dateRange=all&type=story&storyText=false&prefix&page=0\" class=\"hnpast\">past</a> | <a href=\"https://www.google.com/search?q=Illuminatus%20trilogy%20to%20become%20TV%20series\">web</a> | <a href=\"item?id=21770864\">discuss</a>              </td></tr>\\n      <tr class=\"spacer\" style=\"height:5px\"></tr>\\n                <tr class=\\'athing\\' id=\\'21770846\\'>\\n      <td align=\"right\" valign=\"top\" class=\"title\"><span class=\"rank\">22.</span></td>      <td valign=\"top\" class=\"votelinks\"><center><a id=\\'up_21770846\\' href=\\'vote?id=21770846&amp;how=up&amp;goto=newest\\'><div class=\\'votearrow\\' title=\\'upvote\\'></div></a></center></td><td class=\"title\"><a href=\"https://get.customerly.io/saascsy\" class=\"storylink\" rel=\"nofollow\">Strategies for an Effective SaaS Customer Service</a><span class=\"sitebit comhead\"> (<a href=\"from?site=customerly.io\"><span class=\"sitestr\">customerly.io</span></a>)</span></td></tr><tr><td colspan=\"2\"></td><td class=\"subtext\">\\n        <span class=\"score\" id=\"score_21770846\">1 point</span> by <a href=\"user?id=mbp94\" class=\"hnuser\">mbp94</a> <span class=\"age\"><a href=\"item?id=21770846\">34 minutes ago</a></span> <span id=\"unv_21770846\"></span> | <a href=\"hide?id=21770846&amp;goto=newest\">hide</a> | <a href=\"https://hn.algolia.com/?query=Strategies%20for%20an%20Effective%20SaaS%20Customer%20Service&sort=byDate&dateRange=all&type=story&storyText=false&prefix&page=0\" class=\"hnpast\">past</a> | <a href=\"https://www.google.com/search?q=Strategies%20for%20an%20Effective%20SaaS%20Customer%20Service\">web</a> | <a href=\"item?id=21770846\">discuss</a>              </td></tr>\\n      <tr class=\"spacer\" style=\"height:5px\"></tr>\\n                <tr class=\\'athing\\' id=\\'21770844\\'>\\n      <td align=\"right\" valign=\"top\" class=\"title\"><span class=\"rank\">23.</span></td>      <td valign=\"top\" class=\"votelinks\"><center><a id=\\'up_21770844\\' href=\\'vote?id=21770844&amp;how=up&amp;goto=newest\\'><div class=\\'votearrow\\' title=\\'upvote\\'></div></a></center></td><td class=\"title\"><a href=\"https://elpass.zendesk.com/hc/en-us/articles/360037660831-How-Elpass-Encrypt-Your-Data\" class=\"storylink\" rel=\"nofollow\">Elpass Encrypt Your Data</a><span class=\"sitebit comhead\"> (<a href=\"from?site=zendesk.com\"><span class=\"sitestr\">zendesk.com</span></a>)</span></td></tr><tr><td colspan=\"2\"></td><td class=\"subtext\">\\n        <span class=\"score\" id=\"score_21770844\">1 point</span> by <a href=\"user?id=bfishadow\" class=\"hnuser\">bfishadow</a> <span class=\"age\"><a href=\"item?id=21770844\">34 minutes ago</a></span> <span id=\"unv_21770844\"></span> | <a href=\"hide?id=21770844&amp;goto=newest\">hide</a> | <a href=\"https://hn.algolia.com/?query=Elpass%20Encrypt%20Your%20Data&sort=byDate&dateRange=all&type=story&storyText=false&prefix&page=0\" class=\"hnpast\">past</a> | <a href=\"https://www.google.com/search?q=Elpass%20Encrypt%20Your%20Data\">web</a> | <a href=\"item?id=21770844\">discuss</a>              </td></tr>\\n      <tr class=\"spacer\" style=\"height:5px\"></tr>\\n                <tr class=\\'athing\\' id=\\'21770838\\'>\\n      <td align=\"right\" valign=\"top\" class=\"title\"><span class=\"rank\">24.</span></td>      <td valign=\"top\" class=\"votelinks\"><center><a id=\\'up_21770838\\' href=\\'vote?id=21770838&amp;how=up&amp;goto=newest\\'><div class=\\'votearrow\\' title=\\'upvote\\'></div></a></center></td><td class=\"title\"><a href=\"https://en.wikipedia.org/wiki/Madhava_of_Sangamagrama\" class=\"storylink\" rel=\"nofollow\">Madhava of Sangamagrama</a><span class=\"sitebit comhead\"> (<a href=\"from?site=wikipedia.org\"><span class=\"sitestr\">wikipedia.org</span></a>)</span></td></tr><tr><td colspan=\"2\"></td><td class=\"subtext\">\\n        <span class=\"score\" id=\"score_21770838\">1 point</span> by <a href=\"user?id=tmalsburg2\" class=\"hnuser\">tmalsburg2</a> <span class=\"age\"><a href=\"item?id=21770838\">36 minutes ago</a></span> <span id=\"unv_21770838\"></span> | <a href=\"hide?id=21770838&amp;goto=newest\">hide</a> | <a href=\"https://hn.algolia.com/?query=Madhava%20of%20Sangamagrama&sort=byDate&dateRange=all&type=story&storyText=false&prefix&page=0\" class=\"hnpast\">past</a> | <a href=\"https://www.google.com/search?q=Madhava%20of%20Sangamagrama\">web</a> | <a href=\"item?id=21770838\">discuss</a>              </td></tr>\\n      <tr class=\"spacer\" style=\"height:5px\"></tr>\\n                <tr class=\\'athing\\' id=\\'21770819\\'>\\n      <td align=\"right\" valign=\"top\" class=\"title\"><span class=\"rank\">25.</span></td>      <td valign=\"top\" class=\"votelinks\"><center><a id=\\'up_21770819\\' href=\\'vote?id=21770819&amp;how=up&amp;goto=newest\\'><div class=\\'votearrow\\' title=\\'upvote\\'></div></a></center></td><td class=\"title\"><a href=\"https://www.thelancet.com/journals/lanplh/article/PIIS2542-5196(19)30245-1/fulltext\" class=\"storylink\" rel=\"nofollow\">Scientists call for renewed Paris pledges to transform agriculture</a><span class=\"sitebit comhead\"> (<a href=\"from?site=thelancet.com\"><span class=\"sitestr\">thelancet.com</span></a>)</span></td></tr><tr><td colspan=\"2\"></td><td class=\"subtext\">\\n        <span class=\"score\" id=\"score_21770819\">1 point</span> by <a href=\"user?id=YeGoblynQueenne\" class=\"hnuser\">YeGoblynQueenne</a> <span class=\"age\"><a href=\"item?id=21770819\">44 minutes ago</a></span> <span id=\"unv_21770819\"></span> | <a href=\"hide?id=21770819&amp;goto=newest\">hide</a> | <a href=\"https://hn.algolia.com/?query=Scientists%20call%20for%20renewed%20Paris%20pledges%20to%20transform%20agriculture&sort=byDate&dateRange=all&type=story&storyText=false&prefix&page=0\" class=\"hnpast\">past</a> | <a href=\"https://www.google.com/search?q=Scientists%20call%20for%20renewed%20Paris%20pledges%20to%20transform%20agriculture\">web</a> | <a href=\"item?id=21770819\">discuss</a>              </td></tr>\\n      <tr class=\"spacer\" style=\"height:5px\"></tr>\\n                <tr class=\\'athing\\' id=\\'21770806\\'>\\n      <td align=\"right\" valign=\"top\" class=\"title\"><span class=\"rank\">26.</span></td>      <td valign=\"top\" class=\"votelinks\"><center><a id=\\'up_21770806\\' href=\\'vote?id=21770806&amp;how=up&amp;goto=newest\\'><div class=\\'votearrow\\' title=\\'upvote\\'></div></a></center></td><td class=\"title\"><a href=\"https://medium.com/@PurpleGreenLemon/the-2020-starter-guide-to-breaking-into-programming-for-beginners-950c1f5a7f44\" class=\"storylink\" rel=\"nofollow\">Starter Guide to Breaking into Programming for Beginners</a><span class=\"sitebit comhead\"> (<a href=\"from?site=medium.com\"><span class=\"sitestr\">medium.com</span></a>)</span></td></tr><tr><td colspan=\"2\"></td><td class=\"subtext\">\\n        <span class=\"score\" id=\"score_21770806\">1 point</span> by <a href=\"user?id=donutking\" class=\"hnuser\">donutking</a> <span class=\"age\"><a href=\"item?id=21770806\">49 minutes ago</a></span> <span id=\"unv_21770806\"></span> | <a href=\"hide?id=21770806&amp;goto=newest\">hide</a> | <a href=\"https://hn.algolia.com/?query=Starter%20Guide%20to%20Breaking%20into%20Programming%20for%20Beginners&sort=byDate&dateRange=all&type=story&storyText=false&prefix&page=0\" class=\"hnpast\">past</a> | <a href=\"https://www.google.com/search?q=Starter%20Guide%20to%20Breaking%20into%20Programming%20for%20Beginners\">web</a> | <a href=\"item?id=21770806\">discuss</a>              </td></tr>\\n      <tr class=\"spacer\" style=\"height:5px\"></tr>\\n                <tr class=\\'athing\\' id=\\'21770786\\'>\\n      <td align=\"right\" valign=\"top\" class=\"title\"><span class=\"rank\">27.</span></td>      <td valign=\"top\" class=\"votelinks\"><center><a id=\\'up_21770786\\' href=\\'vote?id=21770786&amp;how=up&amp;goto=newest\\'><div class=\\'votearrow\\' title=\\'upvote\\'></div></a></center></td><td class=\"title\"><a href=\"https://github.com/CASES-LU/MOSP/blob/master/.github/workflows/pythonapp.yml\" class=\"storylink\" rel=\"nofollow\">Easily run your tests with GitHub actions, PostgreSQL and pytest</a><span class=\"sitebit comhead\"> (<a href=\"from?site=github.com\"><span class=\"sitestr\">github.com</span></a>)</span></td></tr><tr><td colspan=\"2\"></td><td class=\"subtext\">\\n        <span class=\"score\" id=\"score_21770786\">2 points</span> by <a href=\"user?id=cedricbonhomme\" class=\"hnuser\">cedricbonhomme</a> <span class=\"age\"><a href=\"item?id=21770786\">57 minutes ago</a></span> <span id=\"unv_21770786\"></span> | <a href=\"hide?id=21770786&amp;goto=newest\">hide</a> | <a href=\"https://hn.algolia.com/?query=Easily%20run%20your%20tests%20with%20GitHub%20actions%2C%20PostgreSQL%20and%20pytest&sort=byDate&dateRange=all&type=story&storyText=false&prefix&page=0\" class=\"hnpast\">past</a> | <a href=\"https://www.google.com/search?q=Easily%20run%20your%20tests%20with%20GitHub%20actions%2C%20PostgreSQL%20and%20pytest\">web</a> | <a href=\"item?id=21770786\">discuss</a>              </td></tr>\\n      <tr class=\"spacer\" style=\"height:5px\"></tr>\\n                <tr class=\\'athing\\' id=\\'21770776\\'>\\n      <td align=\"right\" valign=\"top\" class=\"title\"><span class=\"rank\">28.</span></td>      <td valign=\"top\" class=\"votelinks\"><center><a id=\\'up_21770776\\' href=\\'vote?id=21770776&amp;how=up&amp;goto=newest\\'><div class=\\'votearrow\\' title=\\'upvote\\'></div></a></center></td><td class=\"title\"><a href=\"https://github.com/DaemonSnake/unconstexpr-cpp20\" class=\"storylink\" rel=\"nofollow\">C++20 Mutable Constexpr</a><span class=\"sitebit comhead\"> (<a href=\"from?site=github.com\"><span class=\"sitestr\">github.com</span></a>)</span></td></tr><tr><td colspan=\"2\"></td><td class=\"subtext\">\\n        <span class=\"score\" id=\"score_21770776\">1 point</span> by <a href=\"user?id=agluszak\" class=\"hnuser\">agluszak</a> <span class=\"age\"><a href=\"item?id=21770776\">59 minutes ago</a></span> <span id=\"unv_21770776\"></span> | <a href=\"hide?id=21770776&amp;goto=newest\">hide</a> | <a href=\"https://hn.algolia.com/?query=C%2B%2B20%20Mutable%20Constexpr&sort=byDate&dateRange=all&type=story&storyText=false&prefix&page=0\" class=\"hnpast\">past</a> | <a href=\"https://www.google.com/search?q=C%2B%2B20%20Mutable%20Constexpr\">web</a> | <a href=\"item?id=21770776\">discuss</a>              </td></tr>\\n      <tr class=\"spacer\" style=\"height:5px\"></tr>\\n                <tr class=\\'athing\\' id=\\'21770771\\'>\\n      <td align=\"right\" valign=\"top\" class=\"title\"><span class=\"rank\">29.</span></td>      <td valign=\"top\" class=\"votelinks\"><center><a id=\\'up_21770771\\' href=\\'vote?id=21770771&amp;how=up&amp;goto=newest\\'><div class=\\'votearrow\\' title=\\'upvote\\'></div></a></center></td><td class=\"title\"><a href=\"https://blog.cloudflare.com/new-tools-to-monitor-your-server-and-avoid-downtime/\" class=\"storylink\" rel=\"nofollow\">New tools to monitor your server and avoid downtime</a><span class=\"sitebit comhead\"> (<a href=\"from?site=cloudflare.com\"><span class=\"sitestr\">cloudflare.com</span></a>)</span></td></tr><tr><td colspan=\"2\"></td><td class=\"subtext\">\\n        <span class=\"score\" id=\"score_21770771\">2 points</span> by <a href=\"user?id=chmaynard\" class=\"hnuser\">chmaynard</a> <span class=\"age\"><a href=\"item?id=21770771\">1 hour ago</a></span> <span id=\"unv_21770771\"></span> | <a href=\"hide?id=21770771&amp;goto=newest\">hide</a> | <a href=\"https://hn.algolia.com/?query=New%20tools%20to%20monitor%20your%20server%20and%20avoid%20downtime&sort=byDate&dateRange=all&type=story&storyText=false&prefix&page=0\" class=\"hnpast\">past</a> | <a href=\"https://www.google.com/search?q=New%20tools%20to%20monitor%20your%20server%20and%20avoid%20downtime\">web</a> | <a href=\"item?id=21770771\">discuss</a>              </td></tr>\\n      <tr class=\"spacer\" style=\"height:5px\"></tr>\\n                <tr class=\\'athing\\' id=\\'21770764\\'>\\n      <td align=\"right\" valign=\"top\" class=\"title\"><span class=\"rank\">30.</span></td>      <td valign=\"top\" class=\"votelinks\"><center><a id=\\'up_21770764\\' href=\\'vote?id=21770764&amp;how=up&amp;goto=newest\\'><div class=\\'votearrow\\' title=\\'upvote\\'></div></a></center></td><td class=\"title\"><a href=\"https://drewdevault.com/2019/12/09/Developers-shouldnt-distribute.html\" class=\"storylink\" rel=\"nofollow\">Developers shouldn\\xe2\\x80\\x99t distribute their own software</a><span class=\"sitebit comhead\"> (<a href=\"from?site=drewdevault.com\"><span class=\"sitestr\">drewdevault.com</span></a>)</span></td></tr><tr><td colspan=\"2\"></td><td class=\"subtext\">\\n        <span class=\"score\" id=\"score_21770764\">2 points</span> by <a href=\"user?id=chmaynard\" class=\"hnuser\">chmaynard</a> <span class=\"age\"><a href=\"item?id=21770764\">1 hour ago</a></span> <span id=\"unv_21770764\"></span> | <a href=\"hide?id=21770764&amp;goto=newest\">hide</a> | <a href=\"https://hn.algolia.com/?query=Developers%20shouldn%E2%80%99t%20distribute%20their%20own%20software&sort=byDate&dateRange=all&type=story&storyText=false&prefix&page=0\" class=\"hnpast\">past</a> | <a href=\"https://www.google.com/search?q=Developers%20shouldn%E2%80%99t%20distribute%20their%20own%20software\">web</a> | <a href=\"item?id=21770764\">1&nbsp;comment</a>              </td></tr>\\n      <tr class=\"spacer\" style=\"height:5px\"></tr>\\n            <tr class=\"morespace\" style=\"height:10px\"></tr><tr><td colspan=\"2\"></td><td class=\"title\"><a href=\"newest?next=21770757&amp;n=31\" class=\"morelink\" rel=\"next\">More</a></td></tr>\\n  </table>\\n</td></tr>\\n<tr><td><img src=\"s.gif\" height=\"10\" width=\"0\"><table width=\"100%\" cellspacing=\"0\" cellpadding=\"1\"><tr><td bgcolor=\"#ff6600\"></td></tr></table><br><center><span class=\"yclinks\"><a href=\"newsguidelines.html\">Guidelines</a>\\n        | <a href=\"newsfaq.html\">FAQ</a>\\n        | <a href=\"mailto:hn@ycombinator.com\">Support</a>\\n        | <a href=\"https://github.com/HackerNews/API\">API</a>\\n        | <a href=\"security.html\">Security</a>\\n        | <a href=\"lists\">Lists</a>\\n        | <a href=\"bookmarklet.html\" rel=\"nofollow\">Bookmarklet</a>\\n        | <a href=\"http://www.ycombinator.com/legal/\">Legal</a>\\n        | <a href=\"http://www.ycombinator.com/apply/\">Apply to YC</a>\\n        | <a href=\"mailto:hn@ycombinator.com\">Contact</a></span><br><br><form method=\"get\" action=\"//hn.algolia.com/\">Search:\\n          <input type=\"text\" name=\"q\" value=\"\" size=\"17\" autocorrect=\"off\" spellcheck=\"false\" autocapitalize=\"off\" autocomplete=\"false\"></form>\\n            </center></td></tr>\\n      </table></center></body><script type=\\'text/javascript\\' src=\\'hn.js?bf9JyQjnS7iehVl5TlRD\\'></script></html>\\n'\n",
            "['newest?next=21770757&n=31']\n",
            "Rank              30\n",
            "Title             30\n",
            "domain            30\n",
            "posted_by_user    30\n",
            "url               30\n",
            "num_comments      30\n",
            "num_upvotes       30\n",
            "date_created      30\n",
            "dtype: int64\n",
            "https://news.ycombinator.com/newest?next=21770757&n=31\n",
            "b'<html op=\"newest\"><head><meta name=\"referrer\" content=\"origin\"><meta name=\"viewport\" content=\"width=device-width, initial-scale=1.0\"><link rel=\"stylesheet\" type=\"text/css\" href=\"news.css?bf9JyQjnS7iehVl5TlRD\">\\n        <link rel=\"shortcut icon\" href=\"favicon.ico\">\\n        <title>New Links | Hacker News</title></head><body><center><table id=\"hnmain\" border=\"0\" cellpadding=\"0\" cellspacing=\"0\" width=\"85%\" bgcolor=\"#f6f6ef\">\\n        <tr><td bgcolor=\"#ff6600\"><table border=\"0\" cellpadding=\"0\" cellspacing=\"0\" width=\"100%\" style=\"padding:2px\"><tr><td style=\"width:18px;padding-right:4px\"><a href=\"https://news.ycombinator.com\"><img src=\"y18.gif\" width=\"18\" height=\"18\" style=\"border:1px white solid;\"></a></td>\\n                  <td style=\"line-height:12pt; height:10px;\"><span class=\"pagetop\"><b class=\"hnname\"><a href=\"news\">Hacker News</a></b>\\n              <span class=\"topsel\"><a href=\"newest\">new</a></span> | <a href=\"front\">past</a> | <a href=\"newcomments\">comments</a> | <a href=\"ask\">ask</a> | <a href=\"show\">show</a> | <a href=\"jobs\">jobs</a> | <a href=\"submit\">submit</a>            </span></td><td style=\"text-align:right;padding-right:4px;\"><span class=\"pagetop\">\\n                              <a href=\"login?goto=newest%3Fn%3D31%26next%3D21770757\">login</a>\\n                          </span></td>\\n              </tr></table></td></tr>\\n<tr id=\"pagespace\" title=\"New Links\" style=\"height:10px\"></tr><tr><td><table border=\"0\" cellpadding=\"0\" cellspacing=\"0\" class=\"itemlist\">\\n              <tr class=\\'athing\\' id=\\'21770757\\'>\\n      <td align=\"right\" valign=\"top\" class=\"title\"><span class=\"rank\">31.</span></td>      <td valign=\"top\" class=\"votelinks\"><center><a id=\\'up_21770757\\' href=\\'vote?id=21770757&amp;how=up&amp;goto=newest%3Fn%3D31%26next%3D21770757\\'><div class=\\'votearrow\\' title=\\'upvote\\'></div></a></center></td><td class=\"title\"><a href=\"https://entrepreneurshandbook.co/the-ultimate-guide-to-get-started-on-your-business-idea-6cca5e382d9b?source=friends_link&amp;sk=02c2d5430d09771c17d7dd28b471462d\" class=\"storylink\" rel=\"nofollow\">The Ultimate Guide to Get Started on Your Business Idea</a><span class=\"sitebit comhead\"> (<a href=\"from?site=entrepreneurshandbook.co\"><span class=\"sitestr\">entrepreneurshandbook.co</span></a>)</span></td></tr><tr><td colspan=\"2\"></td><td class=\"subtext\">\\n        <span class=\"score\" id=\"score_21770757\">1 point</span> by <a href=\"user?id=lizhuber\" class=\"hnuser\">lizhuber</a> <span class=\"age\"><a href=\"item?id=21770757\">1 hour ago</a></span> <span id=\"unv_21770757\"></span> | <a href=\"hide?id=21770757&amp;goto=newest%3Fn%3D31%26next%3D21770757\">hide</a> | <a href=\"https://hn.algolia.com/?query=The%20Ultimate%20Guide%20to%20Get%20Started%20on%20Your%20Business%20Idea&sort=byDate&dateRange=all&type=story&storyText=false&prefix&page=0\" class=\"hnpast\">past</a> | <a href=\"https://www.google.com/search?q=The%20Ultimate%20Guide%20to%20Get%20Started%20on%20Your%20Business%20Idea\">web</a> | <a href=\"item?id=21770757\">discuss</a>              </td></tr>\\n      <tr class=\"spacer\" style=\"height:5px\"></tr>\\n                <tr class=\\'athing\\' id=\\'21770753\\'>\\n      <td align=\"right\" valign=\"top\" class=\"title\"><span class=\"rank\">32.</span></td>      <td valign=\"top\" class=\"votelinks\"><center><a id=\\'up_21770753\\' href=\\'vote?id=21770753&amp;how=up&amp;goto=newest%3Fn%3D31%26next%3D21770757\\'><div class=\\'votearrow\\' title=\\'upvote\\'></div></a></center></td><td class=\"title\"><a href=\"https://xkcd.com/1732/\" class=\"storylink\">Earth Temperature Timeline</a><span class=\"sitebit comhead\"> (<a href=\"from?site=xkcd.com\"><span class=\"sitestr\">xkcd.com</span></a>)</span></td></tr><tr><td colspan=\"2\"></td><td class=\"subtext\">\\n        <span class=\"score\" id=\"score_21770753\">13 points</span> by <a href=\"user?id=alanfranz\" class=\"hnuser\">alanfranz</a> <span class=\"age\"><a href=\"item?id=21770753\">1 hour ago</a></span> <span id=\"unv_21770753\"></span> | <a href=\"hide?id=21770753&amp;goto=newest%3Fn%3D31%26next%3D21770757\">hide</a> | <a href=\"https://hn.algolia.com/?query=Earth%20Temperature%20Timeline&sort=byDate&dateRange=all&type=story&storyText=false&prefix&page=0\" class=\"hnpast\">past</a> | <a href=\"https://www.google.com/search?q=Earth%20Temperature%20Timeline\">web</a> | <a href=\"item?id=21770753\">2&nbsp;comments</a>              </td></tr>\\n      <tr class=\"spacer\" style=\"height:5px\"></tr>\\n                <tr class=\\'athing\\' id=\\'21770752\\'>\\n      <td align=\"right\" valign=\"top\" class=\"title\"><span class=\"rank\">33.</span></td>      <td valign=\"top\" class=\"votelinks\"><center><a id=\\'up_21770752\\' href=\\'vote?id=21770752&amp;how=up&amp;goto=newest%3Fn%3D31%26next%3D21770757\\'><div class=\\'votearrow\\' title=\\'upvote\\'></div></a></center></td><td class=\"title\"><a href=\"https://uploadvr.com/facebook-ads-vr/\" class=\"storylink\">If Logged into Facebook, Oculus VR Data Will Now Be Used for Ads</a><span class=\"sitebit comhead\"> (<a href=\"from?site=uploadvr.com\"><span class=\"sitestr\">uploadvr.com</span></a>)</span></td></tr><tr><td colspan=\"2\"></td><td class=\"subtext\">\\n        <span class=\"score\" id=\"score_21770752\">9 points</span> by <a href=\"user?id=Larrikin\" class=\"hnuser\">Larrikin</a> <span class=\"age\"><a href=\"item?id=21770752\">1 hour ago</a></span> <span id=\"unv_21770752\"></span> | <a href=\"hide?id=21770752&amp;goto=newest%3Fn%3D31%26next%3D21770757\">hide</a> | <a href=\"https://hn.algolia.com/?query=If%20Logged%20into%20Facebook%2C%20Oculus%20VR%20Data%20Will%20Now%20Be%20Used%20for%20Ads&sort=byDate&dateRange=all&type=story&storyText=false&prefix&page=0\" class=\"hnpast\">past</a> | <a href=\"https://www.google.com/search?q=If%20Logged%20into%20Facebook%2C%20Oculus%20VR%20Data%20Will%20Now%20Be%20Used%20for%20Ads\">web</a> | <a href=\"item?id=21770752\">1&nbsp;comment</a>              </td></tr>\\n      <tr class=\"spacer\" style=\"height:5px\"></tr>\\n                <tr class=\\'athing\\' id=\\'21770747\\'>\\n      <td align=\"right\" valign=\"top\" class=\"title\"><span class=\"rank\">34.</span></td>      <td valign=\"top\" class=\"votelinks\"><center><a id=\\'up_21770747\\' href=\\'vote?id=21770747&amp;how=up&amp;goto=newest%3Fn%3D31%26next%3D21770757\\'><div class=\\'votearrow\\' title=\\'upvote\\'></div></a></center></td><td class=\"title\"><a href=\"https://f3fundit.com/apple-product-innovation-guidelines-iphone/\" class=\"storylink\" rel=\"nofollow\">Apple\\xe2\\x80\\x99s Guidelines to Product Innovation</a><span class=\"sitebit comhead\"> (<a href=\"from?site=f3fundit.com\"><span class=\"sitestr\">f3fundit.com</span></a>)</span></td></tr><tr><td colspan=\"2\"></td><td class=\"subtext\">\\n        <span class=\"score\" id=\"score_21770747\">1 point</span> by <a href=\"user?id=mertnesvat\" class=\"hnuser\">mertnesvat</a> <span class=\"age\"><a href=\"item?id=21770747\">1 hour ago</a></span> <span id=\"unv_21770747\"></span> | <a href=\"hide?id=21770747&amp;goto=newest%3Fn%3D31%26next%3D21770757\">hide</a> | <a href=\"https://hn.algolia.com/?query=Apple%E2%80%99s%20Guidelines%20to%20Product%20Innovation&sort=byDate&dateRange=all&type=story&storyText=false&prefix&page=0\" class=\"hnpast\">past</a> | <a href=\"https://www.google.com/search?q=Apple%E2%80%99s%20Guidelines%20to%20Product%20Innovation\">web</a> | <a href=\"item?id=21770747\">discuss</a>              </td></tr>\\n      <tr class=\"spacer\" style=\"height:5px\"></tr>\\n                <tr class=\\'athing\\' id=\\'21770741\\'>\\n      <td align=\"right\" valign=\"top\" class=\"title\"><span class=\"rank\">35.</span></td>      <td valign=\"top\" class=\"votelinks\"><center><a id=\\'up_21770741\\' href=\\'vote?id=21770741&amp;how=up&amp;goto=newest%3Fn%3D31%26next%3D21770757\\'><div class=\\'votearrow\\' title=\\'upvote\\'></div></a></center></td><td class=\"title\"><a href=\"https://daedtech.com/coders-in-the-hands-of-a-missing-god-how-newly-minted-freelancers-badly-miss-the-point/\" class=\"storylink\" rel=\"nofollow\">New freelancers badly miss the point</a><span class=\"sitebit comhead\"> (<a href=\"from?site=daedtech.com\"><span class=\"sitestr\">daedtech.com</span></a>)</span></td></tr><tr><td colspan=\"2\"></td><td class=\"subtext\">\\n        <span class=\"score\" id=\"score_21770741\">3 points</span> by <a href=\"user?id=galfarragem\" class=\"hnuser\">galfarragem</a> <span class=\"age\"><a href=\"item?id=21770741\">1 hour ago</a></span> <span id=\"unv_21770741\"></span> | <a href=\"hide?id=21770741&amp;goto=newest%3Fn%3D31%26next%3D21770757\">hide</a> | <a href=\"https://hn.algolia.com/?query=New%20freelancers%20badly%20miss%20the%20point&sort=byDate&dateRange=all&type=story&storyText=false&prefix&page=0\" class=\"hnpast\">past</a> | <a href=\"https://www.google.com/search?q=New%20freelancers%20badly%20miss%20the%20point\">web</a> | <a href=\"item?id=21770741\">discuss</a>              </td></tr>\\n      <tr class=\"spacer\" style=\"height:5px\"></tr>\\n                <tr class=\\'athing\\' id=\\'21770737\\'>\\n      <td align=\"right\" valign=\"top\" class=\"title\"><span class=\"rank\">36.</span></td>      <td valign=\"top\" class=\"votelinks\"><center><a id=\\'up_21770737\\' href=\\'vote?id=21770737&amp;how=up&amp;goto=newest%3Fn%3D31%26next%3D21770757\\'><div class=\\'votearrow\\' title=\\'upvote\\'></div></a></center></td><td class=\"title\"><a href=\"https://www.hpcwire.com/2019/12/11/rpi-powers-up-aimos-ai-supercomputer/\" class=\"storylink\" rel=\"nofollow\">RPI Powers Up \\'AiMOS\\' AI Supercomputer</a><span class=\"sitebit comhead\"> (<a href=\"from?site=hpcwire.com\"><span class=\"sitestr\">hpcwire.com</span></a>)</span></td></tr><tr><td colspan=\"2\"></td><td class=\"subtext\">\\n        <span class=\"score\" id=\"score_21770737\">1 point</span> by <a href=\"user?id=rbanffy\" class=\"hnuser\">rbanffy</a> <span class=\"age\"><a href=\"item?id=21770737\">1 hour ago</a></span> <span id=\"unv_21770737\"></span> | <a href=\"hide?id=21770737&amp;goto=newest%3Fn%3D31%26next%3D21770757\">hide</a> | <a href=\"https://hn.algolia.com/?query=RPI%20Powers%20Up%20\\'AiMOS\\'%20AI%20Supercomputer&sort=byDate&dateRange=all&type=story&storyText=false&prefix&page=0\" class=\"hnpast\">past</a> | <a href=\"https://www.google.com/search?q=RPI%20Powers%20Up%20\\'AiMOS\\'%20AI%20Supercomputer\">web</a> | <a href=\"item?id=21770737\">discuss</a>              </td></tr>\\n      <tr class=\"spacer\" style=\"height:5px\"></tr>\\n                <tr class=\\'athing\\' id=\\'21770735\\'>\\n      <td align=\"right\" valign=\"top\" class=\"title\"><span class=\"rank\">37.</span></td>      <td valign=\"top\" class=\"votelinks\"><center><a id=\\'up_21770735\\' href=\\'vote?id=21770735&amp;how=up&amp;goto=newest%3Fn%3D31%26next%3D21770757\\'><div class=\\'votearrow\\' title=\\'upvote\\'></div></a></center></td><td class=\"title\"><a href=\"https://fs.blog/2019/12/tradeoffs-decision-making/\" class=\"storylink\" rel=\"nofollow\">Tradeoffs: The Currency of Decision Making</a><span class=\"sitebit comhead\"> (<a href=\"from?site=fs.blog\"><span class=\"sitestr\">fs.blog</span></a>)</span></td></tr><tr><td colspan=\"2\"></td><td class=\"subtext\">\\n        <span class=\"score\" id=\"score_21770735\">2 points</span> by <a href=\"user?id=alanfranz\" class=\"hnuser\">alanfranz</a> <span class=\"age\"><a href=\"item?id=21770735\">1 hour ago</a></span> <span id=\"unv_21770735\"></span> | <a href=\"hide?id=21770735&amp;goto=newest%3Fn%3D31%26next%3D21770757\">hide</a> | <a href=\"https://hn.algolia.com/?query=Tradeoffs%3A%20The%20Currency%20of%20Decision%20Making&sort=byDate&dateRange=all&type=story&storyText=false&prefix&page=0\" class=\"hnpast\">past</a> | <a href=\"https://www.google.com/search?q=Tradeoffs%3A%20The%20Currency%20of%20Decision%20Making\">web</a> | <a href=\"item?id=21770735\">discuss</a>              </td></tr>\\n      <tr class=\"spacer\" style=\"height:5px\"></tr>\\n                <tr class=\\'athing\\' id=\\'21770733\\'>\\n      <td align=\"right\" valign=\"top\" class=\"title\"><span class=\"rank\">38.</span></td>      <td valign=\"top\" class=\"votelinks\"><center><a id=\\'up_21770733\\' href=\\'vote?id=21770733&amp;how=up&amp;goto=newest%3Fn%3D31%26next%3D21770757\\'><div class=\\'votearrow\\' title=\\'upvote\\'></div></a></center></td><td class=\"title\"><a href=\"https://www.aaron-powell.com/posts/2015-02-06-writing-a-fsharp-type-provider/\" class=\"storylink\" rel=\"nofollow\">Writing an F# Type Provider</a><span class=\"sitebit comhead\"> (<a href=\"from?site=aaron-powell.com\"><span class=\"sitestr\">aaron-powell.com</span></a>)</span></td></tr><tr><td colspan=\"2\"></td><td class=\"subtext\">\\n        <span class=\"score\" id=\"score_21770733\">1 point</span> by <a href=\"user?id=adgasf\" class=\"hnuser\">adgasf</a> <span class=\"age\"><a href=\"item?id=21770733\">1 hour ago</a></span> <span id=\"unv_21770733\"></span> | <a href=\"hide?id=21770733&amp;goto=newest%3Fn%3D31%26next%3D21770757\">hide</a> | <a href=\"https://hn.algolia.com/?query=Writing%20an%20F%23%20Type%20Provider&sort=byDate&dateRange=all&type=story&storyText=false&prefix&page=0\" class=\"hnpast\">past</a> | <a href=\"https://www.google.com/search?q=Writing%20an%20F%23%20Type%20Provider\">web</a> | <a href=\"item?id=21770733\">discuss</a>              </td></tr>\\n      <tr class=\"spacer\" style=\"height:5px\"></tr>\\n                <tr class=\\'athing\\' id=\\'21770732\\'>\\n      <td align=\"right\" valign=\"top\" class=\"title\"><span class=\"rank\">39.</span></td>      <td valign=\"top\" class=\"votelinks\"><center><a id=\\'up_21770732\\' href=\\'vote?id=21770732&amp;how=up&amp;goto=newest%3Fn%3D31%26next%3D21770757\\'><div class=\\'votearrow\\' title=\\'upvote\\'></div></a></center></td><td class=\"title\"><a href=\"https://youtu.be/xnt2xSNRNn0?t=10320\" class=\"storylink\" rel=\"nofollow\">Quantum Physics Full Course \\xe2\\x80\\x93 Quantum Mechanics Course \\xe2\\x80\\x93 Part 1</a><span class=\"sitebit comhead\"> (<a href=\"from?site=youtu.be\"><span class=\"sitestr\">youtu.be</span></a>)</span></td></tr><tr><td colspan=\"2\"></td><td class=\"subtext\">\\n        <span class=\"score\" id=\"score_21770732\">2 points</span> by <a href=\"user?id=ngcc_hk\" class=\"hnuser\">ngcc_hk</a> <span class=\"age\"><a href=\"item?id=21770732\">1 hour ago</a></span> <span id=\"unv_21770732\"></span> | <a href=\"hide?id=21770732&amp;goto=newest%3Fn%3D31%26next%3D21770757\">hide</a> | <a href=\"https://hn.algolia.com/?query=Quantum%20Physics%20Full%20Course%20%E2%80%93%20Quantum%20Mechanics%20Course%20%E2%80%93%20Part%201&sort=byDate&dateRange=all&type=story&storyText=false&prefix&page=0\" class=\"hnpast\">past</a> | <a href=\"https://www.google.com/search?q=Quantum%20Physics%20Full%20Course%20%E2%80%93%20Quantum%20Mechanics%20Course%20%E2%80%93%20Part%201\">web</a> | <a href=\"item?id=21770732\">2&nbsp;comments</a>              </td></tr>\\n      <tr class=\"spacer\" style=\"height:5px\"></tr>\\n                <tr class=\\'athing\\' id=\\'21770730\\'>\\n      <td align=\"right\" valign=\"top\" class=\"title\"><span class=\"rank\">40.</span></td>      <td valign=\"top\" class=\"votelinks\"><center><a id=\\'up_21770730\\' href=\\'vote?id=21770730&amp;how=up&amp;goto=newest%3Fn%3D31%26next%3D21770757\\'><div class=\\'votearrow\\' title=\\'upvote\\'></div></a></center></td><td class=\"title\"><a href=\"https://www.hpcwire.com/2019/12/09/intels-jim-clarke-on-its-new-cryo-controller-and-why-intel-isnt-late-to-the-quantum-party/\" class=\"storylink\" rel=\"nofollow\">Jim Clarke on Its Cryo-Controller and Why Intel Isn\\xe2\\x80\\x99t Late to the Quantum Party</a><span class=\"sitebit comhead\"> (<a href=\"from?site=hpcwire.com\"><span class=\"sitestr\">hpcwire.com</span></a>)</span></td></tr><tr><td colspan=\"2\"></td><td class=\"subtext\">\\n        <span class=\"score\" id=\"score_21770730\">1 point</span> by <a href=\"user?id=rbanffy\" class=\"hnuser\">rbanffy</a> <span class=\"age\"><a href=\"item?id=21770730\">1 hour ago</a></span> <span id=\"unv_21770730\"></span> | <a href=\"hide?id=21770730&amp;goto=newest%3Fn%3D31%26next%3D21770757\">hide</a> | <a href=\"https://hn.algolia.com/?query=Jim%20Clarke%20on%20Its%20Cryo-Controller%20and%20Why%20Intel%20Isn%E2%80%99t%20Late%20to%20the%20Quantum%20Party&sort=byDate&dateRange=all&type=story&storyText=false&prefix&page=0\" class=\"hnpast\">past</a> | <a href=\"https://www.google.com/search?q=Jim%20Clarke%20on%20Its%20Cryo-Controller%20and%20Why%20Intel%20Isn%E2%80%99t%20Late%20to%20the%20Quantum%20Party\">web</a> | <a href=\"item?id=21770730\">discuss</a>              </td></tr>\\n      <tr class=\"spacer\" style=\"height:5px\"></tr>\\n                <tr class=\\'athing\\' id=\\'21770715\\'>\\n      <td align=\"right\" valign=\"top\" class=\"title\"><span class=\"rank\">41.</span></td>      <td valign=\"top\" class=\"votelinks\"><center><a id=\\'up_21770715\\' href=\\'vote?id=21770715&amp;how=up&amp;goto=newest%3Fn%3D31%26next%3D21770757\\'><div class=\\'votearrow\\' title=\\'upvote\\'></div></a></center></td><td class=\"title\"><a href=\"https://dev.to/lethargilistic/who-made-my-phone-do-this-1aan\" class=\"storylink\" rel=\"nofollow\">Who Made My Phone Do This?</a><span class=\"sitebit comhead\"> (<a href=\"from?site=dev.to\"><span class=\"sitestr\">dev.to</span></a>)</span></td></tr><tr><td colspan=\"2\"></td><td class=\"subtext\">\\n        <span class=\"score\" id=\"score_21770715\">1 point</span> by <a href=\"user?id=BerislavLopac\" class=\"hnuser\">BerislavLopac</a> <span class=\"age\"><a href=\"item?id=21770715\">1 hour ago</a></span> <span id=\"unv_21770715\"></span> | <a href=\"hide?id=21770715&amp;goto=newest%3Fn%3D31%26next%3D21770757\">hide</a> | <a href=\"https://hn.algolia.com/?query=Who%20Made%20My%20Phone%20Do%20This%3F&sort=byDate&dateRange=all&type=story&storyText=false&prefix&page=0\" class=\"hnpast\">past</a> | <a href=\"https://www.google.com/search?q=Who%20Made%20My%20Phone%20Do%20This%3F\">web</a> | <a href=\"item?id=21770715\">discuss</a>              </td></tr>\\n      <tr class=\"spacer\" style=\"height:5px\"></tr>\\n                <tr class=\\'athing\\' id=\\'21770702\\'>\\n      <td align=\"right\" valign=\"top\" class=\"title\"><span class=\"rank\">42.</span></td>      <td valign=\"top\" class=\"votelinks\"><center><a id=\\'up_21770702\\' href=\\'vote?id=21770702&amp;how=up&amp;goto=newest%3Fn%3D31%26next%3D21770757\\'><div class=\\'votearrow\\' title=\\'upvote\\'></div></a></center></td><td class=\"title\"><a href=\"https://arstechnica.com/information-technology/2019/12/scientists-pluck-crypto-keys-from-intels-sgx-by-tweaking-cpu-voltage/\" class=\"storylink\" rel=\"nofollow\">Intel\\xe2\\x80\\x99s SGX coughs up crypto keys when scientists tweak CPU voltage</a><span class=\"sitebit comhead\"> (<a href=\"from?site=arstechnica.com\"><span class=\"sitestr\">arstechnica.com</span></a>)</span></td></tr><tr><td colspan=\"2\"></td><td class=\"subtext\">\\n        <span class=\"score\" id=\"score_21770702\">2 points</span> by <a href=\"user?id=rbanffy\" class=\"hnuser\">rbanffy</a> <span class=\"age\"><a href=\"item?id=21770702\">1 hour ago</a></span> <span id=\"unv_21770702\"></span> | <a href=\"hide?id=21770702&amp;goto=newest%3Fn%3D31%26next%3D21770757\">hide</a> | <a href=\"https://hn.algolia.com/?query=Intel%E2%80%99s%20SGX%20coughs%20up%20crypto%20keys%20when%20scientists%20tweak%20CPU%20voltage&sort=byDate&dateRange=all&type=story&storyText=false&prefix&page=0\" class=\"hnpast\">past</a> | <a href=\"https://www.google.com/search?q=Intel%E2%80%99s%20SGX%20coughs%20up%20crypto%20keys%20when%20scientists%20tweak%20CPU%20voltage\">web</a> | <a href=\"item?id=21770702\">discuss</a>              </td></tr>\\n      <tr class=\"spacer\" style=\"height:5px\"></tr>\\n                <tr class=\\'athing\\' id=\\'21770701\\'>\\n      <td align=\"right\" valign=\"top\" class=\"title\"><span class=\"rank\">43.</span></td>      <td valign=\"top\" class=\"votelinks\"><center><a id=\\'up_21770701\\' href=\\'vote?id=21770701&amp;how=up&amp;goto=newest%3Fn%3D31%26next%3D21770757\\'><div class=\\'votearrow\\' title=\\'upvote\\'></div></a></center></td><td class=\"title\"><a href=\"https://librarianshipwreck.wordpress.com/2019/12/06/who-listens-to-the-listeners/\" class=\"storylink\" rel=\"nofollow\">Spotify Wrapped: Who Listens to the Listeners?</a><span class=\"sitebit comhead\"> (<a href=\"from?site=librarianshipwreck.wordpress.com\"><span class=\"sitestr\">librarianshipwreck.wordpress.com</span></a>)</span></td></tr><tr><td colspan=\"2\"></td><td class=\"subtext\">\\n        <span class=\"score\" id=\"score_21770701\">1 point</span> by <a href=\"user?id=imartin2k\" class=\"hnuser\">imartin2k</a> <span class=\"age\"><a href=\"item?id=21770701\">1 hour ago</a></span> <span id=\"unv_21770701\"></span> | <a href=\"hide?id=21770701&amp;goto=newest%3Fn%3D31%26next%3D21770757\">hide</a> | <a href=\"https://hn.algolia.com/?query=Spotify%20Wrapped%3A%20Who%20Listens%20to%20the%20Listeners%3F&sort=byDate&dateRange=all&type=story&storyText=false&prefix&page=0\" class=\"hnpast\">past</a> | <a href=\"https://www.google.com/search?q=Spotify%20Wrapped%3A%20Who%20Listens%20to%20the%20Listeners%3F\">web</a> | <a href=\"item?id=21770701\">discuss</a>              </td></tr>\\n      <tr class=\"spacer\" style=\"height:5px\"></tr>\\n                <tr class=\\'athing\\' id=\\'21770692\\'>\\n      <td align=\"right\" valign=\"top\" class=\"title\"><span class=\"rank\">44.</span></td>      <td valign=\"top\" class=\"votelinks\"><center><a id=\\'up_21770692\\' href=\\'vote?id=21770692&amp;how=up&amp;goto=newest%3Fn%3D31%26next%3D21770757\\'><div class=\\'votearrow\\' title=\\'upvote\\'></div></a></center></td><td class=\"title\"><a href=\"https://gizmodo.com/the-faa-knew-1840375968\" class=\"storylink\" rel=\"nofollow\">The FAA Knew</a><span class=\"sitebit comhead\"> (<a href=\"from?site=gizmodo.com\"><span class=\"sitestr\">gizmodo.com</span></a>)</span></td></tr><tr><td colspan=\"2\"></td><td class=\"subtext\">\\n        <span class=\"score\" id=\"score_21770692\">1 point</span> by <a href=\"user?id=rbanffy\" class=\"hnuser\">rbanffy</a> <span class=\"age\"><a href=\"item?id=21770692\">1 hour ago</a></span> <span id=\"unv_21770692\"></span> | <a href=\"hide?id=21770692&amp;goto=newest%3Fn%3D31%26next%3D21770757\">hide</a> | <a href=\"https://hn.algolia.com/?query=The%20FAA%20Knew&sort=byDate&dateRange=all&type=story&storyText=false&prefix&page=0\" class=\"hnpast\">past</a> | <a href=\"https://www.google.com/search?q=The%20FAA%20Knew\">web</a> | <a href=\"item?id=21770692\">discuss</a>              </td></tr>\\n      <tr class=\"spacer\" style=\"height:5px\"></tr>\\n                <tr class=\\'athing\\' id=\\'21770681\\'>\\n      <td align=\"right\" valign=\"top\" class=\"title\"><span class=\"rank\">45.</span></td>      <td valign=\"top\" class=\"votelinks\"><center><a id=\\'up_21770681\\' href=\\'vote?id=21770681&amp;how=up&amp;goto=newest%3Fn%3D31%26next%3D21770757\\'><div class=\\'votearrow\\' title=\\'upvote\\'></div></a></center></td><td class=\"title\"><a href=\"https://crystal-lang.org/2019/12/11/crystal-0.32.0-released.html\" class=\"storylink\" rel=\"nofollow\">Crystal 0.32</a><span class=\"sitebit comhead\"> (<a href=\"from?site=crystal-lang.org\"><span class=\"sitestr\">crystal-lang.org</span></a>)</span></td></tr><tr><td colspan=\"2\"></td><td class=\"subtext\">\\n        <span class=\"score\" id=\"score_21770681\">2 points</span> by <a href=\"user?id=galfarragem\" class=\"hnuser\">galfarragem</a> <span class=\"age\"><a href=\"item?id=21770681\">1 hour ago</a></span> <span id=\"unv_21770681\"></span> | <a href=\"hide?id=21770681&amp;goto=newest%3Fn%3D31%26next%3D21770757\">hide</a> | <a href=\"https://hn.algolia.com/?query=Crystal%200.32&sort=byDate&dateRange=all&type=story&storyText=false&prefix&page=0\" class=\"hnpast\">past</a> | <a href=\"https://www.google.com/search?q=Crystal%200.32\">web</a> | <a href=\"item?id=21770681\">discuss</a>              </td></tr>\\n      <tr class=\"spacer\" style=\"height:5px\"></tr>\\n                <tr class=\\'athing\\' id=\\'21770679\\'>\\n      <td align=\"right\" valign=\"top\" class=\"title\"><span class=\"rank\">46.</span></td>      <td valign=\"top\" class=\"votelinks\"><center><a id=\\'up_21770679\\' href=\\'vote?id=21770679&amp;how=up&amp;goto=newest%3Fn%3D31%26next%3D21770757\\'><div class=\\'votearrow\\' title=\\'upvote\\'></div></a></center></td><td class=\"title\"><a href=\"https://www.phoronix.com/scan.php?page=news_item&amp;px=GNOME-Shell-3.35.2\" class=\"storylink\" rel=\"nofollow\">Gnome Shell 3.35.2 Begins Launching Spawned Processes Within Systemd Scopes</a><span class=\"sitebit comhead\"> (<a href=\"from?site=phoronix.com\"><span class=\"sitestr\">phoronix.com</span></a>)</span></td></tr><tr><td colspan=\"2\"></td><td class=\"subtext\">\\n        <span class=\"score\" id=\"score_21770679\">1 point</span> by <a href=\"user?id=rbanffy\" class=\"hnuser\">rbanffy</a> <span class=\"age\"><a href=\"item?id=21770679\">1 hour ago</a></span> <span id=\"unv_21770679\"></span> | <a href=\"hide?id=21770679&amp;goto=newest%3Fn%3D31%26next%3D21770757\">hide</a> | <a href=\"https://hn.algolia.com/?query=Gnome%20Shell%203.35.2%20Begins%20Launching%20Spawned%20Processes%20Within%20Systemd%20Scopes&sort=byDate&dateRange=all&type=story&storyText=false&prefix&page=0\" class=\"hnpast\">past</a> | <a href=\"https://www.google.com/search?q=Gnome%20Shell%203.35.2%20Begins%20Launching%20Spawned%20Processes%20Within%20Systemd%20Scopes\">web</a> | <a href=\"item?id=21770679\">discuss</a>              </td></tr>\\n      <tr class=\"spacer\" style=\"height:5px\"></tr>\\n                <tr class=\\'athing\\' id=\\'21770672\\'>\\n      <td align=\"right\" valign=\"top\" class=\"title\"><span class=\"rank\">47.</span></td>      <td valign=\"top\" class=\"votelinks\"><center><a id=\\'up_21770672\\' href=\\'vote?id=21770672&amp;how=up&amp;goto=newest%3Fn%3D31%26next%3D21770757\\'><div class=\\'votearrow\\' title=\\'upvote\\'></div></a></center></td><td class=\"title\"><a href=\"http://calpaterson.com/amazon-premium.html\" class=\"storylink\" rel=\"nofollow\">The Amazon Premium</a><span class=\"sitebit comhead\"> (<a href=\"from?site=calpaterson.com\"><span class=\"sitestr\">calpaterson.com</span></a>)</span></td></tr><tr><td colspan=\"2\"></td><td class=\"subtext\">\\n        <span class=\"score\" id=\"score_21770672\">1 point</span> by <a href=\"user?id=calpaterson\" class=\"hnuser\">calpaterson</a> <span class=\"age\"><a href=\"item?id=21770672\">1 hour ago</a></span> <span id=\"unv_21770672\"></span> | <a href=\"hide?id=21770672&amp;goto=newest%3Fn%3D31%26next%3D21770757\">hide</a> | <a href=\"https://hn.algolia.com/?query=The%20Amazon%20Premium&sort=byDate&dateRange=all&type=story&storyText=false&prefix&page=0\" class=\"hnpast\">past</a> | <a href=\"https://www.google.com/search?q=The%20Amazon%20Premium\">web</a> | <a href=\"item?id=21770672\">1&nbsp;comment</a>              </td></tr>\\n      <tr class=\"spacer\" style=\"height:5px\"></tr>\\n                <tr class=\\'athing\\' id=\\'21770669\\'>\\n      <td align=\"right\" valign=\"top\" class=\"title\"><span class=\"rank\">48.</span></td>      <td valign=\"top\" class=\"votelinks\"><center><a id=\\'up_21770669\\' href=\\'vote?id=21770669&amp;how=up&amp;goto=newest%3Fn%3D31%26next%3D21770757\\'><div class=\\'votearrow\\' title=\\'upvote\\'></div></a></center></td><td class=\"title\"><a href=\"https://fuse.wikichip.org/news/3099/centaur-unveils-its-new-server-class-x86-core-cns-adds-avx-512/\" class=\"storylink\" rel=\"nofollow\">Centaur Unveils Its New Server-Class x86 Core: CNS; Adds AVX-512 \\xe2\\x80\\x93 WikiChip Fuse</a><span class=\"sitebit comhead\"> (<a href=\"from?site=wikichip.org\"><span class=\"sitestr\">wikichip.org</span></a>)</span></td></tr><tr><td colspan=\"2\"></td><td class=\"subtext\">\\n        <span class=\"score\" id=\"score_21770669\">1 point</span> by <a href=\"user?id=rbanffy\" class=\"hnuser\">rbanffy</a> <span class=\"age\"><a href=\"item?id=21770669\">1 hour ago</a></span> <span id=\"unv_21770669\"></span> | <a href=\"hide?id=21770669&amp;goto=newest%3Fn%3D31%26next%3D21770757\">hide</a> | <a href=\"https://hn.algolia.com/?query=Centaur%20Unveils%20Its%20New%20Server-Class%20x86%20Core%3A%20CNS%3B%20Adds%20AVX-512%20%E2%80%93%20WikiChip%20Fuse&sort=byDate&dateRange=all&type=story&storyText=false&prefix&page=0\" class=\"hnpast\">past</a> | <a href=\"https://www.google.com/search?q=Centaur%20Unveils%20Its%20New%20Server-Class%20x86%20Core%3A%20CNS%3B%20Adds%20AVX-512%20%E2%80%93%20WikiChip%20Fuse\">web</a> | <a href=\"item?id=21770669\">discuss</a>              </td></tr>\\n      <tr class=\"spacer\" style=\"height:5px\"></tr>\\n                <tr class=\\'athing\\' id=\\'21770664\\'>\\n      <td align=\"right\" valign=\"top\" class=\"title\"><span class=\"rank\">49.</span></td>      <td valign=\"top\" class=\"votelinks\"><center><a id=\\'up_21770664\\' href=\\'vote?id=21770664&amp;how=up&amp;goto=newest%3Fn%3D31%26next%3D21770757\\'><div class=\\'votearrow\\' title=\\'upvote\\'></div></a></center></td><td class=\"title\"><a href=\"https://time.com/5746458/youngest-time-person-of-the-year/\" class=\"storylink\" rel=\"nofollow\">Greta Thunberg Is the Youngest Time Person of the Year Ever</a><span class=\"sitebit comhead\"> (<a href=\"from?site=time.com\"><span class=\"sitestr\">time.com</span></a>)</span></td></tr><tr><td colspan=\"2\"></td><td class=\"subtext\">\\n        <span class=\"score\" id=\"score_21770664\">3 points</span> by <a href=\"user?id=known\" class=\"hnuser\">known</a> <span class=\"age\"><a href=\"item?id=21770664\">1 hour ago</a></span> <span id=\"unv_21770664\"></span> | <a href=\"hide?id=21770664&amp;goto=newest%3Fn%3D31%26next%3D21770757\">hide</a> | <a href=\"https://hn.algolia.com/?query=Greta%20Thunberg%20Is%20the%20Youngest%20Time%20Person%20of%20the%20Year%20Ever&sort=byDate&dateRange=all&type=story&storyText=false&prefix&page=0\" class=\"hnpast\">past</a> | <a href=\"https://www.google.com/search?q=Greta%20Thunberg%20Is%20the%20Youngest%20Time%20Person%20of%20the%20Year%20Ever\">web</a> | <a href=\"item?id=21770664\">discuss</a>              </td></tr>\\n      <tr class=\"spacer\" style=\"height:5px\"></tr>\\n                <tr class=\\'athing\\' id=\\'21770660\\'>\\n      <td align=\"right\" valign=\"top\" class=\"title\"><span class=\"rank\">50.</span></td>      <td valign=\"top\" class=\"votelinks\"><center><a id=\\'up_21770660\\' href=\\'vote?id=21770660&amp;how=up&amp;goto=newest%3Fn%3D31%26next%3D21770757\\'><div class=\\'votearrow\\' title=\\'upvote\\'></div></a></center></td><td class=\"title\"><a href=\"https://www.swyx.io/writing/js-tooling/\" class=\"storylink\" rel=\"nofollow\">Why JavaScript Tooling Sucks</a><span class=\"sitebit comhead\"> (<a href=\"from?site=swyx.io\"><span class=\"sitestr\">swyx.io</span></a>)</span></td></tr><tr><td colspan=\"2\"></td><td class=\"subtext\">\\n        <span class=\"score\" id=\"score_21770660\">2 points</span> by <a href=\"user?id=fagnerbrack\" class=\"hnuser\">fagnerbrack</a> <span class=\"age\"><a href=\"item?id=21770660\">1 hour ago</a></span> <span id=\"unv_21770660\"></span> | <a href=\"hide?id=21770660&amp;goto=newest%3Fn%3D31%26next%3D21770757\">hide</a> | <a href=\"https://hn.algolia.com/?query=Why%20JavaScript%20Tooling%20Sucks&sort=byDate&dateRange=all&type=story&storyText=false&prefix&page=0\" class=\"hnpast\">past</a> | <a href=\"https://www.google.com/search?q=Why%20JavaScript%20Tooling%20Sucks\">web</a> | <a href=\"item?id=21770660\">discuss</a>              </td></tr>\\n      <tr class=\"spacer\" style=\"height:5px\"></tr>\\n                <tr class=\\'athing\\' id=\\'21770655\\'>\\n      <td align=\"right\" valign=\"top\" class=\"title\"><span class=\"rank\">51.</span></td>      <td valign=\"top\" class=\"votelinks\"><center><a id=\\'up_21770655\\' href=\\'vote?id=21770655&amp;how=up&amp;goto=newest%3Fn%3D31%26next%3D21770757\\'><div class=\\'votearrow\\' title=\\'upvote\\'></div></a></center></td><td class=\"title\"><a href=\"https://nanonets.com/blog/ocr-with-tesseract/\" class=\"storylink\" rel=\"nofollow\">Introduction to OCR with Tesseract and Python</a><span class=\"sitebit comhead\"> (<a href=\"from?site=nanonets.com\"><span class=\"sitestr\">nanonets.com</span></a>)</span></td></tr><tr><td colspan=\"2\"></td><td class=\"subtext\">\\n        <span class=\"score\" id=\"score_21770655\">3 points</span> by <a href=\"user?id=ole_gooner\" class=\"hnuser\">ole_gooner</a> <span class=\"age\"><a href=\"item?id=21770655\">1 hour ago</a></span> <span id=\"unv_21770655\"></span> | <a href=\"hide?id=21770655&amp;goto=newest%3Fn%3D31%26next%3D21770757\">hide</a> | <a href=\"https://hn.algolia.com/?query=Introduction%20to%20OCR%20with%20Tesseract%20and%20Python&sort=byDate&dateRange=all&type=story&storyText=false&prefix&page=0\" class=\"hnpast\">past</a> | <a href=\"https://www.google.com/search?q=Introduction%20to%20OCR%20with%20Tesseract%20and%20Python\">web</a> | <a href=\"item?id=21770655\">discuss</a>              </td></tr>\\n      <tr class=\"spacer\" style=\"height:5px\"></tr>\\n                <tr class=\\'athing\\' id=\\'21770640\\'>\\n      <td align=\"right\" valign=\"top\" class=\"title\"><span class=\"rank\">52.</span></td>      <td valign=\"top\" class=\"votelinks\"><center><a id=\\'up_21770640\\' href=\\'vote?id=21770640&amp;how=up&amp;goto=newest%3Fn%3D31%26next%3D21770757\\'><div class=\\'votearrow\\' title=\\'upvote\\'></div></a></center></td><td class=\"title\"><a href=\"https://fuse.wikichip.org/news/3127/intel-2020s-process-technology-roadmap-10nm-3nm-2nm-and-1-4nm-for-2029/\" class=\"storylink\">Intel 2020s Process Technology Roadmap: 10nm+++, 3nm, 2nm, and 1.4nm for 2029</a><span class=\"sitebit comhead\"> (<a href=\"from?site=wikichip.org\"><span class=\"sitestr\">wikichip.org</span></a>)</span></td></tr><tr><td colspan=\"2\"></td><td class=\"subtext\">\\n        <span class=\"score\" id=\"score_21770640\">29 points</span> by <a href=\"user?id=rbanffy\" class=\"hnuser\">rbanffy</a> <span class=\"age\"><a href=\"item?id=21770640\">1 hour ago</a></span> <span id=\"unv_21770640\"></span> | <a href=\"hide?id=21770640&amp;goto=newest%3Fn%3D31%26next%3D21770757\">hide</a> | <a href=\"https://hn.algolia.com/?query=Intel%202020s%20Process%20Technology%20Roadmap%3A%2010nm%2B%2B%2B%2C%203nm%2C%202nm%2C%20and%201.4nm%20for%202029&sort=byDate&dateRange=all&type=story&storyText=false&prefix&page=0\" class=\"hnpast\">past</a> | <a href=\"https://www.google.com/search?q=Intel%202020s%20Process%20Technology%20Roadmap%3A%2010nm%2B%2B%2B%2C%203nm%2C%202nm%2C%20and%201.4nm%20for%202029\">web</a> | <a href=\"item?id=21770640\">3&nbsp;comments</a>              </td></tr>\\n      <tr class=\"spacer\" style=\"height:5px\"></tr>\\n                <tr class=\\'athing\\' id=\\'21770637\\'>\\n      <td align=\"right\" valign=\"top\" class=\"title\"><span class=\"rank\">53.</span></td>      <td valign=\"top\" class=\"votelinks\"><center><a id=\\'up_21770637\\' href=\\'vote?id=21770637&amp;how=up&amp;goto=newest%3Fn%3D31%26next%3D21770757\\'><div class=\\'votearrow\\' title=\\'upvote\\'></div></a></center></td><td class=\"title\"><a href=\"https://www.nextplatform.com/2019/12/10/looking-ahead-to-marvells-future-thunderx-processors/\" class=\"storylink\" rel=\"nofollow\">Looking Ahead to Marvell\\xe2\\x80\\x99s Future ThunderX Processors</a><span class=\"sitebit comhead\"> (<a href=\"from?site=nextplatform.com\"><span class=\"sitestr\">nextplatform.com</span></a>)</span></td></tr><tr><td colspan=\"2\"></td><td class=\"subtext\">\\n        <span class=\"score\" id=\"score_21770637\">1 point</span> by <a href=\"user?id=rbanffy\" class=\"hnuser\">rbanffy</a> <span class=\"age\"><a href=\"item?id=21770637\">1 hour ago</a></span> <span id=\"unv_21770637\"></span> | <a href=\"hide?id=21770637&amp;goto=newest%3Fn%3D31%26next%3D21770757\">hide</a> | <a href=\"https://hn.algolia.com/?query=Looking%20Ahead%20to%20Marvell%E2%80%99s%20Future%20ThunderX%20Processors&sort=byDate&dateRange=all&type=story&storyText=false&prefix&page=0\" class=\"hnpast\">past</a> | <a href=\"https://www.google.com/search?q=Looking%20Ahead%20to%20Marvell%E2%80%99s%20Future%20ThunderX%20Processors\">web</a> | <a href=\"item?id=21770637\">discuss</a>              </td></tr>\\n      <tr class=\"spacer\" style=\"height:5px\"></tr>\\n                <tr class=\\'athing\\' id=\\'21770636\\'>\\n      <td align=\"right\" valign=\"top\" class=\"title\"><span class=\"rank\">54.</span></td>      <td valign=\"top\" class=\"votelinks\"><center><a id=\\'up_21770636\\' href=\\'vote?id=21770636&amp;how=up&amp;goto=newest%3Fn%3D31%26next%3D21770757\\'><div class=\\'votearrow\\' title=\\'upvote\\'></div></a></center></td><td class=\"title\"><a href=\"https://github.blog/2019-11-13-universe-day-one/\" class=\"storylink\" rel=\"nofollow\">New from GitHub Universe 2019</a><span class=\"sitebit comhead\"> (<a href=\"from?site=github.blog\"><span class=\"sitestr\">github.blog</span></a>)</span></td></tr><tr><td colspan=\"2\"></td><td class=\"subtext\">\\n        <span class=\"score\" id=\"score_21770636\">1 point</span> by <a href=\"user?id=chmaynard\" class=\"hnuser\">chmaynard</a> <span class=\"age\"><a href=\"item?id=21770636\">1 hour ago</a></span> <span id=\"unv_21770636\"></span> | <a href=\"hide?id=21770636&amp;goto=newest%3Fn%3D31%26next%3D21770757\">hide</a> | <a href=\"https://hn.algolia.com/?query=New%20from%20GitHub%20Universe%202019&sort=byDate&dateRange=all&type=story&storyText=false&prefix&page=0\" class=\"hnpast\">past</a> | <a href=\"https://www.google.com/search?q=New%20from%20GitHub%20Universe%202019\">web</a> | <a href=\"item?id=21770636\">discuss</a>              </td></tr>\\n      <tr class=\"spacer\" style=\"height:5px\"></tr>\\n                <tr class=\\'athing\\' id=\\'21770632\\'>\\n      <td align=\"right\" valign=\"top\" class=\"title\"><span class=\"rank\">55.</span></td>      <td valign=\"top\" class=\"votelinks\"><center><a id=\\'up_21770632\\' href=\\'vote?id=21770632&amp;how=up&amp;goto=newest%3Fn%3D31%26next%3D21770757\\'><div class=\\'votearrow\\' title=\\'upvote\\'></div></a></center></td><td class=\"title\"><a href=\"https://www.quora.com/q/plvqwcuatskmhdea?share=1\" class=\"storylink\" rel=\"nofollow\">When should a startup implement an ERP?</a><span class=\"sitebit comhead\"> (<a href=\"from?site=quora.com\"><span class=\"sitestr\">quora.com</span></a>)</span></td></tr><tr><td colspan=\"2\"></td><td class=\"subtext\">\\n        <span class=\"score\" id=\"score_21770632\">2 points</span> by <a href=\"user?id=davix55\" class=\"hnuser\">davix55</a> <span class=\"age\"><a href=\"item?id=21770632\">1 hour ago</a></span> <span id=\"unv_21770632\"></span> | <a href=\"hide?id=21770632&amp;goto=newest%3Fn%3D31%26next%3D21770757\">hide</a> | <a href=\"https://hn.algolia.com/?query=When%20should%20a%20startup%20implement%20an%20ERP%3F&sort=byDate&dateRange=all&type=story&storyText=false&prefix&page=0\" class=\"hnpast\">past</a> | <a href=\"https://www.google.com/search?q=When%20should%20a%20startup%20implement%20an%20ERP%3F\">web</a> | <a href=\"item?id=21770632\">discuss</a>              </td></tr>\\n      <tr class=\"spacer\" style=\"height:5px\"></tr>\\n                <tr class=\\'athing\\' id=\\'21770629\\'>\\n      <td align=\"right\" valign=\"top\" class=\"title\"><span class=\"rank\">56.</span></td>      <td valign=\"top\" class=\"votelinks\"><center><a id=\\'up_21770629\\' href=\\'vote?id=21770629&amp;how=up&amp;goto=newest%3Fn%3D31%26next%3D21770757\\'><div class=\\'votearrow\\' title=\\'upvote\\'></div></a></center></td><td class=\"title\"><a href=\"https://www.nextplatform.com/2019/12/11/operating-a-campus-wide-hpc-center-like-an-enterprise/\" class=\"storylink\" rel=\"nofollow\">Operating a Campus-Wide HPC Center Like an Enterprise</a><span class=\"sitebit comhead\"> (<a href=\"from?site=nextplatform.com\"><span class=\"sitestr\">nextplatform.com</span></a>)</span></td></tr><tr><td colspan=\"2\"></td><td class=\"subtext\">\\n        <span class=\"score\" id=\"score_21770629\">1 point</span> by <a href=\"user?id=rbanffy\" class=\"hnuser\">rbanffy</a> <span class=\"age\"><a href=\"item?id=21770629\">1 hour ago</a></span> <span id=\"unv_21770629\"></span> | <a href=\"hide?id=21770629&amp;goto=newest%3Fn%3D31%26next%3D21770757\">hide</a> | <a href=\"https://hn.algolia.com/?query=Operating%20a%20Campus-Wide%20HPC%20Center%20Like%20an%20Enterprise&sort=byDate&dateRange=all&type=story&storyText=false&prefix&page=0\" class=\"hnpast\">past</a> | <a href=\"https://www.google.com/search?q=Operating%20a%20Campus-Wide%20HPC%20Center%20Like%20an%20Enterprise\">web</a> | <a href=\"item?id=21770629\">discuss</a>              </td></tr>\\n      <tr class=\"spacer\" style=\"height:5px\"></tr>\\n                <tr class=\\'athing\\' id=\\'21770624\\'>\\n      <td align=\"right\" valign=\"top\" class=\"title\"><span class=\"rank\">57.</span></td>      <td valign=\"top\" class=\"votelinks\"><center><a id=\\'up_21770624\\' href=\\'vote?id=21770624&amp;how=up&amp;goto=newest%3Fn%3D31%26next%3D21770757\\'><div class=\\'votearrow\\' title=\\'upvote\\'></div></a></center></td><td class=\"title\"><a href=\"https://www.nextplatform.com/2019/12/09/datacenters-are-hungry-for-servers-again/\" class=\"storylink\" rel=\"nofollow\">Datacenters Are Hungry for Servers Again</a><span class=\"sitebit comhead\"> (<a href=\"from?site=nextplatform.com\"><span class=\"sitestr\">nextplatform.com</span></a>)</span></td></tr><tr><td colspan=\"2\"></td><td class=\"subtext\">\\n        <span class=\"score\" id=\"score_21770624\">1 point</span> by <a href=\"user?id=rbanffy\" class=\"hnuser\">rbanffy</a> <span class=\"age\"><a href=\"item?id=21770624\">1 hour ago</a></span> <span id=\"unv_21770624\"></span> | <a href=\"hide?id=21770624&amp;goto=newest%3Fn%3D31%26next%3D21770757\">hide</a> | <a href=\"https://hn.algolia.com/?query=Datacenters%20Are%20Hungry%20for%20Servers%20Again&sort=byDate&dateRange=all&type=story&storyText=false&prefix&page=0\" class=\"hnpast\">past</a> | <a href=\"https://www.google.com/search?q=Datacenters%20Are%20Hungry%20for%20Servers%20Again\">web</a> | <a href=\"item?id=21770624\">discuss</a>              </td></tr>\\n      <tr class=\"spacer\" style=\"height:5px\"></tr>\\n                <tr class=\\'athing\\' id=\\'21770622\\'>\\n      <td align=\"right\" valign=\"top\" class=\"title\"><span class=\"rank\">58.</span></td>      <td valign=\"top\" class=\"votelinks\"><center><a id=\\'up_21770622\\' href=\\'vote?id=21770622&amp;how=up&amp;goto=newest%3Fn%3D31%26next%3D21770757\\'><div class=\\'votearrow\\' title=\\'upvote\\'></div></a></center></td><td class=\"title\"><a href=\"https://www.anandtech.com/show/15217/intels-manufacturing-roadmap-from-2019-to-2029\" class=\"storylink\">Intel\\xe2\\x80\\x99s Manufacturing Roadmap 2019-2029: Back Porting, 7nm, 5nm, 3nm, 2nm, 1.4nm</a><span class=\"sitebit comhead\"> (<a href=\"from?site=anandtech.com\"><span class=\"sitestr\">anandtech.com</span></a>)</span></td></tr><tr><td colspan=\"2\"></td><td class=\"subtext\">\\n        <span class=\"score\" id=\"score_21770622\">19 points</span> by <a href=\"user?id=hkmaxpro\" class=\"hnuser\">hkmaxpro</a> <span class=\"age\"><a href=\"item?id=21770622\">1 hour ago</a></span> <span id=\"unv_21770622\"></span> | <a href=\"hide?id=21770622&amp;goto=newest%3Fn%3D31%26next%3D21770757\">hide</a> | <a href=\"https://hn.algolia.com/?query=Intel%E2%80%99s%20Manufacturing%20Roadmap%202019-2029%3A%20Back%20Porting%2C%207nm%2C%205nm%2C%203nm%2C%202nm%2C%201.4nm&sort=byDate&dateRange=all&type=story&storyText=false&prefix&page=0\" class=\"hnpast\">past</a> | <a href=\"https://www.google.com/search?q=Intel%E2%80%99s%20Manufacturing%20Roadmap%202019-2029%3A%20Back%20Porting%2C%207nm%2C%205nm%2C%203nm%2C%202nm%2C%201.4nm\">web</a> | <a href=\"item?id=21770622\">discuss</a>              </td></tr>\\n      <tr class=\"spacer\" style=\"height:5px\"></tr>\\n                <tr class=\\'athing\\' id=\\'21770602\\'>\\n      <td align=\"right\" valign=\"top\" class=\"title\"><span class=\"rank\">59.</span></td>      <td valign=\"top\" class=\"votelinks\"><center><a id=\\'up_21770602\\' href=\\'vote?id=21770602&amp;how=up&amp;goto=newest%3Fn%3D31%26next%3D21770757\\'><div class=\\'votearrow\\' title=\\'upvote\\'></div></a></center></td><td class=\"title\"><a href=\"https://www.tokinomo.com/5-tips-get-inside-buyers-mind-boost-retail-sales/\" class=\"storylink\" rel=\"nofollow\">Tips to Get Inside the Buyer\\xe2\\x80\\x99s Mind and Boost Retail Sales</a><span class=\"sitebit comhead\"> (<a href=\"from?site=tokinomo.com\"><span class=\"sitestr\">tokinomo.com</span></a>)</span></td></tr><tr><td colspan=\"2\"></td><td class=\"subtext\">\\n        <span class=\"score\" id=\"score_21770602\">1 point</span> by <a href=\"user?id=tokinomo\" class=\"hnuser\">tokinomo</a> <span class=\"age\"><a href=\"item?id=21770602\">1 hour ago</a></span> <span id=\"unv_21770602\"></span> | <a href=\"hide?id=21770602&amp;goto=newest%3Fn%3D31%26next%3D21770757\">hide</a> | <a href=\"https://hn.algolia.com/?query=Tips%20to%20Get%20Inside%20the%20Buyer%E2%80%99s%20Mind%20and%20Boost%20Retail%20Sales&sort=byDate&dateRange=all&type=story&storyText=false&prefix&page=0\" class=\"hnpast\">past</a> | <a href=\"https://www.google.com/search?q=Tips%20to%20Get%20Inside%20the%20Buyer%E2%80%99s%20Mind%20and%20Boost%20Retail%20Sales\">web</a> | <a href=\"item?id=21770602\">discuss</a>              </td></tr>\\n      <tr class=\"spacer\" style=\"height:5px\"></tr>\\n                <tr class=\\'athing\\' id=\\'21770599\\'>\\n      <td align=\"right\" valign=\"top\" class=\"title\"><span class=\"rank\">60.</span></td>      <td valign=\"top\" class=\"votelinks\"><center><a id=\\'up_21770599\\' href=\\'vote?id=21770599&amp;how=up&amp;goto=newest%3Fn%3D31%26next%3D21770757\\'><div class=\\'votearrow\\' title=\\'upvote\\'></div></a></center></td><td class=\"title\"><a href=\"https://blog.plan99.net/modern-garbage-collection-part-2-1c88847abcfd?gi=b485de709123\" class=\"storylink\" rel=\"nofollow\">Modern garbage collection: Part 2</a><span class=\"sitebit comhead\"> (<a href=\"from?site=plan99.net\"><span class=\"sitestr\">plan99.net</span></a>)</span></td></tr><tr><td colspan=\"2\"></td><td class=\"subtext\">\\n        <span class=\"score\" id=\"score_21770599\">1 point</span> by <a href=\"user?id=signa11\" class=\"hnuser\">signa11</a> <span class=\"age\"><a href=\"item?id=21770599\">1 hour ago</a></span> <span id=\"unv_21770599\"></span> | <a href=\"hide?id=21770599&amp;goto=newest%3Fn%3D31%26next%3D21770757\">hide</a> | <a href=\"https://hn.algolia.com/?query=Modern%20garbage%20collection%3A%20Part%202&sort=byDate&dateRange=all&type=story&storyText=false&prefix&page=0\" class=\"hnpast\">past</a> | <a href=\"https://www.google.com/search?q=Modern%20garbage%20collection%3A%20Part%202\">web</a> | <a href=\"item?id=21770599\">discuss</a>              </td></tr>\\n      <tr class=\"spacer\" style=\"height:5px\"></tr>\\n            <tr class=\"morespace\" style=\"height:10px\"></tr><tr><td colspan=\"2\"></td><td class=\"title\"><a href=\"newest?next=21770576&amp;n=61\" class=\"morelink\" rel=\"next\">More</a></td></tr>\\n  </table>\\n</td></tr>\\n<tr><td><img src=\"s.gif\" height=\"10\" width=\"0\"><table width=\"100%\" cellspacing=\"0\" cellpadding=\"1\"><tr><td bgcolor=\"#ff6600\"></td></tr></table><br><center><span class=\"yclinks\"><a href=\"newsguidelines.html\">Guidelines</a>\\n        | <a href=\"newsfaq.html\">FAQ</a>\\n        | <a href=\"mailto:hn@ycombinator.com\">Support</a>\\n        | <a href=\"https://github.com/HackerNews/API\">API</a>\\n        | <a href=\"security.html\">Security</a>\\n        | <a href=\"lists\">Lists</a>\\n        | <a href=\"bookmarklet.html\" rel=\"nofollow\">Bookmarklet</a>\\n        | <a href=\"http://www.ycombinator.com/legal/\">Legal</a>\\n        | <a href=\"http://www.ycombinator.com/apply/\">Apply to YC</a>\\n        | <a href=\"mailto:hn@ycombinator.com\">Contact</a></span><br><br><form method=\"get\" action=\"//hn.algolia.com/\">Search:\\n          <input type=\"text\" name=\"q\" value=\"\" size=\"17\" autocorrect=\"off\" spellcheck=\"false\" autocapitalize=\"off\" autocomplete=\"false\"></form>\\n            </center></td></tr>\\n      </table></center></body><script type=\\'text/javascript\\' src=\\'hn.js?bf9JyQjnS7iehVl5TlRD\\'></script></html>\\n'\n",
            "['newest?next=21770576&n=61']\n",
            "Rank              60\n",
            "Title             60\n",
            "domain            60\n",
            "posted_by_user    60\n",
            "url               60\n",
            "num_comments      60\n",
            "num_upvotes       60\n",
            "date_created      60\n",
            "dtype: int64\n",
            "https://news.ycombinator.com/newest?next=21770576&n=61\n",
            "b'<html op=\"newest\"><head><meta name=\"referrer\" content=\"origin\"><meta name=\"viewport\" content=\"width=device-width, initial-scale=1.0\"><link rel=\"stylesheet\" type=\"text/css\" href=\"news.css?bf9JyQjnS7iehVl5TlRD\">\\n        <link rel=\"shortcut icon\" href=\"favicon.ico\">\\n        <title>New Links | Hacker News</title></head><body><center><table id=\"hnmain\" border=\"0\" cellpadding=\"0\" cellspacing=\"0\" width=\"85%\" bgcolor=\"#f6f6ef\">\\n        <tr><td bgcolor=\"#ff6600\"><table border=\"0\" cellpadding=\"0\" cellspacing=\"0\" width=\"100%\" style=\"padding:2px\"><tr><td style=\"width:18px;padding-right:4px\"><a href=\"https://news.ycombinator.com\"><img src=\"y18.gif\" width=\"18\" height=\"18\" style=\"border:1px white solid;\"></a></td>\\n                  <td style=\"line-height:12pt; height:10px;\"><span class=\"pagetop\"><b class=\"hnname\"><a href=\"news\">Hacker News</a></b>\\n              <span class=\"topsel\"><a href=\"newest\">new</a></span> | <a href=\"front\">past</a> | <a href=\"newcomments\">comments</a> | <a href=\"ask\">ask</a> | <a href=\"show\">show</a> | <a href=\"jobs\">jobs</a> | <a href=\"submit\">submit</a>            </span></td><td style=\"text-align:right;padding-right:4px;\"><span class=\"pagetop\">\\n                              <a href=\"login?goto=newest%3Fn%3D61%26next%3D21770576\">login</a>\\n                          </span></td>\\n              </tr></table></td></tr>\\n<tr id=\"pagespace\" title=\"New Links\" style=\"height:10px\"></tr><tr><td><table border=\"0\" cellpadding=\"0\" cellspacing=\"0\" class=\"itemlist\">\\n              <tr class=\\'athing\\' id=\\'21770576\\'>\\n      <td align=\"right\" valign=\"top\" class=\"title\"><span class=\"rank\">61.</span></td>      <td valign=\"top\" class=\"votelinks\"><center><a id=\\'up_21770576\\' href=\\'vote?id=21770576&amp;how=up&amp;goto=newest%3Fn%3D61%26next%3D21770576\\'><div class=\\'votearrow\\' title=\\'upvote\\'></div></a></center></td><td class=\"title\"><a href=\"https://blog.outofscreen.com/scraping-tips/#\" class=\"storylink\" rel=\"nofollow\">Scraping websites tips and best practices</a><span class=\"sitebit comhead\"> (<a href=\"from?site=outofscreen.com\"><span class=\"sitestr\">outofscreen.com</span></a>)</span></td></tr><tr><td colspan=\"2\"></td><td class=\"subtext\">\\n        <span class=\"score\" id=\"score_21770576\">7 points</span> by <a href=\"user?id=adipasquale\" class=\"hnuser\">adipasquale</a> <span class=\"age\"><a href=\"item?id=21770576\">1 hour ago</a></span> <span id=\"unv_21770576\"></span> | <a href=\"hide?id=21770576&amp;goto=newest%3Fn%3D61%26next%3D21770576\">hide</a> | <a href=\"https://hn.algolia.com/?query=Scraping%20websites%20tips%20and%20best%20practices&sort=byDate&dateRange=all&type=story&storyText=false&prefix&page=0\" class=\"hnpast\">past</a> | <a href=\"https://www.google.com/search?q=Scraping%20websites%20tips%20and%20best%20practices\">web</a> | <a href=\"item?id=21770576\">discuss</a>              </td></tr>\\n      <tr class=\"spacer\" style=\"height:5px\"></tr>\\n                <tr class=\\'athing\\' id=\\'21770573\\'>\\n      <td align=\"right\" valign=\"top\" class=\"title\"><span class=\"rank\">62.</span></td>      <td valign=\"top\" class=\"votelinks\"><center><a id=\\'up_21770573\\' href=\\'vote?id=21770573&amp;how=up&amp;goto=newest%3Fn%3D61%26next%3D21770576\\'><div class=\\'votearrow\\' title=\\'upvote\\'></div></a></center></td><td class=\"title\"><a href=\"https://medium.com/pvs-studio/pvs-studio-7-05-92b78890b3a6\" class=\"storylink\" rel=\"nofollow\">PVS-Studio 7.05</a><span class=\"sitebit comhead\"> (<a href=\"from?site=medium.com\"><span class=\"sitestr\">medium.com</span></a>)</span></td></tr><tr><td colspan=\"2\"></td><td class=\"subtext\">\\n        <span class=\"score\" id=\"score_21770573\">1 point</span> by <a href=\"user?id=julienevermind\" class=\"hnuser\">julienevermind</a> <span class=\"age\"><a href=\"item?id=21770573\">1 hour ago</a></span> <span id=\"unv_21770573\"></span> | <a href=\"hide?id=21770573&amp;goto=newest%3Fn%3D61%26next%3D21770576\">hide</a> | <a href=\"https://hn.algolia.com/?query=PVS-Studio%207.05&sort=byDate&dateRange=all&type=story&storyText=false&prefix&page=0\" class=\"hnpast\">past</a> | <a href=\"https://www.google.com/search?q=PVS-Studio%207.05\">web</a> | <a href=\"item?id=21770573\">discuss</a>              </td></tr>\\n      <tr class=\"spacer\" style=\"height:5px\"></tr>\\n                <tr class=\\'athing\\' id=\\'21770564\\'>\\n      <td align=\"right\" valign=\"top\" class=\"title\"><span class=\"rank\">63.</span></td>      <td valign=\"top\" class=\"votelinks\"><center><a id=\\'up_21770564\\' href=\\'vote?id=21770564&amp;how=up&amp;goto=newest%3Fn%3D61%26next%3D21770576\\'><div class=\\'votearrow\\' title=\\'upvote\\'></div></a></center></td><td class=\"title\"><a href=\"http://www.idahoreporter.com/2019/three-americans-arrested-in-722m-crypto-ponzi-scheme/\" class=\"storylink\" rel=\"nofollow\">Three Americans arrested in $722M \\xe2\\x80\\x9ccrypto Ponzi scheme\\xe2\\x80\\x9d</a><span class=\"sitebit comhead\"> (<a href=\"from?site=idahoreporter.com\"><span class=\"sitestr\">idahoreporter.com</span></a>)</span></td></tr><tr><td colspan=\"2\"></td><td class=\"subtext\">\\n        <span class=\"score\" id=\"score_21770564\">3 points</span> by <a href=\"user?id=RayMan1\" class=\"hnuser\">RayMan1</a> <span class=\"age\"><a href=\"item?id=21770564\">1 hour ago</a></span> <span id=\"unv_21770564\"></span> | <a href=\"hide?id=21770564&amp;goto=newest%3Fn%3D61%26next%3D21770576\">hide</a> | <a href=\"https://hn.algolia.com/?query=Three%20Americans%20arrested%20in%20%24722M%20%E2%80%9Ccrypto%20Ponzi%20scheme%E2%80%9D&sort=byDate&dateRange=all&type=story&storyText=false&prefix&page=0\" class=\"hnpast\">past</a> | <a href=\"https://www.google.com/search?q=Three%20Americans%20arrested%20in%20%24722M%20%E2%80%9Ccrypto%20Ponzi%20scheme%E2%80%9D\">web</a> | <a href=\"item?id=21770564\">discuss</a>              </td></tr>\\n      <tr class=\"spacer\" style=\"height:5px\"></tr>\\n                <tr class=\\'athing\\' id=\\'21770541\\'>\\n      <td align=\"right\" valign=\"top\" class=\"title\"><span class=\"rank\">64.</span></td>      <td valign=\"top\" class=\"votelinks\"><center><a id=\\'up_21770541\\' href=\\'vote?id=21770541&amp;how=up&amp;goto=newest%3Fn%3D61%26next%3D21770576\\'><div class=\\'votearrow\\' title=\\'upvote\\'></div></a></center></td><td class=\"title\"><a href=\"https://www.engadget.com/2019/12/11/taycan-turbo-epa-estimate\" class=\"storylink\" rel=\"nofollow\">Porsche Taycan Turbo\\'s EPA range of 201 miles is much lower than expected</a><span class=\"sitebit comhead\"> (<a href=\"from?site=engadget.com\"><span class=\"sitestr\">engadget.com</span></a>)</span></td></tr><tr><td colspan=\"2\"></td><td class=\"subtext\">\\n        <span class=\"score\" id=\"score_21770541\">1 point</span> by <a href=\"user?id=codeulike\" class=\"hnuser\">codeulike</a> <span class=\"age\"><a href=\"item?id=21770541\">1 hour ago</a></span> <span id=\"unv_21770541\"></span> | <a href=\"hide?id=21770541&amp;goto=newest%3Fn%3D61%26next%3D21770576\">hide</a> | <a href=\"https://hn.algolia.com/?query=Porsche%20Taycan%20Turbo\\'s%20EPA%20range%20of%20201%20miles%20is%20much%20lower%20than%20expected&sort=byDate&dateRange=all&type=story&storyText=false&prefix&page=0\" class=\"hnpast\">past</a> | <a href=\"https://www.google.com/search?q=Porsche%20Taycan%20Turbo\\'s%20EPA%20range%20of%20201%20miles%20is%20much%20lower%20than%20expected\">web</a> | <a href=\"item?id=21770541\">discuss</a>              </td></tr>\\n      <tr class=\"spacer\" style=\"height:5px\"></tr>\\n                <tr class=\\'athing\\' id=\\'21770535\\'>\\n      <td align=\"right\" valign=\"top\" class=\"title\"><span class=\"rank\">65.</span></td>      <td valign=\"top\" class=\"votelinks\"><center><a id=\\'up_21770535\\' href=\\'vote?id=21770535&amp;how=up&amp;goto=newest%3Fn%3D61%26next%3D21770576\\'><div class=\\'votearrow\\' title=\\'upvote\\'></div></a></center></td><td class=\"title\"><a href=\"https://www.youtube.com/watch?v=tcV1EYSUQME\" class=\"storylink\" rel=\"nofollow\">Tesla Valve Explained with Fire</a><span class=\"sitebit comhead\"> (<a href=\"from?site=youtube.com\"><span class=\"sitestr\">youtube.com</span></a>)</span></td></tr><tr><td colspan=\"2\"></td><td class=\"subtext\">\\n        <span class=\"score\" id=\"score_21770535\">1 point</span> by <a href=\"user?id=chris_overseas\" class=\"hnuser\">chris_overseas</a> <span class=\"age\"><a href=\"item?id=21770535\">1 hour ago</a></span> <span id=\"unv_21770535\"></span> | <a href=\"hide?id=21770535&amp;goto=newest%3Fn%3D61%26next%3D21770576\">hide</a> | <a href=\"https://hn.algolia.com/?query=Tesla%20Valve%20Explained%20with%20Fire&sort=byDate&dateRange=all&type=story&storyText=false&prefix&page=0\" class=\"hnpast\">past</a> | <a href=\"https://www.google.com/search?q=Tesla%20Valve%20Explained%20with%20Fire\">web</a> | <a href=\"item?id=21770535\">discuss</a>              </td></tr>\\n      <tr class=\"spacer\" style=\"height:5px\"></tr>\\n                <tr class=\\'athing\\' id=\\'21770534\\'>\\n      <td align=\"right\" valign=\"top\" class=\"title\"><span class=\"rank\">66.</span></td>      <td valign=\"top\" class=\"votelinks\"><center><a id=\\'up_21770534\\' href=\\'vote?id=21770534&amp;how=up&amp;goto=newest%3Fn%3D61%26next%3D21770576\\'><div class=\\'votearrow\\' title=\\'upvote\\'></div></a></center></td><td class=\"title\"><a href=\"https://www.parkersoftware.com/blog/bringing-the-site-to-life-an-interview-with-doug-collins/\" class=\"storylink\" rel=\"nofollow\">Beware the boring fallacy in web design</a><span class=\"sitebit comhead\"> (<a href=\"from?site=parkersoftware.com\"><span class=\"sitestr\">parkersoftware.com</span></a>)</span></td></tr><tr><td colspan=\"2\"></td><td class=\"subtext\">\\n        <span class=\"score\" id=\"score_21770534\">2 points</span> by <a href=\"user?id=roxyabercrombie\" class=\"hnuser\">roxyabercrombie</a> <span class=\"age\"><a href=\"item?id=21770534\">1 hour ago</a></span> <span id=\"unv_21770534\"></span> | <a href=\"hide?id=21770534&amp;goto=newest%3Fn%3D61%26next%3D21770576\">hide</a> | <a href=\"https://hn.algolia.com/?query=Beware%20the%20boring%20fallacy%20in%20web%20design&sort=byDate&dateRange=all&type=story&storyText=false&prefix&page=0\" class=\"hnpast\">past</a> | <a href=\"https://www.google.com/search?q=Beware%20the%20boring%20fallacy%20in%20web%20design\">web</a> | <a href=\"item?id=21770534\">discuss</a>              </td></tr>\\n      <tr class=\"spacer\" style=\"height:5px\"></tr>\\n                <tr class=\\'athing\\' id=\\'21770533\\'>\\n      <td align=\"right\" valign=\"top\" class=\"title\"><span class=\"rank\">67.</span></td>      <td valign=\"top\" class=\"votelinks\"><center><a id=\\'up_21770533\\' href=\\'vote?id=21770533&amp;how=up&amp;goto=newest%3Fn%3D61%26next%3D21770576\\'><div class=\\'votearrow\\' title=\\'upvote\\'></div></a></center></td><td class=\"title\"><a href=\"https://www.bbc.com/worklife/article/20191211-the-fantasy-numbers-that-make-you-buy-things-online\" class=\"storylink\" rel=\"nofollow\">Dark patterns influence travel bookings</a><span class=\"sitebit comhead\"> (<a href=\"from?site=bbc.com\"><span class=\"sitestr\">bbc.com</span></a>)</span></td></tr><tr><td colspan=\"2\"></td><td class=\"subtext\">\\n        <span class=\"score\" id=\"score_21770533\">2 points</span> by <a href=\"user?id=pg_bot\" class=\"hnuser\">pg_bot</a> <span class=\"age\"><a href=\"item?id=21770533\">1 hour ago</a></span> <span id=\"unv_21770533\"></span> | <a href=\"hide?id=21770533&amp;goto=newest%3Fn%3D61%26next%3D21770576\">hide</a> | <a href=\"https://hn.algolia.com/?query=Dark%20patterns%20influence%20travel%20bookings&sort=byDate&dateRange=all&type=story&storyText=false&prefix&page=0\" class=\"hnpast\">past</a> | <a href=\"https://www.google.com/search?q=Dark%20patterns%20influence%20travel%20bookings\">web</a> | <a href=\"item?id=21770533\">discuss</a>              </td></tr>\\n      <tr class=\"spacer\" style=\"height:5px\"></tr>\\n                <tr class=\\'athing\\' id=\\'21770530\\'>\\n      <td align=\"right\" valign=\"top\" class=\"title\"><span class=\"rank\">68.</span></td>      <td valign=\"top\" class=\"votelinks\"><center><a id=\\'up_21770530\\' href=\\'vote?id=21770530&amp;how=up&amp;goto=newest%3Fn%3D61%26next%3D21770576\\'><div class=\\'votearrow\\' title=\\'upvote\\'></div></a></center></td><td class=\"title\"><a href=\"https://blog.plan99.net/modern-garbage-collection-part-2-1c88847abcfd\" class=\"storylink\" rel=\"nofollow\">Modern garbage collection: Part 2</a><span class=\"sitebit comhead\"> (<a href=\"from?site=plan99.net\"><span class=\"sitestr\">plan99.net</span></a>)</span></td></tr><tr><td colspan=\"2\"></td><td class=\"subtext\">\\n        <span class=\"score\" id=\"score_21770530\">1 point</span> by <a href=\"user?id=mariuz\" class=\"hnuser\">mariuz</a> <span class=\"age\"><a href=\"item?id=21770530\">1 hour ago</a></span> <span id=\"unv_21770530\"></span> | <a href=\"hide?id=21770530&amp;goto=newest%3Fn%3D61%26next%3D21770576\">hide</a> | <a href=\"https://hn.algolia.com/?query=Modern%20garbage%20collection%3A%20Part%202&sort=byDate&dateRange=all&type=story&storyText=false&prefix&page=0\" class=\"hnpast\">past</a> | <a href=\"https://www.google.com/search?q=Modern%20garbage%20collection%3A%20Part%202\">web</a> | <a href=\"item?id=21770530\">discuss</a>              </td></tr>\\n      <tr class=\"spacer\" style=\"height:5px\"></tr>\\n                <tr class=\\'athing\\' id=\\'21770517\\'>\\n      <td align=\"right\" valign=\"top\" class=\"title\"><span class=\"rank\">69.</span></td>      <td valign=\"top\" class=\"votelinks\"><center><a id=\\'up_21770517\\' href=\\'vote?id=21770517&amp;how=up&amp;goto=newest%3Fn%3D61%26next%3D21770576\\'><div class=\\'votearrow\\' title=\\'upvote\\'></div></a></center></td><td class=\"title\"><a href=\"https://security.stackexchange.com/questions/222457/how-am-i-ever-going-to-be-able-to-vet-120-000-lines-of-composer-php-code-not\" class=\"storylink\" rel=\"nofollow\">How can I \\xe2\\x80\\x9cvet\\xe2\\x80\\x9d 120k lines of Composer PHP code not written by me?</a><span class=\"sitebit comhead\"> (<a href=\"from?site=stackexchange.com\"><span class=\"sitestr\">stackexchange.com</span></a>)</span></td></tr><tr><td colspan=\"2\"></td><td class=\"subtext\">\\n        <span class=\"score\" id=\"score_21770517\">4 points</span> by <a href=\"user?id=cromulent\" class=\"hnuser\">cromulent</a> <span class=\"age\"><a href=\"item?id=21770517\">1 hour ago</a></span> <span id=\"unv_21770517\"></span> | <a href=\"hide?id=21770517&amp;goto=newest%3Fn%3D61%26next%3D21770576\">hide</a> | <a href=\"https://hn.algolia.com/?query=How%20can%20I%20%E2%80%9Cvet%E2%80%9D%20120k%20lines%20of%20Composer%20PHP%20code%20not%20written%20by%20me%3F&sort=byDate&dateRange=all&type=story&storyText=false&prefix&page=0\" class=\"hnpast\">past</a> | <a href=\"https://www.google.com/search?q=How%20can%20I%20%E2%80%9Cvet%E2%80%9D%20120k%20lines%20of%20Composer%20PHP%20code%20not%20written%20by%20me%3F\">web</a> | <a href=\"item?id=21770517\">discuss</a>              </td></tr>\\n      <tr class=\"spacer\" style=\"height:5px\"></tr>\\n                <tr class=\\'athing\\' id=\\'21770513\\'>\\n      <td align=\"right\" valign=\"top\" class=\"title\"><span class=\"rank\">70.</span></td>      <td valign=\"top\" class=\"votelinks\"><center><a id=\\'up_21770513\\' href=\\'vote?id=21770513&amp;how=up&amp;goto=newest%3Fn%3D61%26next%3D21770576\\'><div class=\\'votearrow\\' title=\\'upvote\\'></div></a></center></td><td class=\"title\"><a href=\"https://www.youtube.com/watch?v=18MRZq0bhpE\" class=\"storylink\" rel=\"nofollow\">Paul Schmitt on Designing Skateboards</a><span class=\"sitebit comhead\"> (<a href=\"from?site=youtube.com\"><span class=\"sitestr\">youtube.com</span></a>)</span></td></tr><tr><td colspan=\"2\"></td><td class=\"subtext\">\\n        <span class=\"score\" id=\"score_21770513\">1 point</span> by <a href=\"user?id=wturner\" class=\"hnuser\">wturner</a> <span class=\"age\"><a href=\"item?id=21770513\">1 hour ago</a></span> <span id=\"unv_21770513\"></span> | <a href=\"hide?id=21770513&amp;goto=newest%3Fn%3D61%26next%3D21770576\">hide</a> | <a href=\"https://hn.algolia.com/?query=Paul%20Schmitt%20on%20Designing%20Skateboards&sort=byDate&dateRange=all&type=story&storyText=false&prefix&page=0\" class=\"hnpast\">past</a> | <a href=\"https://www.google.com/search?q=Paul%20Schmitt%20on%20Designing%20Skateboards\">web</a> | <a href=\"item?id=21770513\">discuss</a>              </td></tr>\\n      <tr class=\"spacer\" style=\"height:5px\"></tr>\\n                <tr class=\\'athing\\' id=\\'21770511\\'>\\n      <td align=\"right\" valign=\"top\" class=\"title\"><span class=\"rank\">71.</span></td>      <td valign=\"top\" class=\"votelinks\"><center><a id=\\'up_21770511\\' href=\\'vote?id=21770511&amp;how=up&amp;goto=newest%3Fn%3D61%26next%3D21770576\\'><div class=\\'votearrow\\' title=\\'upvote\\'></div></a></center></td><td class=\"title\"><a href=\"https://blog.floydhub.com/turning-design-mockups-into-code-with-deep-learning/\" class=\"storylink\" rel=\"nofollow\">Turning Design Mockups into Code with Deep Learning</a><span class=\"sitebit comhead\"> (<a href=\"from?site=floydhub.com\"><span class=\"sitestr\">floydhub.com</span></a>)</span></td></tr><tr><td colspan=\"2\"></td><td class=\"subtext\">\\n        <span class=\"score\" id=\"score_21770511\">1 point</span> by <a href=\"user?id=mmoez\" class=\"hnuser\">mmoez</a> <span class=\"age\"><a href=\"item?id=21770511\">1 hour ago</a></span> <span id=\"unv_21770511\"></span> | <a href=\"hide?id=21770511&amp;goto=newest%3Fn%3D61%26next%3D21770576\">hide</a> | <a href=\"https://hn.algolia.com/?query=Turning%20Design%20Mockups%20into%20Code%20with%20Deep%20Learning&sort=byDate&dateRange=all&type=story&storyText=false&prefix&page=0\" class=\"hnpast\">past</a> | <a href=\"https://www.google.com/search?q=Turning%20Design%20Mockups%20into%20Code%20with%20Deep%20Learning\">web</a> | <a href=\"item?id=21770511\">discuss</a>              </td></tr>\\n      <tr class=\"spacer\" style=\"height:5px\"></tr>\\n                <tr class=\\'athing\\' id=\\'21770501\\'>\\n      <td align=\"right\" valign=\"top\" class=\"title\"><span class=\"rank\">72.</span></td>      <td valign=\"top\" class=\"votelinks\"><center><a id=\\'up_21770501\\' href=\\'vote?id=21770501&amp;how=up&amp;goto=newest%3Fn%3D61%26next%3D21770576\\'><div class=\\'votearrow\\' title=\\'upvote\\'></div></a></center></td><td class=\"title\"><a href=\"https://0fps.net/2012/06/30/meshing-in-a-minecraft-game/\" class=\"storylink\" rel=\"nofollow\">Meshing in a Minecraft Game</a><span class=\"sitebit comhead\"> (<a href=\"from?site=0fps.net\"><span class=\"sitestr\">0fps.net</span></a>)</span></td></tr><tr><td colspan=\"2\"></td><td class=\"subtext\">\\n        <span class=\"score\" id=\"score_21770501\">2 points</span> by <a href=\"user?id=atomlib\" class=\"hnuser\">atomlib</a> <span class=\"age\"><a href=\"item?id=21770501\">2 hours ago</a></span> <span id=\"unv_21770501\"></span> | <a href=\"hide?id=21770501&amp;goto=newest%3Fn%3D61%26next%3D21770576\">hide</a> | <a href=\"https://hn.algolia.com/?query=Meshing%20in%20a%20Minecraft%20Game&sort=byDate&dateRange=all&type=story&storyText=false&prefix&page=0\" class=\"hnpast\">past</a> | <a href=\"https://www.google.com/search?q=Meshing%20in%20a%20Minecraft%20Game\">web</a> | <a href=\"item?id=21770501\">discuss</a>              </td></tr>\\n      <tr class=\"spacer\" style=\"height:5px\"></tr>\\n                <tr class=\\'athing\\' id=\\'21770497\\'>\\n      <td align=\"right\" valign=\"top\" class=\"title\"><span class=\"rank\">73.</span></td>      <td valign=\"top\" class=\"votelinks\"><center><a id=\\'up_21770497\\' href=\\'vote?id=21770497&amp;how=up&amp;goto=newest%3Fn%3D61%26next%3D21770576\\'><div class=\\'votearrow\\' title=\\'upvote\\'></div></a></center></td><td class=\"title\"><a href=\"https://www.infoq.com/presentations/functional-pros-cons/\" class=\"storylink\" rel=\"nofollow\">Deconstructing Functional Programming (2013)</a><span class=\"sitebit comhead\"> (<a href=\"from?site=infoq.com\"><span class=\"sitestr\">infoq.com</span></a>)</span></td></tr><tr><td colspan=\"2\"></td><td class=\"subtext\">\\n        <span class=\"score\" id=\"score_21770497\">2 points</span> by <a href=\"user?id=mpweiher\" class=\"hnuser\">mpweiher</a> <span class=\"age\"><a href=\"item?id=21770497\">2 hours ago</a></span> <span id=\"unv_21770497\"></span> | <a href=\"hide?id=21770497&amp;goto=newest%3Fn%3D61%26next%3D21770576\">hide</a> | <a href=\"https://hn.algolia.com/?query=Deconstructing%20Functional%20Programming&sort=byDate&dateRange=all&type=story&storyText=false&prefix&page=0\" class=\"hnpast\">past</a> | <a href=\"https://www.google.com/search?q=Deconstructing%20Functional%20Programming\">web</a> | <a href=\"item?id=21770497\">discuss</a>              </td></tr>\\n      <tr class=\"spacer\" style=\"height:5px\"></tr>\\n                <tr class=\\'athing\\' id=\\'21770495\\'>\\n      <td align=\"right\" valign=\"top\" class=\"title\"><span class=\"rank\">74.</span></td>      <td valign=\"top\" class=\"votelinks\"><center><a id=\\'up_21770495\\' href=\\'vote?id=21770495&amp;how=up&amp;goto=newest%3Fn%3D61%26next%3D21770576\\'><div class=\\'votearrow\\' title=\\'upvote\\'></div></a></center></td><td class=\"title\"><a href=\"item?id=21770495\" class=\"storylink\">Tell HN: AdNauseam got my IP address blocked from HN for being a bot</a></td></tr><tr><td colspan=\"2\"></td><td class=\"subtext\">\\n        <span class=\"score\" id=\"score_21770495\">8 points</span> by <a href=\"user?id=hvenev\" class=\"hnuser\">hvenev</a> <span class=\"age\"><a href=\"item?id=21770495\">2 hours ago</a></span> <span id=\"unv_21770495\"></span> | <a href=\"hide?id=21770495&amp;goto=newest%3Fn%3D61%26next%3D21770576\">hide</a> | <a href=\"https://hn.algolia.com/?query=Tell%20HN%3A%20AdNauseam%20got%20my%20IP%20address%20blocked%20from%20HN%20for%20being%20a%20bot&sort=byDate&dateRange=all&type=story&storyText=false&prefix&page=0\" class=\"hnpast\">past</a> | <a href=\"https://www.google.com/search?q=Tell%20HN%3A%20AdNauseam%20got%20my%20IP%20address%20blocked%20from%20HN%20for%20being%20a%20bot\">web</a> | <a href=\"item?id=21770495\">discuss</a>              </td></tr>\\n      <tr class=\"spacer\" style=\"height:5px\"></tr>\\n                <tr class=\\'athing\\' id=\\'21770490\\'>\\n      <td align=\"right\" valign=\"top\" class=\"title\"><span class=\"rank\">75.</span></td>      <td valign=\"top\" class=\"votelinks\"><center><a id=\\'up_21770490\\' href=\\'vote?id=21770490&amp;how=up&amp;goto=newest%3Fn%3D61%26next%3D21770576\\'><div class=\\'votearrow\\' title=\\'upvote\\'></div></a></center></td><td class=\"title\"><a href=\"https://sifted.eu/articles/gary-turner-xero-peter-thiel/\" class=\"storylink\" rel=\"nofollow\">The Scot who helped turn Peter Thiel-backed startup Xero into a $11bn business</a><span class=\"sitebit comhead\"> (<a href=\"from?site=sifted.eu\"><span class=\"sitestr\">sifted.eu</span></a>)</span></td></tr><tr><td colspan=\"2\"></td><td class=\"subtext\">\\n        <span class=\"score\" id=\"score_21770490\">1 point</span> by <a href=\"user?id=seapunk\" class=\"hnuser\">seapunk</a> <span class=\"age\"><a href=\"item?id=21770490\">2 hours ago</a></span> <span id=\"unv_21770490\"></span> | <a href=\"hide?id=21770490&amp;goto=newest%3Fn%3D61%26next%3D21770576\">hide</a> | <a href=\"https://hn.algolia.com/?query=The%20Scot%20who%20helped%20turn%20Peter%20Thiel-backed%20startup%20Xero%20into%20a%20%2411bn%20business&sort=byDate&dateRange=all&type=story&storyText=false&prefix&page=0\" class=\"hnpast\">past</a> | <a href=\"https://www.google.com/search?q=The%20Scot%20who%20helped%20turn%20Peter%20Thiel-backed%20startup%20Xero%20into%20a%20%2411bn%20business\">web</a> | <a href=\"item?id=21770490\">discuss</a>              </td></tr>\\n      <tr class=\"spacer\" style=\"height:5px\"></tr>\\n                <tr class=\\'athing\\' id=\\'21770489\\'>\\n      <td align=\"right\" valign=\"top\" class=\"title\"><span class=\"rank\">76.</span></td>      <td valign=\"top\" class=\"votelinks\"><center><a id=\\'up_21770489\\' href=\\'vote?id=21770489&amp;how=up&amp;goto=newest%3Fn%3D61%26next%3D21770576\\'><div class=\\'votearrow\\' title=\\'upvote\\'></div></a></center></td><td class=\"title\"><a href=\"https://wicg.github.io/background-fetch/\" class=\"storylink\" rel=\"nofollow\">Background Fetch</a><span class=\"sitebit comhead\"> (<a href=\"from?site=wicg.github.io\"><span class=\"sitestr\">wicg.github.io</span></a>)</span></td></tr><tr><td colspan=\"2\"></td><td class=\"subtext\">\\n        <span class=\"score\" id=\"score_21770489\">2 points</span> by <a href=\"user?id=mutor\" class=\"hnuser\">mutor</a> <span class=\"age\"><a href=\"item?id=21770489\">2 hours ago</a></span> <span id=\"unv_21770489\"></span> | <a href=\"hide?id=21770489&amp;goto=newest%3Fn%3D61%26next%3D21770576\">hide</a> | <a href=\"https://hn.algolia.com/?query=Background%20Fetch&sort=byDate&dateRange=all&type=story&storyText=false&prefix&page=0\" class=\"hnpast\">past</a> | <a href=\"https://www.google.com/search?q=Background%20Fetch\">web</a> | <a href=\"item?id=21770489\">discuss</a>              </td></tr>\\n      <tr class=\"spacer\" style=\"height:5px\"></tr>\\n                <tr class=\\'athing\\' id=\\'21770487\\'>\\n      <td align=\"right\" valign=\"top\" class=\"title\"><span class=\"rank\">77.</span></td>      <td valign=\"top\" class=\"votelinks\"><center><a id=\\'up_21770487\\' href=\\'vote?id=21770487&amp;how=up&amp;goto=newest%3Fn%3D61%26next%3D21770576\\'><div class=\\'votearrow\\' title=\\'upvote\\'></div></a></center></td><td class=\"title\"><a href=\"https://github.com/umuplus/beems\" class=\"storylink\" rel=\"nofollow\">Show HN: Bee-queue based microservices for Node.js</a><span class=\"sitebit comhead\"> (<a href=\"from?site=github.com\"><span class=\"sitestr\">github.com</span></a>)</span></td></tr><tr><td colspan=\"2\"></td><td class=\"subtext\">\\n        <span class=\"score\" id=\"score_21770487\">1 point</span> by <a href=\"user?id=umuplus\" class=\"hnuser\">umuplus</a> <span class=\"age\"><a href=\"item?id=21770487\">2 hours ago</a></span> <span id=\"unv_21770487\"></span> | <a href=\"hide?id=21770487&amp;goto=newest%3Fn%3D61%26next%3D21770576\">hide</a> | <a href=\"https://hn.algolia.com/?query=Show%20HN%3A%20Bee-queue%20based%20microservices%20for%20Node.js&sort=byDate&dateRange=all&type=story&storyText=false&prefix&page=0\" class=\"hnpast\">past</a> | <a href=\"https://www.google.com/search?q=Show%20HN%3A%20Bee-queue%20based%20microservices%20for%20Node.js\">web</a> | <a href=\"item?id=21770487\">discuss</a>              </td></tr>\\n      <tr class=\"spacer\" style=\"height:5px\"></tr>\\n                <tr class=\\'athing\\' id=\\'21770469\\'>\\n      <td align=\"right\" valign=\"top\" class=\"title\"><span class=\"rank\">78.</span></td>      <td valign=\"top\" class=\"votelinks\"><center><a id=\\'up_21770469\\' href=\\'vote?id=21770469&amp;how=up&amp;goto=newest%3Fn%3D61%26next%3D21770576\\'><div class=\\'votearrow\\' title=\\'upvote\\'></div></a></center></td><td class=\"title\"><a href=\"https://lab.onebonsai.com/what-is-quantum-computing-and-how-will-it-impact-us-d96831073689\" class=\"storylink\" rel=\"nofollow\">How does quantum computing work?</a><span class=\"sitebit comhead\"> (<a href=\"from?site=onebonsai.com\"><span class=\"sitestr\">onebonsai.com</span></a>)</span></td></tr><tr><td colspan=\"2\"></td><td class=\"subtext\">\\n        <span class=\"score\" id=\"score_21770469\">1 point</span> by <a href=\"user?id=TDMoor\" class=\"hnuser\">TDMoor</a> <span class=\"age\"><a href=\"item?id=21770469\">2 hours ago</a></span> <span id=\"unv_21770469\"></span> | <a href=\"hide?id=21770469&amp;goto=newest%3Fn%3D61%26next%3D21770576\">hide</a> | <a href=\"https://hn.algolia.com/?query=How%20does%20quantum%20computing%20work%3F&sort=byDate&dateRange=all&type=story&storyText=false&prefix&page=0\" class=\"hnpast\">past</a> | <a href=\"https://www.google.com/search?q=How%20does%20quantum%20computing%20work%3F\">web</a> | <a href=\"item?id=21770469\">discuss</a>              </td></tr>\\n      <tr class=\"spacer\" style=\"height:5px\"></tr>\\n                <tr class=\\'athing\\' id=\\'21770464\\'>\\n      <td align=\"right\" valign=\"top\" class=\"title\"><span class=\"rank\">79.</span></td>      <td valign=\"top\" class=\"votelinks\"><center><a id=\\'up_21770464\\' href=\\'vote?id=21770464&amp;how=up&amp;goto=newest%3Fn%3D61%26next%3D21770576\\'><div class=\\'votearrow\\' title=\\'upvote\\'></div></a></center></td><td class=\"title\"><a href=\"https://phys.org/news/2019-12-energy-space-quantum-weirdness.html\" class=\"storylink\" rel=\"nofollow\">Heat energy can travel through empty space</a><span class=\"sitebit comhead\"> (<a href=\"from?site=phys.org\"><span class=\"sitestr\">phys.org</span></a>)</span></td></tr><tr><td colspan=\"2\"></td><td class=\"subtext\">\\n        <span class=\"score\" id=\"score_21770464\">2 points</span> by <a href=\"user?id=stambros\" class=\"hnuser\">stambros</a> <span class=\"age\"><a href=\"item?id=21770464\">2 hours ago</a></span> <span id=\"unv_21770464\"></span> | <a href=\"hide?id=21770464&amp;goto=newest%3Fn%3D61%26next%3D21770576\">hide</a> | <a href=\"https://hn.algolia.com/?query=Heat%20energy%20can%20travel%20through%20empty%20space&sort=byDate&dateRange=all&type=story&storyText=false&prefix&page=0\" class=\"hnpast\">past</a> | <a href=\"https://www.google.com/search?q=Heat%20energy%20can%20travel%20through%20empty%20space\">web</a> | <a href=\"item?id=21770464\">1&nbsp;comment</a>              </td></tr>\\n      <tr class=\"spacer\" style=\"height:5px\"></tr>\\n                <tr class=\\'athing\\' id=\\'21770451\\'>\\n      <td align=\"right\" valign=\"top\" class=\"title\"><span class=\"rank\">80.</span></td>      <td valign=\"top\" class=\"votelinks\"><center><a id=\\'up_21770451\\' href=\\'vote?id=21770451&amp;how=up&amp;goto=newest%3Fn%3D61%26next%3D21770576\\'><div class=\\'votearrow\\' title=\\'upvote\\'></div></a></center></td><td class=\"title\"><a href=\"https://archive.org/details/softwarelibrary_msdos_games\" class=\"storylink\" rel=\"nofollow\">Software Library: MS-DOS Games</a><span class=\"sitebit comhead\"> (<a href=\"from?site=archive.org\"><span class=\"sitestr\">archive.org</span></a>)</span></td></tr><tr><td colspan=\"2\"></td><td class=\"subtext\">\\n        <span class=\"score\" id=\"score_21770451\">2 points</span> by <a href=\"user?id=davedx\" class=\"hnuser\">davedx</a> <span class=\"age\"><a href=\"item?id=21770451\">2 hours ago</a></span> <span id=\"unv_21770451\"></span> | <a href=\"hide?id=21770451&amp;goto=newest%3Fn%3D61%26next%3D21770576\">hide</a> | <a href=\"https://hn.algolia.com/?query=Software%20Library%3A%20MS-DOS%20Games&sort=byDate&dateRange=all&type=story&storyText=false&prefix&page=0\" class=\"hnpast\">past</a> | <a href=\"https://www.google.com/search?q=Software%20Library%3A%20MS-DOS%20Games\">web</a> | <a href=\"item?id=21770451\">discuss</a>              </td></tr>\\n      <tr class=\"spacer\" style=\"height:5px\"></tr>\\n                <tr class=\\'athing\\' id=\\'21770446\\'>\\n      <td align=\"right\" valign=\"top\" class=\"title\"><span class=\"rank\">81.</span></td>      <td valign=\"top\" class=\"votelinks\"><center><a id=\\'up_21770446\\' href=\\'vote?id=21770446&amp;how=up&amp;goto=newest%3Fn%3D61%26next%3D21770576\\'><div class=\\'votearrow\\' title=\\'upvote\\'></div></a></center></td><td class=\"title\"><a href=\"https://sizle.io/\" class=\"storylink\" rel=\"nofollow\">Show HN: Sizle \\xe2\\x80\\x93 Bring your slide decks to life</a><span class=\"sitebit comhead\"> (<a href=\"from?site=sizle.io\"><span class=\"sitestr\">sizle.io</span></a>)</span></td></tr><tr><td colspan=\"2\"></td><td class=\"subtext\">\\n        <span class=\"score\" id=\"score_21770446\">1 point</span> by <a href=\"user?id=jeremyduff\" class=\"hnuser\">jeremyduff</a> <span class=\"age\"><a href=\"item?id=21770446\">2 hours ago</a></span> <span id=\"unv_21770446\"></span> | <a href=\"hide?id=21770446&amp;goto=newest%3Fn%3D61%26next%3D21770576\">hide</a> | <a href=\"https://hn.algolia.com/?query=Show%20HN%3A%20Sizle%20%E2%80%93%20Bring%20your%20slide%20decks%20to%20life&sort=byDate&dateRange=all&type=story&storyText=false&prefix&page=0\" class=\"hnpast\">past</a> | <a href=\"https://www.google.com/search?q=Show%20HN%3A%20Sizle%20%E2%80%93%20Bring%20your%20slide%20decks%20to%20life\">web</a> | <a href=\"item?id=21770446\">discuss</a>              </td></tr>\\n      <tr class=\"spacer\" style=\"height:5px\"></tr>\\n                <tr class=\\'athing\\' id=\\'21770443\\'>\\n      <td align=\"right\" valign=\"top\" class=\"title\"><span class=\"rank\">82.</span></td>      <td valign=\"top\" class=\"votelinks\"><center><a id=\\'up_21770443\\' href=\\'vote?id=21770443&amp;how=up&amp;goto=newest%3Fn%3D61%26next%3D21770576\\'><div class=\\'votearrow\\' title=\\'upvote\\'></div></a></center></td><td class=\"title\"><a href=\"https://www.bbc.com/news/technology-50742080\" class=\"storylink\" rel=\"nofollow\">Plus.ai\\'s autonomous lorry \\'crosses US in three days\\'</a><span class=\"sitebit comhead\"> (<a href=\"from?site=bbc.com\"><span class=\"sitestr\">bbc.com</span></a>)</span></td></tr><tr><td colspan=\"2\"></td><td class=\"subtext\">\\n        <span class=\"score\" id=\"score_21770443\">1 point</span> by <a href=\"user?id=adzicg\" class=\"hnuser\">adzicg</a> <span class=\"age\"><a href=\"item?id=21770443\">2 hours ago</a></span> <span id=\"unv_21770443\"></span> | <a href=\"hide?id=21770443&amp;goto=newest%3Fn%3D61%26next%3D21770576\">hide</a> | <a href=\"https://hn.algolia.com/?query=Plus.ai\\'s%20autonomous%20lorry%20\\'crosses%20US%20in%20three%20days\\'&sort=byDate&dateRange=all&type=story&storyText=false&prefix&page=0\" class=\"hnpast\">past</a> | <a href=\"https://www.google.com/search?q=Plus.ai\\'s%20autonomous%20lorry%20\\'crosses%20US%20in%20three%20days\\'\">web</a> | <a href=\"item?id=21770443\">discuss</a>              </td></tr>\\n      <tr class=\"spacer\" style=\"height:5px\"></tr>\\n                <tr class=\\'athing\\' id=\\'21770423\\'>\\n      <td align=\"right\" valign=\"top\" class=\"title\"><span class=\"rank\">83.</span></td>      <td valign=\"top\" class=\"votelinks\"><center><a id=\\'up_21770423\\' href=\\'vote?id=21770423&amp;how=up&amp;goto=newest%3Fn%3D61%26next%3D21770576\\'><div class=\\'votearrow\\' title=\\'upvote\\'></div></a></center></td><td class=\"title\"><a href=\"https://www.itnews.com.au/news/government-reveals-censorship-overhaul-stiff-privacy-penalties-for-digital-platforms-535421\" class=\"storylink\" rel=\"nofollow\">AU government reveals censorship overhaul, stiff privacy penalties</a><span class=\"sitebit comhead\"> (<a href=\"from?site=itnews.com.au\"><span class=\"sitestr\">itnews.com.au</span></a>)</span></td></tr><tr><td colspan=\"2\"></td><td class=\"subtext\">\\n        <span class=\"score\" id=\"score_21770423\">5 points</span> by <a href=\"user?id=smcleod\" class=\"hnuser\">smcleod</a> <span class=\"age\"><a href=\"item?id=21770423\">2 hours ago</a></span> <span id=\"unv_21770423\"></span> | <a href=\"hide?id=21770423&amp;goto=newest%3Fn%3D61%26next%3D21770576\">hide</a> | <a href=\"https://hn.algolia.com/?query=AU%20government%20reveals%20censorship%20overhaul%2C%20stiff%20privacy%20penalties&sort=byDate&dateRange=all&type=story&storyText=false&prefix&page=0\" class=\"hnpast\">past</a> | <a href=\"https://www.google.com/search?q=AU%20government%20reveals%20censorship%20overhaul%2C%20stiff%20privacy%20penalties\">web</a> | <a href=\"item?id=21770423\">discuss</a>              </td></tr>\\n      <tr class=\"spacer\" style=\"height:5px\"></tr>\\n                <tr class=\\'athing\\' id=\\'21770411\\'>\\n      <td align=\"right\" valign=\"top\" class=\"title\"><span class=\"rank\">84.</span></td>      <td valign=\"top\" class=\"votelinks\"><center><a id=\\'up_21770411\\' href=\\'vote?id=21770411&amp;how=up&amp;goto=newest%3Fn%3D61%26next%3D21770576\\'><div class=\\'votearrow\\' title=\\'upvote\\'></div></a></center></td><td class=\"title\"><a href=\"item?id=21770411\" class=\"storylink\">China\\'s Bitcoin miners scoop up greater production power</a></td></tr><tr><td colspan=\"2\"></td><td class=\"subtext\">\\n        <span class=\"score\" id=\"score_21770411\">3 points</span> by <a href=\"user?id=swordartvirtual\" class=\"hnuser\">swordartvirtual</a> <span class=\"age\"><a href=\"item?id=21770411\">2 hours ago</a></span> <span id=\"unv_21770411\"></span> | <a href=\"hide?id=21770411&amp;goto=newest%3Fn%3D61%26next%3D21770576\">hide</a> | <a href=\"https://hn.algolia.com/?query=China\\'s%20Bitcoin%20miners%20scoop%20up%20greater%20production%20power&sort=byDate&dateRange=all&type=story&storyText=false&prefix&page=0\" class=\"hnpast\">past</a> | <a href=\"https://www.google.com/search?q=China\\'s%20Bitcoin%20miners%20scoop%20up%20greater%20production%20power\">web</a> | <a href=\"item?id=21770411\">2&nbsp;comments</a>              </td></tr>\\n      <tr class=\"spacer\" style=\"height:5px\"></tr>\\n                <tr class=\\'athing\\' id=\\'21770406\\'>\\n      <td align=\"right\" valign=\"top\" class=\"title\"><span class=\"rank\">85.</span></td>      <td valign=\"top\" class=\"votelinks\"><center><a id=\\'up_21770406\\' href=\\'vote?id=21770406&amp;how=up&amp;goto=newest%3Fn%3D61%26next%3D21770576\\'><div class=\\'votearrow\\' title=\\'upvote\\'></div></a></center></td><td class=\"title\"><a href=\"https://blog.isquaredsoftware.com/2019/06/presentation-react-redux-deep-dive/\" class=\"storylink\" rel=\"nofollow\">ReactNext 2019: A Deep Dive into React-Redux</a><span class=\"sitebit comhead\"> (<a href=\"from?site=isquaredsoftware.com\"><span class=\"sitestr\">isquaredsoftware.com</span></a>)</span></td></tr><tr><td colspan=\"2\"></td><td class=\"subtext\">\\n        <span class=\"score\" id=\"score_21770406\">1 point</span> by <a href=\"user?id=mariuz\" class=\"hnuser\">mariuz</a> <span class=\"age\"><a href=\"item?id=21770406\">2 hours ago</a></span> <span id=\"unv_21770406\"></span> | <a href=\"hide?id=21770406&amp;goto=newest%3Fn%3D61%26next%3D21770576\">hide</a> | <a href=\"https://hn.algolia.com/?query=ReactNext%202019%3A%20A%20Deep%20Dive%20into%20React-Redux&sort=byDate&dateRange=all&type=story&storyText=false&prefix&page=0\" class=\"hnpast\">past</a> | <a href=\"https://www.google.com/search?q=ReactNext%202019%3A%20A%20Deep%20Dive%20into%20React-Redux\">web</a> | <a href=\"item?id=21770406\">discuss</a>              </td></tr>\\n      <tr class=\"spacer\" style=\"height:5px\"></tr>\\n                <tr class=\\'athing\\' id=\\'21770398\\'>\\n      <td align=\"right\" valign=\"top\" class=\"title\"><span class=\"rank\">86.</span></td>      <td valign=\"top\" class=\"votelinks\"><center><a id=\\'up_21770398\\' href=\\'vote?id=21770398&amp;how=up&amp;goto=newest%3Fn%3D61%26next%3D21770576\\'><div class=\\'votearrow\\' title=\\'upvote\\'></div></a></center></td><td class=\"title\"><a href=\"https://youtu.be/aHl2aEvJW48\" class=\"storylink\" rel=\"nofollow\">Making my first production piece of (hopefully sustainable) music hardware</a><span class=\"sitebit comhead\"> (<a href=\"from?site=youtu.be\"><span class=\"sitestr\">youtu.be</span></a>)</span></td></tr><tr><td colspan=\"2\"></td><td class=\"subtext\">\\n        <span class=\"score\" id=\"score_21770398\">1 point</span> by <a href=\"user?id=michael_forrest\" class=\"hnuser\">michael_forrest</a> <span class=\"age\"><a href=\"item?id=21770398\">2 hours ago</a></span> <span id=\"unv_21770398\"></span> | <a href=\"hide?id=21770398&amp;goto=newest%3Fn%3D61%26next%3D21770576\">hide</a> | <a href=\"https://hn.algolia.com/?query=Making%20my%20first%20production%20piece%20of%20(hopefully%20sustainable)%20music%20hardware&sort=byDate&dateRange=all&type=story&storyText=false&prefix&page=0\" class=\"hnpast\">past</a> | <a href=\"https://www.google.com/search?q=Making%20my%20first%20production%20piece%20of%20(hopefully%20sustainable)%20music%20hardware\">web</a> | <a href=\"item?id=21770398\">discuss</a>              </td></tr>\\n      <tr class=\"spacer\" style=\"height:5px\"></tr>\\n                <tr class=\\'athing\\' id=\\'21770383\\'>\\n      <td align=\"right\" valign=\"top\" class=\"title\"><span class=\"rank\">87.</span></td>      <td valign=\"top\" class=\"votelinks\"><center><a id=\\'up_21770383\\' href=\\'vote?id=21770383&amp;how=up&amp;goto=newest%3Fn%3D61%26next%3D21770576\\'><div class=\\'votearrow\\' title=\\'upvote\\'></div></a></center></td><td class=\"title\"><a href=\"https://www.youtube.com/watch?v=QLwFpT_0c4U\" class=\"storylink\" rel=\"nofollow\">Building a Blockchain in Erlang by Ulf Wiger, Erlang Veteran</a><span class=\"sitebit comhead\"> (<a href=\"from?site=youtube.com\"><span class=\"sitestr\">youtube.com</span></a>)</span></td></tr><tr><td colspan=\"2\"></td><td class=\"subtext\">\\n        <span class=\"score\" id=\"score_21770383\">1 point</span> by <a href=\"user?id=aeternal\" class=\"hnuser\">aeternal</a> <span class=\"age\"><a href=\"item?id=21770383\">2 hours ago</a></span> <span id=\"unv_21770383\"></span> | <a href=\"hide?id=21770383&amp;goto=newest%3Fn%3D61%26next%3D21770576\">hide</a> | <a href=\"https://hn.algolia.com/?query=Building%20a%20Blockchain%20in%20Erlang%20by%20Ulf%20Wiger%2C%20Erlang%20Veteran&sort=byDate&dateRange=all&type=story&storyText=false&prefix&page=0\" class=\"hnpast\">past</a> | <a href=\"https://www.google.com/search?q=Building%20a%20Blockchain%20in%20Erlang%20by%20Ulf%20Wiger%2C%20Erlang%20Veteran\">web</a> | <a href=\"item?id=21770383\">discuss</a>              </td></tr>\\n      <tr class=\"spacer\" style=\"height:5px\"></tr>\\n                <tr class=\\'athing\\' id=\\'21770367\\'>\\n      <td align=\"right\" valign=\"top\" class=\"title\"><span class=\"rank\">88.</span></td>      <td valign=\"top\" class=\"votelinks\"><center><a id=\\'up_21770367\\' href=\\'vote?id=21770367&amp;how=up&amp;goto=newest%3Fn%3D61%26next%3D21770576\\'><div class=\\'votearrow\\' title=\\'upvote\\'></div></a></center></td><td class=\"title\"><a href=\"https://react.christmas/2019/12\" class=\"storylink\" rel=\"nofollow\">Fancy Charts with Victory</a><span class=\"sitebit comhead\"> (<a href=\"from?site=react.christmas\"><span class=\"sitestr\">react.christmas</span></a>)</span></td></tr><tr><td colspan=\"2\"></td><td class=\"subtext\">\\n        <span class=\"score\" id=\"score_21770367\">6 points</span> by <a href=\"user?id=selbekk\" class=\"hnuser\">selbekk</a> <span class=\"age\"><a href=\"item?id=21770367\">2 hours ago</a></span> <span id=\"unv_21770367\"></span> | <a href=\"hide?id=21770367&amp;goto=newest%3Fn%3D61%26next%3D21770576\">hide</a> | <a href=\"https://hn.algolia.com/?query=Fancy%20Charts%20with%20Victory&sort=byDate&dateRange=all&type=story&storyText=false&prefix&page=0\" class=\"hnpast\">past</a> | <a href=\"https://www.google.com/search?q=Fancy%20Charts%20with%20Victory\">web</a> | <a href=\"item?id=21770367\">discuss</a>              </td></tr>\\n      <tr class=\"spacer\" style=\"height:5px\"></tr>\\n                <tr class=\\'athing\\' id=\\'21770359\\'>\\n      <td align=\"right\" valign=\"top\" class=\"title\"><span class=\"rank\">89.</span></td>      <td valign=\"top\" class=\"votelinks\"><center><a id=\\'up_21770359\\' href=\\'vote?id=21770359&amp;how=up&amp;goto=newest%3Fn%3D61%26next%3D21770576\\'><div class=\\'votearrow\\' title=\\'upvote\\'></div></a></center></td><td class=\"title\"><a href=\"https://www.bbc.com/future/article/20190715-strange-evolution-the-weird-future-of-life-on-earth\" class=\"storylink\" rel=\"nofollow\">Strange evolution: The weird future of life on Earth</a><span class=\"sitebit comhead\"> (<a href=\"from?site=bbc.com\"><span class=\"sitestr\">bbc.com</span></a>)</span></td></tr><tr><td colspan=\"2\"></td><td class=\"subtext\">\\n        <span class=\"score\" id=\"score_21770359\">1 point</span> by <a href=\"user?id=jelliclesfarm\" class=\"hnuser\">jelliclesfarm</a> <span class=\"age\"><a href=\"item?id=21770359\">2 hours ago</a></span> <span id=\"unv_21770359\"></span> | <a href=\"hide?id=21770359&amp;goto=newest%3Fn%3D61%26next%3D21770576\">hide</a> | <a href=\"https://hn.algolia.com/?query=Strange%20evolution%3A%20The%20weird%20future%20of%20life%20on%20Earth&sort=byDate&dateRange=all&type=story&storyText=false&prefix&page=0\" class=\"hnpast\">past</a> | <a href=\"https://www.google.com/search?q=Strange%20evolution%3A%20The%20weird%20future%20of%20life%20on%20Earth\">web</a> | <a href=\"item?id=21770359\">discuss</a>              </td></tr>\\n      <tr class=\"spacer\" style=\"height:5px\"></tr>\\n                <tr class=\\'athing\\' id=\\'21770351\\'>\\n      <td align=\"right\" valign=\"top\" class=\"title\"><span class=\"rank\">90.</span></td>      <td valign=\"top\" class=\"votelinks\"><center><a id=\\'up_21770351\\' href=\\'vote?id=21770351&amp;how=up&amp;goto=newest%3Fn%3D61%26next%3D21770576\\'><div class=\\'votearrow\\' title=\\'upvote\\'></div></a></center></td><td class=\"title\"><a href=\"https://www.youtube.com/watch?v=szdbKz5CyhA\" class=\"storylink\" rel=\"nofollow\">How to send an \\'E mail\\' \\xe2\\x80\\x93 Database \\xe2\\x80\\x93 1984</a><span class=\"sitebit comhead\"> (<a href=\"from?site=youtube.com\"><span class=\"sitestr\">youtube.com</span></a>)</span></td></tr><tr><td colspan=\"2\"></td><td class=\"subtext\">\\n        <span class=\"score\" id=\"score_21770351\">1 point</span> by <a href=\"user?id=mleafer\" class=\"hnuser\">mleafer</a> <span class=\"age\"><a href=\"item?id=21770351\">2 hours ago</a></span> <span id=\"unv_21770351\"></span> | <a href=\"hide?id=21770351&amp;goto=newest%3Fn%3D61%26next%3D21770576\">hide</a> | <a href=\"https://hn.algolia.com/?query=How%20to%20send%20an%20\\'E%20mail\\'%20%E2%80%93%20Database%20%E2%80%93%201984&sort=byDate&dateRange=all&type=story&storyText=false&prefix&page=0\" class=\"hnpast\">past</a> | <a href=\"https://www.google.com/search?q=How%20to%20send%20an%20\\'E%20mail\\'%20%E2%80%93%20Database%20%E2%80%93%201984\">web</a> | <a href=\"item?id=21770351\">discuss</a>              </td></tr>\\n      <tr class=\"spacer\" style=\"height:5px\"></tr>\\n            <tr class=\"morespace\" style=\"height:10px\"></tr><tr><td colspan=\"2\"></td><td class=\"title\"><a href=\"newest?next=21770348&amp;n=91\" class=\"morelink\" rel=\"next\">More</a></td></tr>\\n  </table>\\n</td></tr>\\n<tr><td><img src=\"s.gif\" height=\"10\" width=\"0\"><table width=\"100%\" cellspacing=\"0\" cellpadding=\"1\"><tr><td bgcolor=\"#ff6600\"></td></tr></table><br><center><span class=\"yclinks\"><a href=\"newsguidelines.html\">Guidelines</a>\\n        | <a href=\"newsfaq.html\">FAQ</a>\\n        | <a href=\"mailto:hn@ycombinator.com\">Support</a>\\n        | <a href=\"https://github.com/HackerNews/API\">API</a>\\n        | <a href=\"security.html\">Security</a>\\n        | <a href=\"lists\">Lists</a>\\n        | <a href=\"bookmarklet.html\" rel=\"nofollow\">Bookmarklet</a>\\n        | <a href=\"http://www.ycombinator.com/legal/\">Legal</a>\\n        | <a href=\"http://www.ycombinator.com/apply/\">Apply to YC</a>\\n        | <a href=\"mailto:hn@ycombinator.com\">Contact</a></span><br><br><form method=\"get\" action=\"//hn.algolia.com/\">Search:\\n          <input type=\"text\" name=\"q\" value=\"\" size=\"17\" autocorrect=\"off\" spellcheck=\"false\" autocapitalize=\"off\" autocomplete=\"false\"></form>\\n            </center></td></tr>\\n      </table></center></body><script type=\\'text/javascript\\' src=\\'hn.js?bf9JyQjnS7iehVl5TlRD\\'></script></html>\\n'\n",
            "['newest?next=21770348&n=91']\n",
            "Rank              90\n",
            "Title             90\n",
            "domain            90\n",
            "posted_by_user    90\n",
            "url               90\n",
            "num_comments      90\n",
            "num_upvotes       90\n",
            "date_created      90\n",
            "dtype: int64\n"
          ],
          "name": "stdout"
        }
      ]
    },
    {
      "cell_type": "code",
      "metadata": {
        "id": "MZPpBpDiep0r",
        "colab_type": "code",
        "outputId": "c6514d81-1cb0-44b3-fad0-9d76f7ee6b72",
        "colab": {
          "base_uri": "https://localhost:8080/",
          "height": 1000
        }
      },
      "source": [
        "print(\"Total No of Records:\",len(hacker_news_df.index))\n",
        "hacker_news_df.head(30)"
      ],
      "execution_count": 0,
      "outputs": [
        {
          "output_type": "stream",
          "text": [
            "Total No of Records: 89\n"
          ],
          "name": "stdout"
        },
        {
          "output_type": "execute_result",
          "data": {
            "text/html": [
              "<div>\n",
              "<style scoped>\n",
              "    .dataframe tbody tr th:only-of-type {\n",
              "        vertical-align: middle;\n",
              "    }\n",
              "\n",
              "    .dataframe tbody tr th {\n",
              "        vertical-align: top;\n",
              "    }\n",
              "\n",
              "    .dataframe thead th {\n",
              "        text-align: right;\n",
              "    }\n",
              "</style>\n",
              "<table border=\"1\" class=\"dataframe\">\n",
              "  <thead>\n",
              "    <tr style=\"text-align: right;\">\n",
              "      <th></th>\n",
              "      <th>Rank</th>\n",
              "      <th>Title</th>\n",
              "      <th>domain</th>\n",
              "      <th>posted_by_user</th>\n",
              "      <th>url</th>\n",
              "      <th>num_comments</th>\n",
              "      <th>num_upvotes</th>\n",
              "      <th>date_created</th>\n",
              "    </tr>\n",
              "  </thead>\n",
              "  <tbody>\n",
              "    <tr>\n",
              "      <th>0</th>\n",
              "      <td>1.</td>\n",
              "      <td>ElixirConfLA 2019 â Erlang/OTP: What Is in t...</td>\n",
              "      <td>youtu.be</td>\n",
              "      <td>elbrujohalcon</td>\n",
              "      <td>https://youtu.be/WXqbOBH9xjg</td>\n",
              "      <td>0</td>\n",
              "      <td>1</td>\n",
              "      <td>2 minutes ago</td>\n",
              "    </tr>\n",
              "    <tr>\n",
              "      <th>1</th>\n",
              "      <td>2.</td>\n",
              "      <td>This Helmet Will Save Football. Actually, Prob...</td>\n",
              "      <td>nytimes.com</td>\n",
              "      <td>vo2maxer</td>\n",
              "      <td>https://www.nytimes.com/2019/12/12/sports/this...</td>\n",
              "      <td>0</td>\n",
              "      <td>1</td>\n",
              "      <td>2 minutes ago</td>\n",
              "    </tr>\n",
              "    <tr>\n",
              "      <th>2</th>\n",
              "      <td>3.</td>\n",
              "      <td>Switch to OSM: Take back control of your maps</td>\n",
              "      <td>switch2osm.org</td>\n",
              "      <td>chippy</td>\n",
              "      <td>https://switch2osm.org/</td>\n",
              "      <td>0</td>\n",
              "      <td>1</td>\n",
              "      <td>4 minutes ago</td>\n",
              "    </tr>\n",
              "    <tr>\n",
              "      <th>3</th>\n",
              "      <td>4.</td>\n",
              "      <td>We've built a pretty cool NLP based relevance ...</td>\n",
              "      <td>hubert-parser-production.appspot.com</td>\n",
              "      <td>HubertAI</td>\n",
              "      <td>https://hubert-parser-production.appspot.com/r...</td>\n",
              "      <td>0</td>\n",
              "      <td>1</td>\n",
              "      <td>4 minutes ago</td>\n",
              "    </tr>\n",
              "    <tr>\n",
              "      <th>4</th>\n",
              "      <td>5.</td>\n",
              "      <td>Professors Help Rip Off Students</td>\n",
              "      <td>nytimes.com</td>\n",
              "      <td>vo2maxer</td>\n",
              "      <td>https://www.nytimes.com/2019/12/11/opinion/tex...</td>\n",
              "      <td>0</td>\n",
              "      <td>1</td>\n",
              "      <td>6 minutes ago</td>\n",
              "    </tr>\n",
              "    <tr>\n",
              "      <th>5</th>\n",
              "      <td>6.</td>\n",
              "      <td>Exposing a Hidden Climate Threat: Methane âS...</td>\n",
              "      <td>nytimes.com</td>\n",
              "      <td>vo2maxer</td>\n",
              "      <td>https://www.nytimes.com/interactive/2019/12/12...</td>\n",
              "      <td>0</td>\n",
              "      <td>1</td>\n",
              "      <td>8 minutes ago</td>\n",
              "    </tr>\n",
              "    <tr>\n",
              "      <th>6</th>\n",
              "      <td>7.</td>\n",
              "      <td>Boost Version 1.72.0 Released</td>\n",
              "      <td>boost.org</td>\n",
              "      <td>susam</td>\n",
              "      <td>https://www.boost.org/users/history/version_1_...</td>\n",
              "      <td>0</td>\n",
              "      <td>1</td>\n",
              "      <td>9 minutes ago</td>\n",
              "    </tr>\n",
              "    <tr>\n",
              "      <th>7</th>\n",
              "      <td>8.</td>\n",
              "      <td>Move MongoDB Across Ops Manager Projects</td>\n",
              "      <td>mongodb.org</td>\n",
              "      <td>ai_ja_nai</td>\n",
              "      <td>https://jira.mongodb.org/browse/DOCS-6498?focu...</td>\n",
              "      <td>0</td>\n",
              "      <td>1</td>\n",
              "      <td>9 minutes ago</td>\n",
              "    </tr>\n",
              "    <tr>\n",
              "      <th>8</th>\n",
              "      <td>9.</td>\n",
              "      <td>'Fires near me' was Australia's top search of ...</td>\n",
              "      <td>techradar.com</td>\n",
              "      <td>reddotX</td>\n",
              "      <td>https://www.techradar.com/au/news/fires-near-m...</td>\n",
              "      <td>0</td>\n",
              "      <td>1</td>\n",
              "      <td>12 minutes ago</td>\n",
              "    </tr>\n",
              "    <tr>\n",
              "      <th>9</th>\n",
              "      <td>10.</td>\n",
              "      <td>Remote Jobs in Cyber Security</td>\n",
              "      <td>remotecyberjobs.com</td>\n",
              "      <td>pat-jay</td>\n",
              "      <td>https://remotecyberjobs.com/</td>\n",
              "      <td>0</td>\n",
              "      <td>1</td>\n",
              "      <td>15 minutes ago</td>\n",
              "    </tr>\n",
              "    <tr>\n",
              "      <th>10</th>\n",
              "      <td>11.</td>\n",
              "      <td>Amazonâs new ARM servers: Graviton 2</td>\n",
              "      <td>lemire.me</td>\n",
              "      <td>ibobev</td>\n",
              "      <td>https://lemire.me/blog/2019/12/11/amazons-new-...</td>\n",
              "      <td>0</td>\n",
              "      <td>1</td>\n",
              "      <td>17 minutes ago</td>\n",
              "    </tr>\n",
              "    <tr>\n",
              "      <th>11</th>\n",
              "      <td>12.</td>\n",
              "      <td>HTTPS: //blog.datahut.co/how-to-select-a-web-s...</td>\n",
              "      <td></td>\n",
              "      <td>sandramoraes</td>\n",
              "      <td>item?id=21770903</td>\n",
              "      <td>0</td>\n",
              "      <td>1</td>\n",
              "      <td>18 minutes ago</td>\n",
              "    </tr>\n",
              "    <tr>\n",
              "      <th>12</th>\n",
              "      <td>13.</td>\n",
              "      <td>WeakMaps in JavaScript</td>\n",
              "      <td>medium.com</td>\n",
              "      <td>ymd</td>\n",
              "      <td>https://medium.com/@galiciandeveloper/weakmaps...</td>\n",
              "      <td>0</td>\n",
              "      <td>1</td>\n",
              "      <td>20 minutes ago</td>\n",
              "    </tr>\n",
              "    <tr>\n",
              "      <th>13</th>\n",
              "      <td>14.</td>\n",
              "      <td>LazyWolves: Building tools for faster and easi...</td>\n",
              "      <td>lazywolves.github.io</td>\n",
              "      <td>djm_dev</td>\n",
              "      <td>https://lazywolves.github.io/</td>\n",
              "      <td>0</td>\n",
              "      <td>2</td>\n",
              "      <td>23 minutes ago</td>\n",
              "    </tr>\n",
              "    <tr>\n",
              "      <th>14</th>\n",
              "      <td>15.</td>\n",
              "      <td>How to Use Broadway in Your Elixir Application</td>\n",
              "      <td>appsignal.com</td>\n",
              "      <td>Liriel</td>\n",
              "      <td>https://blog.appsignal.com/2019/12/12/how-to-u...</td>\n",
              "      <td>0</td>\n",
              "      <td>3</td>\n",
              "      <td>25 minutes ago</td>\n",
              "    </tr>\n",
              "    <tr>\n",
              "      <th>15</th>\n",
              "      <td>16.</td>\n",
              "      <td>How to Carve Out Own Niche in the Industry: In...</td>\n",
              "      <td>6nomads.com</td>\n",
              "      <td>6nomads</td>\n",
              "      <td>https://6nomads.com/cherryhome</td>\n",
              "      <td>0</td>\n",
              "      <td>1</td>\n",
              "      <td>25 minutes ago</td>\n",
              "    </tr>\n",
              "    <tr>\n",
              "      <th>16</th>\n",
              "      <td>17.</td>\n",
              "      <td>Show HN: Obfuscate Go builds, with support for...</td>\n",
              "      <td>github.com</td>\n",
              "      <td>mvdan</td>\n",
              "      <td>https://github.com/mvdan/garble</td>\n",
              "      <td>0</td>\n",
              "      <td>1</td>\n",
              "      <td>26 minutes ago</td>\n",
              "    </tr>\n",
              "    <tr>\n",
              "      <th>17</th>\n",
              "      <td>18.</td>\n",
              "      <td>Europe now has its own Green New Deal</td>\n",
              "      <td>vox.com</td>\n",
              "      <td>dimitar</td>\n",
              "      <td>https://www.vox.com/energy-and-environment/201...</td>\n",
              "      <td>0</td>\n",
              "      <td>1</td>\n",
              "      <td>27 minutes ago</td>\n",
              "    </tr>\n",
              "    <tr>\n",
              "      <th>18</th>\n",
              "      <td>19.</td>\n",
              "      <td>Cloud server CPU performance comparison</td>\n",
              "      <td>rychter.com</td>\n",
              "      <td>jwr</td>\n",
              "      <td>https://jan.rychter.com/enblog/cloud-server-cp...</td>\n",
              "      <td>0</td>\n",
              "      <td>1</td>\n",
              "      <td>27 minutes ago</td>\n",
              "    </tr>\n",
              "    <tr>\n",
              "      <th>19</th>\n",
              "      <td>20.</td>\n",
              "      <td>Show HN: ACMEv2 proxy producing JSON logs</td>\n",
              "      <td>gitlab.com</td>\n",
              "      <td>dc352</td>\n",
              "      <td>https://gitlab.com/keychest/keychestamp</td>\n",
              "      <td>0</td>\n",
              "      <td>1</td>\n",
              "      <td>27 minutes ago</td>\n",
              "    </tr>\n",
              "    <tr>\n",
              "      <th>20</th>\n",
              "      <td>21.</td>\n",
              "      <td>Illuminatus trilogy to become TV series</td>\n",
              "      <td>boingboing.net</td>\n",
              "      <td>chippy</td>\n",
              "      <td>https://boingboing.net/2019/12/11/wilson-and-s...</td>\n",
              "      <td>0</td>\n",
              "      <td>1</td>\n",
              "      <td>28 minutes ago</td>\n",
              "    </tr>\n",
              "    <tr>\n",
              "      <th>21</th>\n",
              "      <td>22.</td>\n",
              "      <td>Strategies for an Effective SaaS Customer Service</td>\n",
              "      <td>customerly.io</td>\n",
              "      <td>mbp94</td>\n",
              "      <td>https://get.customerly.io/saascsy</td>\n",
              "      <td>0</td>\n",
              "      <td>1</td>\n",
              "      <td>34 minutes ago</td>\n",
              "    </tr>\n",
              "    <tr>\n",
              "      <th>22</th>\n",
              "      <td>23.</td>\n",
              "      <td>Elpass Encrypt Your Data</td>\n",
              "      <td>zendesk.com</td>\n",
              "      <td>bfishadow</td>\n",
              "      <td>https://elpass.zendesk.com/hc/en-us/articles/3...</td>\n",
              "      <td>0</td>\n",
              "      <td>1</td>\n",
              "      <td>34 minutes ago</td>\n",
              "    </tr>\n",
              "    <tr>\n",
              "      <th>23</th>\n",
              "      <td>24.</td>\n",
              "      <td>Madhava of Sangamagrama</td>\n",
              "      <td>wikipedia.org</td>\n",
              "      <td>tmalsburg2</td>\n",
              "      <td>https://en.wikipedia.org/wiki/Madhava_of_Sanga...</td>\n",
              "      <td>0</td>\n",
              "      <td>1</td>\n",
              "      <td>36 minutes ago</td>\n",
              "    </tr>\n",
              "    <tr>\n",
              "      <th>24</th>\n",
              "      <td>25.</td>\n",
              "      <td>Scientists call for renewed Paris pledges to t...</td>\n",
              "      <td>thelancet.com</td>\n",
              "      <td>YeGoblynQueenne</td>\n",
              "      <td>https://www.thelancet.com/journals/lanplh/arti...</td>\n",
              "      <td>0</td>\n",
              "      <td>1</td>\n",
              "      <td>44 minutes ago</td>\n",
              "    </tr>\n",
              "    <tr>\n",
              "      <th>25</th>\n",
              "      <td>26.</td>\n",
              "      <td>Starter Guide to Breaking into Programming for...</td>\n",
              "      <td>medium.com</td>\n",
              "      <td>donutking</td>\n",
              "      <td>https://medium.com/@PurpleGreenLemon/the-2020-...</td>\n",
              "      <td>0</td>\n",
              "      <td>1</td>\n",
              "      <td>49 minutes ago</td>\n",
              "    </tr>\n",
              "    <tr>\n",
              "      <th>26</th>\n",
              "      <td>27.</td>\n",
              "      <td>Easily run your tests with GitHub actions, Pos...</td>\n",
              "      <td>github.com</td>\n",
              "      <td>cedricbonhomme</td>\n",
              "      <td>https://github.com/CASES-LU/MOSP/blob/master/....</td>\n",
              "      <td>0</td>\n",
              "      <td>2</td>\n",
              "      <td>57 minutes ago</td>\n",
              "    </tr>\n",
              "    <tr>\n",
              "      <th>27</th>\n",
              "      <td>28.</td>\n",
              "      <td>C++20 Mutable Constexpr</td>\n",
              "      <td>github.com</td>\n",
              "      <td>agluszak</td>\n",
              "      <td>https://github.com/DaemonSnake/unconstexpr-cpp20</td>\n",
              "      <td>0</td>\n",
              "      <td>1</td>\n",
              "      <td>59 minutes ago</td>\n",
              "    </tr>\n",
              "    <tr>\n",
              "      <th>28</th>\n",
              "      <td>29.</td>\n",
              "      <td>New tools to monitor your server and avoid dow...</td>\n",
              "      <td>cloudflare.com</td>\n",
              "      <td>chmaynard</td>\n",
              "      <td>https://blog.cloudflare.com/new-tools-to-monit...</td>\n",
              "      <td>0</td>\n",
              "      <td>2</td>\n",
              "      <td>1 hour ago</td>\n",
              "    </tr>\n",
              "    <tr>\n",
              "      <th>29</th>\n",
              "      <td>30.</td>\n",
              "      <td>Developers shouldnât distribute their own so...</td>\n",
              "      <td>drewdevault.com</td>\n",
              "      <td>chmaynard</td>\n",
              "      <td>https://drewdevault.com/2019/12/09/Developers-...</td>\n",
              "      <td>0</td>\n",
              "      <td>2</td>\n",
              "      <td>1 hour ago</td>\n",
              "    </tr>\n",
              "  </tbody>\n",
              "</table>\n",
              "</div>"
            ],
            "text/plain": [
              "   Rank  ...    date_created\n",
              "0    1.  ...   2 minutes ago\n",
              "1    2.  ...   2 minutes ago\n",
              "2    3.  ...   4 minutes ago\n",
              "3    4.  ...   4 minutes ago\n",
              "4    5.  ...   6 minutes ago\n",
              "5    6.  ...   8 minutes ago\n",
              "6    7.  ...   9 minutes ago\n",
              "7    8.  ...   9 minutes ago\n",
              "8    9.  ...  12 minutes ago\n",
              "9   10.  ...  15 minutes ago\n",
              "10  11.  ...  17 minutes ago\n",
              "11  12.  ...  18 minutes ago\n",
              "12  13.  ...  20 minutes ago\n",
              "13  14.  ...  23 minutes ago\n",
              "14  15.  ...  25 minutes ago\n",
              "15  16.  ...  25 minutes ago\n",
              "16  17.  ...  26 minutes ago\n",
              "17  18.  ...  27 minutes ago\n",
              "18  19.  ...  27 minutes ago\n",
              "19  20.  ...  27 minutes ago\n",
              "20  21.  ...  28 minutes ago\n",
              "21  22.  ...  34 minutes ago\n",
              "22  23.  ...  34 minutes ago\n",
              "23  24.  ...  36 minutes ago\n",
              "24  25.  ...  44 minutes ago\n",
              "25  26.  ...  49 minutes ago\n",
              "26  27.  ...  57 minutes ago\n",
              "27  28.  ...  59 minutes ago\n",
              "28  29.  ...      1 hour ago\n",
              "29  30.  ...      1 hour ago\n",
              "\n",
              "[30 rows x 8 columns]"
            ]
          },
          "metadata": {
            "tags": []
          },
          "execution_count": 17
        }
      ]
    },
    {
      "cell_type": "code",
      "metadata": {
        "id": "Bdih57lsgyS9",
        "colab_type": "code",
        "colab": {}
      },
      "source": [
        "def get_Date_And_Time(published_date):\n",
        "  past_time= ''\n",
        "  if published_date != '':\n",
        "    parsed_date = [published_date.split()[:2]]\n",
        "    time_dict = dict((fmt if fmt[-1]=='s' else fmt+'s',float(amount)) for amount,fmt in parsed_date)\n",
        "    dt = datetime.timedelta(**time_dict)\n",
        "    past_time = datetime.datetime.now() - dt\n",
        "  return past_time"
      ],
      "execution_count": 0,
      "outputs": []
    },
    {
      "cell_type": "code",
      "metadata": {
        "id": "ueaDpHrWhCXy",
        "colab_type": "code",
        "outputId": "f0ba0b3d-6ec2-472c-d5ad-4437f2696e53",
        "colab": {
          "base_uri": "https://localhost:8080/",
          "height": 968
        }
      },
      "source": [
        "hacker_news_df[\"formatted_date_created\"] = hacker_news_df['date_created'].apply(get_Date_And_Time)\n",
        "hacker_news_df.head(10)"
      ],
      "execution_count": 0,
      "outputs": [
        {
          "output_type": "execute_result",
          "data": {
            "text/html": [
              "<div>\n",
              "<style scoped>\n",
              "    .dataframe tbody tr th:only-of-type {\n",
              "        vertical-align: middle;\n",
              "    }\n",
              "\n",
              "    .dataframe tbody tr th {\n",
              "        vertical-align: top;\n",
              "    }\n",
              "\n",
              "    .dataframe thead th {\n",
              "        text-align: right;\n",
              "    }\n",
              "</style>\n",
              "<table border=\"1\" class=\"dataframe\">\n",
              "  <thead>\n",
              "    <tr style=\"text-align: right;\">\n",
              "      <th></th>\n",
              "      <th>Rank</th>\n",
              "      <th>Title</th>\n",
              "      <th>domain</th>\n",
              "      <th>posted_by_user</th>\n",
              "      <th>url</th>\n",
              "      <th>num_comments</th>\n",
              "      <th>num_upvotes</th>\n",
              "      <th>date_created</th>\n",
              "      <th>formatted_date_created</th>\n",
              "    </tr>\n",
              "  </thead>\n",
              "  <tbody>\n",
              "    <tr>\n",
              "      <th>0</th>\n",
              "      <td>1.</td>\n",
              "      <td>ElixirConfLA 2019 â Erlang/OTP: What Is in t...</td>\n",
              "      <td>youtu.be</td>\n",
              "      <td>elbrujohalcon</td>\n",
              "      <td>https://youtu.be/WXqbOBH9xjg</td>\n",
              "      <td>0</td>\n",
              "      <td>1</td>\n",
              "      <td>2 minutes ago</td>\n",
              "      <td>2019-12-12 11:23:37.096799</td>\n",
              "    </tr>\n",
              "    <tr>\n",
              "      <th>1</th>\n",
              "      <td>2.</td>\n",
              "      <td>This Helmet Will Save Football. Actually, Prob...</td>\n",
              "      <td>nytimes.com</td>\n",
              "      <td>vo2maxer</td>\n",
              "      <td>https://www.nytimes.com/2019/12/12/sports/this...</td>\n",
              "      <td>0</td>\n",
              "      <td>1</td>\n",
              "      <td>2 minutes ago</td>\n",
              "      <td>2019-12-12 11:23:37.096813</td>\n",
              "    </tr>\n",
              "    <tr>\n",
              "      <th>2</th>\n",
              "      <td>3.</td>\n",
              "      <td>Switch to OSM: Take back control of your maps</td>\n",
              "      <td>switch2osm.org</td>\n",
              "      <td>chippy</td>\n",
              "      <td>https://switch2osm.org/</td>\n",
              "      <td>0</td>\n",
              "      <td>1</td>\n",
              "      <td>4 minutes ago</td>\n",
              "      <td>2019-12-12 11:21:37.096820</td>\n",
              "    </tr>\n",
              "    <tr>\n",
              "      <th>3</th>\n",
              "      <td>4.</td>\n",
              "      <td>We've built a pretty cool NLP based relevance ...</td>\n",
              "      <td>hubert-parser-production.appspot.com</td>\n",
              "      <td>HubertAI</td>\n",
              "      <td>https://hubert-parser-production.appspot.com/r...</td>\n",
              "      <td>0</td>\n",
              "      <td>1</td>\n",
              "      <td>4 minutes ago</td>\n",
              "      <td>2019-12-12 11:21:37.096827</td>\n",
              "    </tr>\n",
              "    <tr>\n",
              "      <th>4</th>\n",
              "      <td>5.</td>\n",
              "      <td>Professors Help Rip Off Students</td>\n",
              "      <td>nytimes.com</td>\n",
              "      <td>vo2maxer</td>\n",
              "      <td>https://www.nytimes.com/2019/12/11/opinion/tex...</td>\n",
              "      <td>0</td>\n",
              "      <td>1</td>\n",
              "      <td>6 minutes ago</td>\n",
              "      <td>2019-12-12 11:19:37.096834</td>\n",
              "    </tr>\n",
              "    <tr>\n",
              "      <th>5</th>\n",
              "      <td>6.</td>\n",
              "      <td>Exposing a Hidden Climate Threat: Methane âS...</td>\n",
              "      <td>nytimes.com</td>\n",
              "      <td>vo2maxer</td>\n",
              "      <td>https://www.nytimes.com/interactive/2019/12/12...</td>\n",
              "      <td>0</td>\n",
              "      <td>1</td>\n",
              "      <td>8 minutes ago</td>\n",
              "      <td>2019-12-12 11:17:37.096841</td>\n",
              "    </tr>\n",
              "    <tr>\n",
              "      <th>6</th>\n",
              "      <td>7.</td>\n",
              "      <td>Boost Version 1.72.0 Released</td>\n",
              "      <td>boost.org</td>\n",
              "      <td>susam</td>\n",
              "      <td>https://www.boost.org/users/history/version_1_...</td>\n",
              "      <td>0</td>\n",
              "      <td>1</td>\n",
              "      <td>9 minutes ago</td>\n",
              "      <td>2019-12-12 11:16:37.096848</td>\n",
              "    </tr>\n",
              "    <tr>\n",
              "      <th>7</th>\n",
              "      <td>8.</td>\n",
              "      <td>Move MongoDB Across Ops Manager Projects</td>\n",
              "      <td>mongodb.org</td>\n",
              "      <td>ai_ja_nai</td>\n",
              "      <td>https://jira.mongodb.org/browse/DOCS-6498?focu...</td>\n",
              "      <td>0</td>\n",
              "      <td>1</td>\n",
              "      <td>9 minutes ago</td>\n",
              "      <td>2019-12-12 11:16:37.096855</td>\n",
              "    </tr>\n",
              "    <tr>\n",
              "      <th>8</th>\n",
              "      <td>9.</td>\n",
              "      <td>'Fires near me' was Australia's top search of ...</td>\n",
              "      <td>techradar.com</td>\n",
              "      <td>reddotX</td>\n",
              "      <td>https://www.techradar.com/au/news/fires-near-m...</td>\n",
              "      <td>0</td>\n",
              "      <td>1</td>\n",
              "      <td>12 minutes ago</td>\n",
              "      <td>2019-12-12 11:13:37.096862</td>\n",
              "    </tr>\n",
              "    <tr>\n",
              "      <th>9</th>\n",
              "      <td>10.</td>\n",
              "      <td>Remote Jobs in Cyber Security</td>\n",
              "      <td>remotecyberjobs.com</td>\n",
              "      <td>pat-jay</td>\n",
              "      <td>https://remotecyberjobs.com/</td>\n",
              "      <td>0</td>\n",
              "      <td>1</td>\n",
              "      <td>15 minutes ago</td>\n",
              "      <td>2019-12-12 11:10:37.096869</td>\n",
              "    </tr>\n",
              "  </tbody>\n",
              "</table>\n",
              "</div>"
            ],
            "text/plain": [
              "  Rank  ...     formatted_date_created\n",
              "0   1.  ... 2019-12-12 11:23:37.096799\n",
              "1   2.  ... 2019-12-12 11:23:37.096813\n",
              "2   3.  ... 2019-12-12 11:21:37.096820\n",
              "3   4.  ... 2019-12-12 11:21:37.096827\n",
              "4   5.  ... 2019-12-12 11:19:37.096834\n",
              "5   6.  ... 2019-12-12 11:17:37.096841\n",
              "6   7.  ... 2019-12-12 11:16:37.096848\n",
              "7   8.  ... 2019-12-12 11:16:37.096855\n",
              "8   9.  ... 2019-12-12 11:13:37.096862\n",
              "9  10.  ... 2019-12-12 11:10:37.096869\n",
              "\n",
              "[10 rows x 9 columns]"
            ]
          },
          "metadata": {
            "tags": []
          },
          "execution_count": 19
        }
      ]
    },
    {
      "cell_type": "markdown",
      "metadata": {
        "id": "G03KPbIN5El7",
        "colab_type": "text"
      },
      "source": [
        "####TASK 2\n",
        "\n",
        "---\n",
        "\n",
        "\n",
        "\n",
        "---\n",
        "\n"
      ]
    },
    {
      "cell_type": "code",
      "metadata": {
        "id": "wbKs91hjhE_u",
        "colab_type": "code",
        "colab": {}
      },
      "source": [
        "def extract_article(site_url):\n",
        "    text_data =''\n",
        "    exceptionMessage = ''\n",
        "    try:\n",
        "        html = url.urlopen(site_url).read()\n",
        "        soup = bs(html, 'html.parser')\n",
        "        text_all = soup.find_all('p') #Selecting all the paragraphs\n",
        "        for text in text_all:\n",
        "            if not 'copyright' in text.text.lower():\n",
        "                text_data = text_data +\" \" +text.text\n",
        "    except Exception as e:\n",
        "        exceptionMessage = e\n",
        "        pass\n",
        "    return text_data,exceptionMessage"
      ],
      "execution_count": 0,
      "outputs": []
    },
    {
      "cell_type": "code",
      "metadata": {
        "id": "76LQuXulhWO9",
        "colab_type": "code",
        "colab": {}
      },
      "source": [
        "# call to extract article data\n",
        "hacker_news_df[['article_data','exception']] = hacker_news_df['url'].apply(extract_article).apply(pd.Series)"
      ],
      "execution_count": 0,
      "outputs": []
    },
    {
      "cell_type": "code",
      "metadata": {
        "id": "jAyrQ3X_t4XO",
        "colab_type": "code",
        "colab": {}
      },
      "source": [
        "hacker_news_df.to_csv(path_or_buf='/content/drive/My Drive/Colab Notebooks/HackerNews.csv',index=False)"
      ],
      "execution_count": 0,
      "outputs": []
    },
    {
      "cell_type": "code",
      "metadata": {
        "id": "-5SuZDxxhZC6",
        "colab_type": "code",
        "outputId": "b6ff7a7f-9fc8-4b9e-cfd7-d4184e1e489b",
        "colab": {
          "base_uri": "https://localhost:8080/",
          "height": 968
        }
      },
      "source": [
        "hacker_news_df.head(10)"
      ],
      "execution_count": 0,
      "outputs": [
        {
          "output_type": "execute_result",
          "data": {
            "text/html": [
              "<div>\n",
              "<style scoped>\n",
              "    .dataframe tbody tr th:only-of-type {\n",
              "        vertical-align: middle;\n",
              "    }\n",
              "\n",
              "    .dataframe tbody tr th {\n",
              "        vertical-align: top;\n",
              "    }\n",
              "\n",
              "    .dataframe thead th {\n",
              "        text-align: right;\n",
              "    }\n",
              "</style>\n",
              "<table border=\"1\" class=\"dataframe\">\n",
              "  <thead>\n",
              "    <tr style=\"text-align: right;\">\n",
              "      <th></th>\n",
              "      <th>Rank</th>\n",
              "      <th>Title</th>\n",
              "      <th>domain</th>\n",
              "      <th>posted_by_user</th>\n",
              "      <th>url</th>\n",
              "      <th>num_comments</th>\n",
              "      <th>num_upvotes</th>\n",
              "      <th>date_created</th>\n",
              "      <th>formatted_date_created</th>\n",
              "    </tr>\n",
              "  </thead>\n",
              "  <tbody>\n",
              "    <tr>\n",
              "      <th>0</th>\n",
              "      <td>1.</td>\n",
              "      <td>ElixirConfLA 2019 â Erlang/OTP: What Is in t...</td>\n",
              "      <td>youtu.be</td>\n",
              "      <td>elbrujohalcon</td>\n",
              "      <td>https://youtu.be/WXqbOBH9xjg</td>\n",
              "      <td>0</td>\n",
              "      <td>1</td>\n",
              "      <td>2 minutes ago</td>\n",
              "      <td>2019-12-12 11:23:37.096799</td>\n",
              "    </tr>\n",
              "    <tr>\n",
              "      <th>1</th>\n",
              "      <td>2.</td>\n",
              "      <td>This Helmet Will Save Football. Actually, Prob...</td>\n",
              "      <td>nytimes.com</td>\n",
              "      <td>vo2maxer</td>\n",
              "      <td>https://www.nytimes.com/2019/12/12/sports/this...</td>\n",
              "      <td>0</td>\n",
              "      <td>1</td>\n",
              "      <td>2 minutes ago</td>\n",
              "      <td>2019-12-12 11:23:37.096813</td>\n",
              "    </tr>\n",
              "    <tr>\n",
              "      <th>2</th>\n",
              "      <td>3.</td>\n",
              "      <td>Switch to OSM: Take back control of your maps</td>\n",
              "      <td>switch2osm.org</td>\n",
              "      <td>chippy</td>\n",
              "      <td>https://switch2osm.org/</td>\n",
              "      <td>0</td>\n",
              "      <td>1</td>\n",
              "      <td>4 minutes ago</td>\n",
              "      <td>2019-12-12 11:21:37.096820</td>\n",
              "    </tr>\n",
              "    <tr>\n",
              "      <th>3</th>\n",
              "      <td>4.</td>\n",
              "      <td>We've built a pretty cool NLP based relevance ...</td>\n",
              "      <td>hubert-parser-production.appspot.com</td>\n",
              "      <td>HubertAI</td>\n",
              "      <td>https://hubert-parser-production.appspot.com/r...</td>\n",
              "      <td>0</td>\n",
              "      <td>1</td>\n",
              "      <td>4 minutes ago</td>\n",
              "      <td>2019-12-12 11:21:37.096827</td>\n",
              "    </tr>\n",
              "    <tr>\n",
              "      <th>4</th>\n",
              "      <td>5.</td>\n",
              "      <td>Professors Help Rip Off Students</td>\n",
              "      <td>nytimes.com</td>\n",
              "      <td>vo2maxer</td>\n",
              "      <td>https://www.nytimes.com/2019/12/11/opinion/tex...</td>\n",
              "      <td>0</td>\n",
              "      <td>1</td>\n",
              "      <td>6 minutes ago</td>\n",
              "      <td>2019-12-12 11:19:37.096834</td>\n",
              "    </tr>\n",
              "    <tr>\n",
              "      <th>5</th>\n",
              "      <td>6.</td>\n",
              "      <td>Exposing a Hidden Climate Threat: Methane âS...</td>\n",
              "      <td>nytimes.com</td>\n",
              "      <td>vo2maxer</td>\n",
              "      <td>https://www.nytimes.com/interactive/2019/12/12...</td>\n",
              "      <td>0</td>\n",
              "      <td>1</td>\n",
              "      <td>8 minutes ago</td>\n",
              "      <td>2019-12-12 11:17:37.096841</td>\n",
              "    </tr>\n",
              "    <tr>\n",
              "      <th>6</th>\n",
              "      <td>7.</td>\n",
              "      <td>Boost Version 1.72.0 Released</td>\n",
              "      <td>boost.org</td>\n",
              "      <td>susam</td>\n",
              "      <td>https://www.boost.org/users/history/version_1_...</td>\n",
              "      <td>0</td>\n",
              "      <td>1</td>\n",
              "      <td>9 minutes ago</td>\n",
              "      <td>2019-12-12 11:16:37.096848</td>\n",
              "    </tr>\n",
              "    <tr>\n",
              "      <th>7</th>\n",
              "      <td>8.</td>\n",
              "      <td>Move MongoDB Across Ops Manager Projects</td>\n",
              "      <td>mongodb.org</td>\n",
              "      <td>ai_ja_nai</td>\n",
              "      <td>https://jira.mongodb.org/browse/DOCS-6498?focu...</td>\n",
              "      <td>0</td>\n",
              "      <td>1</td>\n",
              "      <td>9 minutes ago</td>\n",
              "      <td>2019-12-12 11:16:37.096855</td>\n",
              "    </tr>\n",
              "    <tr>\n",
              "      <th>8</th>\n",
              "      <td>9.</td>\n",
              "      <td>'Fires near me' was Australia's top search of ...</td>\n",
              "      <td>techradar.com</td>\n",
              "      <td>reddotX</td>\n",
              "      <td>https://www.techradar.com/au/news/fires-near-m...</td>\n",
              "      <td>0</td>\n",
              "      <td>1</td>\n",
              "      <td>12 minutes ago</td>\n",
              "      <td>2019-12-12 11:13:37.096862</td>\n",
              "    </tr>\n",
              "    <tr>\n",
              "      <th>9</th>\n",
              "      <td>10.</td>\n",
              "      <td>Remote Jobs in Cyber Security</td>\n",
              "      <td>remotecyberjobs.com</td>\n",
              "      <td>pat-jay</td>\n",
              "      <td>https://remotecyberjobs.com/</td>\n",
              "      <td>0</td>\n",
              "      <td>1</td>\n",
              "      <td>15 minutes ago</td>\n",
              "      <td>2019-12-12 11:10:37.096869</td>\n",
              "    </tr>\n",
              "  </tbody>\n",
              "</table>\n",
              "</div>"
            ],
            "text/plain": [
              "  Rank  ...     formatted_date_created\n",
              "0   1.  ... 2019-12-12 11:23:37.096799\n",
              "1   2.  ... 2019-12-12 11:23:37.096813\n",
              "2   3.  ... 2019-12-12 11:21:37.096820\n",
              "3   4.  ... 2019-12-12 11:21:37.096827\n",
              "4   5.  ... 2019-12-12 11:19:37.096834\n",
              "5   6.  ... 2019-12-12 11:17:37.096841\n",
              "6   7.  ... 2019-12-12 11:16:37.096848\n",
              "7   8.  ... 2019-12-12 11:16:37.096855\n",
              "8   9.  ... 2019-12-12 11:13:37.096862\n",
              "9  10.  ... 2019-12-12 11:10:37.096869\n",
              "\n",
              "[10 rows x 9 columns]"
            ]
          },
          "metadata": {
            "tags": []
          },
          "execution_count": 24
        }
      ]
    },
    {
      "cell_type": "code",
      "metadata": {
        "id": "JvFM8u7_wfaU",
        "colab_type": "code",
        "colab": {}
      },
      "source": [
        "hacker_news_exceptions_records = hacker_news_df[hacker_news_df['exception']!='']"
      ],
      "execution_count": 0,
      "outputs": []
    },
    {
      "cell_type": "code",
      "metadata": {
        "id": "TRa40TlKuveP",
        "colab_type": "code",
        "outputId": "f5eb51c0-18c0-4ba9-e7d6-1657de204ce8",
        "colab": {
          "base_uri": "https://localhost:8080/",
          "height": 118
        }
      },
      "source": [
        "hacker_news_df['article_data'].head()"
      ],
      "execution_count": 0,
      "outputs": [
        {
          "output_type": "execute_result",
          "data": {
            "text/plain": [
              "0     \\n\\n\\nLoading...\\n    \\n \\n\\n\\nLoading...\\n  ...\n",
              "1     Advertisement Supported by on defense At Stan...\n",
              "2     Take back control of your maps  Do your maps ...\n",
              "3                                                     \n",
              "4     Advertisement Supported by Textbooks are too ...\n",
              "Name: article_data, dtype: object"
            ]
          },
          "metadata": {
            "tags": []
          },
          "execution_count": 29
        }
      ]
    },
    {
      "cell_type": "code",
      "metadata": {
        "id": "SxCgXH-FwbNn",
        "colab_type": "code",
        "outputId": "6ae99fe4-f374-4539-8ecc-2e11d5b1af53",
        "colab": {
          "base_uri": "https://localhost:8080/",
          "height": 289
        }
      },
      "source": [
        "hacker_news_exceptions_records.exception.unique()"
      ],
      "execution_count": 0,
      "outputs": [
        {
          "output_type": "execute_result",
          "data": {
            "text/plain": [
              "array([<HTTPError 403: 'Forbidden'>,\n",
              "       ValueError(\"unknown url type: 'item?id=21770903'\",),\n",
              "       <HTTPError 403: 'Forbidden'>,\n",
              "       <HTTPError 302: 'The HTTP server returned a redirect error that would lead to an infinite loop.\\nThe last 30x error message was:\\nFound'>,\n",
              "       <HTTPError 403: 'Forbidden'>, <HTTPError 403: 'Forbidden'>,\n",
              "       <HTTPError 403: 'Forbidden'>, <HTTPError 403: 'Forbidden'>,\n",
              "       <HTTPError 403: 'Forbidden'>, <HTTPError 403: 'Forbidden'>,\n",
              "       <HTTPError 403: 'Forbidden'>, <HTTPError 403: 'Forbidden'>,\n",
              "       <HTTPError 403: 'Forbidden'>, <HTTPError 403: 'Forbidden'>,\n",
              "       <HTTPError 403: 'Forbidden'>, <HTTPError 403: 'Forbidden'>,\n",
              "       <HTTPError 403: 'Forbidden'>, <HTTPError 403: 'Forbidden'>,\n",
              "       <HTTPError 403: 'Forbidden'>, <HTTPError 403: 'Forbidden'>,\n",
              "       ValueError(\"unknown url type: 'item?id=21770495'\",),\n",
              "       <HTTPError 403: 'Forbidden'>, <HTTPError 403: 'Forbidden'>,\n",
              "       ValueError(\"unknown url type: 'item?id=21770411'\",)], dtype=object)"
            ]
          },
          "metadata": {
            "tags": []
          },
          "execution_count": 30
        }
      ]
    },
    {
      "cell_type": "code",
      "metadata": {
        "id": "Udn5Lfoyw3-R",
        "colab_type": "code",
        "colab": {}
      },
      "source": [
        "hackerNews_valid_records = hacker_news_df[hacker_news_df.exception=='']"
      ],
      "execution_count": 0,
      "outputs": []
    },
    {
      "cell_type": "code",
      "metadata": {
        "id": "tTAEu0mfw7hB",
        "colab_type": "code",
        "outputId": "cc4e83a0-2743-49c0-96eb-9f2b67cab02b",
        "colab": {
          "base_uri": "https://localhost:8080/",
          "height": 458
        }
      },
      "source": [
        "hackerNews_valid_records[hackerNews_valid_records.article_data == '']"
      ],
      "execution_count": 0,
      "outputs": [
        {
          "output_type": "execute_result",
          "data": {
            "text/html": [
              "<div>\n",
              "<style scoped>\n",
              "    .dataframe tbody tr th:only-of-type {\n",
              "        vertical-align: middle;\n",
              "    }\n",
              "\n",
              "    .dataframe tbody tr th {\n",
              "        vertical-align: top;\n",
              "    }\n",
              "\n",
              "    .dataframe thead th {\n",
              "        text-align: right;\n",
              "    }\n",
              "</style>\n",
              "<table border=\"1\" class=\"dataframe\">\n",
              "  <thead>\n",
              "    <tr style=\"text-align: right;\">\n",
              "      <th></th>\n",
              "      <th>Rank</th>\n",
              "      <th>Title</th>\n",
              "      <th>domain</th>\n",
              "      <th>posted_by_user</th>\n",
              "      <th>url</th>\n",
              "      <th>num_comments</th>\n",
              "      <th>num_upvotes</th>\n",
              "      <th>date_created</th>\n",
              "      <th>formatted_date_created</th>\n",
              "      <th>article_data</th>\n",
              "      <th>exception</th>\n",
              "    </tr>\n",
              "  </thead>\n",
              "  <tbody>\n",
              "    <tr>\n",
              "      <th>3</th>\n",
              "      <td>4.</td>\n",
              "      <td>We've built a pretty cool NLP based relevance ...</td>\n",
              "      <td>hubert-parser-production.appspot.com</td>\n",
              "      <td>HubertAI</td>\n",
              "      <td>https://hubert-parser-production.appspot.com/r...</td>\n",
              "      <td>0</td>\n",
              "      <td>1</td>\n",
              "      <td>4 minutes ago</td>\n",
              "      <td>2019-12-12 11:21:37.096827</td>\n",
              "      <td></td>\n",
              "      <td></td>\n",
              "    </tr>\n",
              "    <tr>\n",
              "      <th>15</th>\n",
              "      <td>16.</td>\n",
              "      <td>How to Carve Out Own Niche in the Industry: In...</td>\n",
              "      <td>6nomads.com</td>\n",
              "      <td>6nomads</td>\n",
              "      <td>https://6nomads.com/cherryhome</td>\n",
              "      <td>0</td>\n",
              "      <td>1</td>\n",
              "      <td>25 minutes ago</td>\n",
              "      <td>2019-12-12 11:00:37.096910</td>\n",
              "      <td></td>\n",
              "      <td></td>\n",
              "    </tr>\n",
              "    <tr>\n",
              "      <th>19</th>\n",
              "      <td>20.</td>\n",
              "      <td>Show HN: ACMEv2 proxy producing JSON logs</td>\n",
              "      <td>gitlab.com</td>\n",
              "      <td>dc352</td>\n",
              "      <td>https://gitlab.com/keychest/keychestamp</td>\n",
              "      <td>0</td>\n",
              "      <td>1</td>\n",
              "      <td>27 minutes ago</td>\n",
              "      <td>2019-12-12 10:58:37.096937</td>\n",
              "      <td></td>\n",
              "      <td></td>\n",
              "    </tr>\n",
              "  </tbody>\n",
              "</table>\n",
              "</div>"
            ],
            "text/plain": [
              "   Rank  ... exception\n",
              "3    4.  ...          \n",
              "15  16.  ...          \n",
              "19  20.  ...          \n",
              "\n",
              "[3 rows x 11 columns]"
            ]
          },
          "metadata": {
            "tags": []
          },
          "execution_count": 32
        }
      ]
    },
    {
      "cell_type": "code",
      "metadata": {
        "id": "s32nJDyaw-L6",
        "colab_type": "code",
        "colab": {}
      },
      "source": [
        "hackerNews_valid_records = hackerNews_valid_records[hackerNews_valid_records.article_data!='']"
      ],
      "execution_count": 0,
      "outputs": []
    },
    {
      "cell_type": "code",
      "metadata": {
        "id": "PwpryPV4xDPz",
        "colab_type": "code",
        "outputId": "e069c4b4-908b-4356-a60e-21b0b785a89b",
        "colab": {
          "base_uri": "https://localhost:8080/",
          "height": 34
        }
      },
      "source": [
        "hackerNews_valid_records[hackerNews_valid_records.article_data == ''].article_data.count()"
      ],
      "execution_count": 0,
      "outputs": [
        {
          "output_type": "execute_result",
          "data": {
            "text/plain": [
              "0"
            ]
          },
          "metadata": {
            "tags": []
          },
          "execution_count": 34
        }
      ]
    },
    {
      "cell_type": "code",
      "metadata": {
        "id": "4KBJdU9exF6x",
        "colab_type": "code",
        "outputId": "6d7eee2b-6058-4ae2-f222-6d4d416f17b8",
        "colab": {
          "base_uri": "https://localhost:8080/",
          "height": 218
        }
      },
      "source": [
        "hackerNews_valid_records['article_data'].head"
      ],
      "execution_count": 0,
      "outputs": [
        {
          "output_type": "execute_result",
          "data": {
            "text/plain": [
              "<bound method NDFrame.head of 0      \\n\\n\\nLoading...\\n    \\n \\n\\n\\nLoading...\\n  ...\n",
              "1      Advertisement Supported by on defense At Stan...\n",
              "2      Take back control of your maps  Do your maps ...\n",
              "4      Advertisement Supported by Textbooks are too ...\n",
              "5      Vast amounts of methane are escaping from oil...\n",
              "                            ...                        \n",
              "24     This is a post in the Presentations series.\\r...\n",
              "25     \\n\\n\\nLoading...\\n    \\n \\n\\n\\nLoading...\\n  ...\n",
              "26     \\n\\n\\nLoading...\\n    \\n \\n\\n\\nLoading...\\n  ...\n",
              "27     A 3 minute read written byStephen Ramthun12.1...\n",
              "28      Menu I In the early 1980s, the author Dougal...\n",
              "Name: article_data, Length: 62, dtype: object>"
            ]
          },
          "metadata": {
            "tags": []
          },
          "execution_count": 35
        }
      ]
    },
    {
      "cell_type": "markdown",
      "metadata": {
        "id": "UxXUKqHn5W-i",
        "colab_type": "text"
      },
      "source": [
        "####TASK 3\n",
        "\n",
        "---\n",
        "\n",
        "\n",
        "\n",
        "---\n",
        "\n",
        "\n",
        "\n"
      ]
    },
    {
      "cell_type": "code",
      "metadata": {
        "id": "BHGlcyv2yPK0",
        "colab_type": "code",
        "colab": {}
      },
      "source": [
        "from sklearn.decomposition import LatentDirichletAllocation"
      ],
      "execution_count": 0,
      "outputs": []
    },
    {
      "cell_type": "code",
      "metadata": {
        "id": "B3QAnUQO0Ur6",
        "colab_type": "code",
        "colab": {}
      },
      "source": [
        "import nltk\n",
        "from nltk.corpus import stopwords\n"
      ],
      "execution_count": 0,
      "outputs": []
    },
    {
      "cell_type": "code",
      "metadata": {
        "id": "J2_EUkNk0laH",
        "colab_type": "code",
        "outputId": "f0cad823-4686-4dbd-8b6a-a0e830b44a9e",
        "colab": {
          "base_uri": "https://localhost:8080/",
          "height": 205
        }
      },
      "source": [
        "!pip install stopwords"
      ],
      "execution_count": 0,
      "outputs": [
        {
          "output_type": "stream",
          "text": [
            "Collecting stopwords\n",
            "\u001b[?25l  Downloading https://files.pythonhosted.org/packages/14/a2/d4eb1d5e609fa0b1d59e929db8eb9ae540f8b2d6db3a4ba26f713e81af15/stopwords-0.1.3.tar.gz (41kB)\n",
            "\r\u001b[K     |███████▉                        | 10kB 30.7MB/s eta 0:00:01\r\u001b[K     |███████████████▋                | 20kB 5.7MB/s eta 0:00:01\r\u001b[K     |███████████████████████▌        | 30kB 8.2MB/s eta 0:00:01\r\u001b[K     |███████████████████████████████▎| 40kB 5.5MB/s eta 0:00:01\r\u001b[K     |████████████████████████████████| 51kB 4.3MB/s \n",
            "\u001b[?25hBuilding wheels for collected packages: stopwords\n",
            "  Building wheel for stopwords (setup.py) ... \u001b[?25l\u001b[?25hdone\n",
            "  Created wheel for stopwords: filename=stopwords-0.1.3-py2.py3-none-any.whl size=37286 sha256=9025cf0ba6d0427ccf1be086463dd034e8a488245119a337cecee4231d06608d\n",
            "  Stored in directory: /root/.cache/pip/wheels/39/fa/c7/c4c5111e658f5c58465d948165dc3395a3c10ff57f4cd20356\n",
            "Successfully built stopwords\n",
            "Installing collected packages: stopwords\n",
            "Successfully installed stopwords-0.1.3\n"
          ],
          "name": "stdout"
        }
      ]
    },
    {
      "cell_type": "code",
      "metadata": {
        "id": "axnanqpX0u2K",
        "colab_type": "code",
        "outputId": "d6109437-99b8-4aa4-c9e5-7f02fc7e6ae9",
        "colab": {
          "base_uri": "https://localhost:8080/",
          "height": 67
        }
      },
      "source": [
        "nltk.download('stopwords')"
      ],
      "execution_count": 0,
      "outputs": [
        {
          "output_type": "stream",
          "text": [
            "[nltk_data] Downloading package stopwords to /root/nltk_data...\n",
            "[nltk_data]   Unzipping corpora/stopwords.zip.\n"
          ],
          "name": "stdout"
        },
        {
          "output_type": "execute_result",
          "data": {
            "text/plain": [
              "True"
            ]
          },
          "metadata": {
            "tags": []
          },
          "execution_count": 74
        }
      ]
    },
    {
      "cell_type": "code",
      "metadata": {
        "id": "_jsZ1uUN1Xqo",
        "colab_type": "code",
        "colab": {}
      },
      "source": [
        "from nltk.tokenize import word_tokenize"
      ],
      "execution_count": 0,
      "outputs": []
    },
    {
      "cell_type": "code",
      "metadata": {
        "id": "X2kknice0bcU",
        "colab_type": "code",
        "colab": {}
      },
      "source": [
        "stop =set(stopwords.words('english'))"
      ],
      "execution_count": 0,
      "outputs": []
    },
    {
      "cell_type": "code",
      "metadata": {
        "id": "tYi-JgXc1c5J",
        "colab_type": "code",
        "outputId": "e51887e3-79e7-49c0-abaa-8e2866a3feb3",
        "colab": {
          "base_uri": "https://localhost:8080/",
          "height": 67
        }
      },
      "source": [
        "nltk.download('punkt')"
      ],
      "execution_count": 0,
      "outputs": [
        {
          "output_type": "stream",
          "text": [
            "[nltk_data] Downloading package punkt to /root/nltk_data...\n",
            "[nltk_data]   Unzipping tokenizers/punkt.zip.\n"
          ],
          "name": "stdout"
        },
        {
          "output_type": "execute_result",
          "data": {
            "text/plain": [
              "True"
            ]
          },
          "metadata": {
            "tags": []
          },
          "execution_count": 79
        }
      ]
    },
    {
      "cell_type": "code",
      "metadata": {
        "id": "md6p8oLLJ4rh",
        "colab_type": "code",
        "colab": {}
      },
      "source": [
        "hackerNews_valid_records['article_data'] = hackerNews_valid_records['article_data'].str.replace(\"[^\\w\\s]\", \"\")"
      ],
      "execution_count": 0,
      "outputs": []
    },
    {
      "cell_type": "code",
      "metadata": {
        "id": "zVvLOEZsKUz9",
        "colab_type": "code",
        "colab": {}
      },
      "source": [
        "hackerNews_valid_records['article_data'] = hackerNews_valid_records['article_data'].str.replace(\"‰Ûª\", \"''\")"
      ],
      "execution_count": 0,
      "outputs": []
    },
    {
      "cell_type": "code",
      "metadata": {
        "id": "MGoHilaFK-o_",
        "colab_type": "code",
        "colab": {}
      },
      "source": [
        "hackerNews_valid_records['article_data']= hackerNews_valid_records['article_data'].replace('\\n','', regex=True)"
      ],
      "execution_count": 0,
      "outputs": []
    },
    {
      "cell_type": "code",
      "metadata": {
        "id": "3mpwQM9bNOI5",
        "colab_type": "code",
        "colab": {}
      },
      "source": [
        "hackerNews_valid_records['article_data']= hackerNews_valid_records['article_data'].replace('\\t','', regex=True)"
      ],
      "execution_count": 0,
      "outputs": []
    },
    {
      "cell_type": "code",
      "metadata": {
        "id": "nuClW5wQKfGq",
        "colab_type": "code",
        "outputId": "da1835db-c6a4-4a83-9ac3-0dd8631ea381",
        "colab": {
          "base_uri": "https://localhost:8080/",
          "height": 218
        }
      },
      "source": [
        "hackerNews_valid_records['article_data'].head"
      ],
      "execution_count": 0,
      "outputs": [
        {
          "output_type": "execute_result",
          "data": {
            "text/plain": [
              "<bound method NDFrame.head of 0      Posted on 20191211 1522 by          Wladimir ...\n",
              "1      Dont you miss the days when the web really wa...\n",
              "2      GitHub is home to over 40 million developers ...\n",
              "5        Learn more about me here or even better sub...\n",
              "6      How history forgot Felipe and Vivián Espinosa...\n",
              "                            ...                        \n",
              "83     The federal government has announced worldlea...\n",
              "84      The Jonah complex is the fear of success or ...\n",
              "85     GET BREAKING NEWS IN YOUR BROWSER CLICK HERE ...\n",
              "87     Subscribe and get updates Dropbox and the Dro...\n",
              "88     Checked exceptions were an effort by the desi...\n",
              "Name: article_data, Length: 61, dtype: object>"
            ]
          },
          "metadata": {
            "tags": []
          },
          "execution_count": 324
        }
      ]
    },
    {
      "cell_type": "code",
      "metadata": {
        "id": "8LPty4OLxO2b",
        "colab_type": "code",
        "colab": {}
      },
      "source": [
        "X = hackerNews_valid_records['article_data']"
      ],
      "execution_count": 0,
      "outputs": []
    },
    {
      "cell_type": "code",
      "metadata": {
        "id": "KwylUvvexnYo",
        "colab_type": "code",
        "outputId": "65bdd7c3-c33d-443d-8b0e-86eef6a5a86f",
        "colab": {
          "base_uri": "https://localhost:8080/",
          "height": 34
        }
      },
      "source": [
        "X.shape"
      ],
      "execution_count": 0,
      "outputs": [
        {
          "output_type": "execute_result",
          "data": {
            "text/plain": [
              "(61,)"
            ]
          },
          "metadata": {
            "tags": []
          },
          "execution_count": 326
        }
      ]
    },
    {
      "cell_type": "code",
      "metadata": {
        "id": "riLKzYHH2HLy",
        "colab_type": "code",
        "colab": {}
      },
      "source": [
        "Num_SAMPLES = 61"
      ],
      "execution_count": 0,
      "outputs": []
    },
    {
      "cell_type": "code",
      "metadata": {
        "id": "zyxX9itQ-wBV",
        "colab_type": "code",
        "outputId": "e5001066-bfb7-4dcb-9f84-cf85b87608b3",
        "colab": {
          "base_uri": "https://localhost:8080/",
          "height": 218
        }
      },
      "source": [
        "X.head"
      ],
      "execution_count": 0,
      "outputs": [
        {
          "output_type": "execute_result",
          "data": {
            "text/plain": [
              "<bound method NDFrame.head of 0      Posted on 20191211 1522 by          Wladimir ...\n",
              "1      Dont you miss the days when the web really wa...\n",
              "2      GitHub is home to over 40 million developers ...\n",
              "5        Learn more about me here or even better sub...\n",
              "6      How history forgot Felipe and Vivián Espinosa...\n",
              "                            ...                        \n",
              "83     The federal government has announced worldlea...\n",
              "84      The Jonah complex is the fear of success or ...\n",
              "85     GET BREAKING NEWS IN YOUR BROWSER CLICK HERE ...\n",
              "87     Subscribe and get updates Dropbox and the Dro...\n",
              "88     Checked exceptions were an effort by the desi...\n",
              "Name: article_data, Length: 61, dtype: object>"
            ]
          },
          "metadata": {
            "tags": []
          },
          "execution_count": 328
        }
      ]
    },
    {
      "cell_type": "code",
      "metadata": {
        "id": "uzdr2nycRzVt",
        "colab_type": "code",
        "colab": {}
      },
      "source": [
        "count_vectorizer = CountVectorizer()"
      ],
      "execution_count": 0,
      "outputs": []
    },
    {
      "cell_type": "code",
      "metadata": {
        "id": "OEzPx1LVSCBZ",
        "colab_type": "code",
        "outputId": "591e147c-a9a2-4a9f-ec6c-69c745a58f77",
        "colab": {
          "base_uri": "https://localhost:8080/",
          "height": 118
        }
      },
      "source": [
        "count_vectorizer.fit(X)"
      ],
      "execution_count": 0,
      "outputs": [
        {
          "output_type": "execute_result",
          "data": {
            "text/plain": [
              "CountVectorizer(analyzer='word', binary=False, decode_error='strict',\n",
              "                dtype=<class 'numpy.int64'>, encoding='utf-8', input='content',\n",
              "                lowercase=True, max_df=1.0, max_features=None, min_df=1,\n",
              "                ngram_range=(1, 1), preprocessor=None, stop_words=None,\n",
              "                strip_accents=None, token_pattern='(?u)\\\\b\\\\w\\\\w+\\\\b',\n",
              "                tokenizer=None, vocabulary=None)"
            ]
          },
          "metadata": {
            "tags": []
          },
          "execution_count": 330
        }
      ]
    },
    {
      "cell_type": "code",
      "metadata": {
        "id": "Uy5cG92iRqXQ",
        "colab_type": "code",
        "colab": {}
      },
      "source": [
        "count_vectorizer = CountVectorizer(stop_words = 'english')\n",
        "\n",
        "transformed_vector = count_vectorizer.fit_transform(X)"
      ],
      "execution_count": 0,
      "outputs": []
    },
    {
      "cell_type": "code",
      "metadata": {
        "id": "0p__2djex62b",
        "colab_type": "code",
        "outputId": "409d1598-a4f3-40c9-cb6e-6ff641cb6d98",
        "colab": {
          "base_uri": "https://localhost:8080/",
          "height": 34
        }
      },
      "source": [
        "transformed_vector.shape"
      ],
      "execution_count": 0,
      "outputs": [
        {
          "output_type": "execute_result",
          "data": {
            "text/plain": [
              "(61, 13632)"
            ]
          },
          "metadata": {
            "tags": []
          },
          "execution_count": 348
        }
      ]
    },
    {
      "cell_type": "code",
      "metadata": {
        "id": "J52kO_DZx-af",
        "colab_type": "code",
        "colab": {}
      },
      "source": [
        "feature_names = count_vectorizer.get_feature_names()"
      ],
      "execution_count": 0,
      "outputs": []
    },
    {
      "cell_type": "code",
      "metadata": {
        "id": "L8ugabOhyBsU",
        "colab_type": "code",
        "outputId": "d23523e1-bb63-4844-b742-8cf30873f7e1",
        "colab": {
          "base_uri": "https://localhost:8080/",
          "height": 34
        }
      },
      "source": [
        "len(feature_names)"
      ],
      "execution_count": 0,
      "outputs": [
        {
          "output_type": "execute_result",
          "data": {
            "text/plain": [
              "13632"
            ]
          },
          "metadata": {
            "tags": []
          },
          "execution_count": 350
        }
      ]
    },
    {
      "cell_type": "code",
      "metadata": {
        "id": "KNn0MF5CyDzy",
        "colab_type": "code",
        "outputId": "f78b3181-7522-4cdd-f641-65a543543f57",
        "colab": {
          "base_uri": "https://localhost:8080/",
          "height": 34
        }
      },
      "source": [
        "feature_names[1000:1005]"
      ],
      "execution_count": 0,
      "outputs": [
        {
          "output_type": "execute_result",
          "data": {
            "text/plain": [
              "['aquidauana', 'aranka', 'arankaworld', 'arbitrarily', 'arbitrary']"
            ]
          },
          "metadata": {
            "tags": []
          },
          "execution_count": 351
        }
      ]
    },
    {
      "cell_type": "code",
      "metadata": {
        "id": "cMEyY2HDyFlv",
        "colab_type": "code",
        "colab": {}
      },
      "source": [
        "NUM_TOPICS = 3\n",
        "\n",
        "lda_model = LatentDirichletAllocation(n_components=NUM_TOPICS, max_iter=10)\n",
        "\n",
        "lda = lda_model.fit_transform(transformed_vector)"
      ],
      "execution_count": 0,
      "outputs": []
    },
    {
      "cell_type": "code",
      "metadata": {
        "id": "qXht6XvByK8J",
        "colab_type": "code",
        "outputId": "857b1972-5d2e-4ea1-cc4b-cf5658b2f189",
        "colab": {
          "base_uri": "https://localhost:8080/",
          "height": 34
        }
      },
      "source": [
        "lda.shape"
      ],
      "execution_count": 0,
      "outputs": [
        {
          "output_type": "execute_result",
          "data": {
            "text/plain": [
              "(61, 3)"
            ]
          },
          "metadata": {
            "tags": []
          },
          "execution_count": 353
        }
      ]
    },
    {
      "cell_type": "code",
      "metadata": {
        "id": "_Cd_G4Q6yYgm",
        "colab_type": "code",
        "outputId": "6840a40f-85e6-4f24-e018-5d8e45c7c08e",
        "colab": {
          "base_uri": "https://localhost:8080/",
          "height": 50
        }
      },
      "source": [
        "lda[:2]"
      ],
      "execution_count": 0,
      "outputs": [
        {
          "output_type": "execute_result",
          "data": {
            "text/plain": [
              "array([[4.98390217e-04, 5.30757105e-01, 4.68744504e-01],\n",
              "       [4.77220417e-03, 8.49287742e-02, 9.10299022e-01]])"
            ]
          },
          "metadata": {
            "tags": []
          },
          "execution_count": 354
        }
      ]
    },
    {
      "cell_type": "code",
      "metadata": {
        "id": "jk_1TMLVybmc",
        "colab_type": "code",
        "outputId": "8fea958f-f44d-45af-8b6d-f67c73e701d2",
        "colab": {
          "base_uri": "https://localhost:8080/",
          "height": 34
        }
      },
      "source": [
        "sum(lda[0])"
      ],
      "execution_count": 0,
      "outputs": [
        {
          "output_type": "execute_result",
          "data": {
            "text/plain": [
              "1.0"
            ]
          },
          "metadata": {
            "tags": []
          },
          "execution_count": 355
        }
      ]
    },
    {
      "cell_type": "code",
      "metadata": {
        "id": "QbiD41e3ye6t",
        "colab_type": "code",
        "outputId": "66c2fbdf-200b-44f9-aeb3-8fbe7be7bf4d",
        "colab": {
          "base_uri": "https://localhost:8080/",
          "height": 34
        }
      },
      "source": [
        "lda_model.components_.shape"
      ],
      "execution_count": 0,
      "outputs": [
        {
          "output_type": "execute_result",
          "data": {
            "text/plain": [
              "(3, 13632)"
            ]
          },
          "metadata": {
            "tags": []
          },
          "execution_count": 356
        }
      ]
    },
    {
      "cell_type": "code",
      "metadata": {
        "id": "qE4Fx4FyyjS7",
        "colab_type": "code",
        "colab": {}
      },
      "source": [
        "def print_topic(identifier, top_words=10):\n",
        "    \n",
        "    for topic_id, topic_word_probs in enumerate(lda_model.components_):\n",
        "\n",
        "        if topic_id == identifier:\n",
        "            print(\"Topic %d:\" % (topic_id))\n",
        "\n",
        "            top_feature_names = [feature_names[i] for i in topic_word_probs.argsort()[: -top_words - 1 : -1]]\n",
        "            \n",
        "            print(\" \".join(top_feature_names))"
      ],
      "execution_count": 0,
      "outputs": []
    },
    {
      "cell_type": "code",
      "metadata": {
        "id": "iWfgz4TTymY5",
        "colab_type": "code",
        "outputId": "cefdd5b7-4731-41f6-e8cd-a8e83829747d",
        "colab": {
          "base_uri": "https://localhost:8080/",
          "height": 118
        }
      },
      "source": [
        "for i in range(5):\n",
        "    print_topic(i, top_words=10)"
      ],
      "execution_count": 0,
      "outputs": [
        {
          "output_type": "stream",
          "text": [
            "Topic 0:\n",
            "pep said new code patrick like work dave pypi benjamin\n",
            "Topic 1:\n",
            "data like use users companies information people code tracking trackers\n",
            "Topic 2:\n",
            "todd like use time just says years team new folder\n"
          ],
          "name": "stdout"
        }
      ]
    },
    {
      "cell_type": "code",
      "metadata": {
        "id": "HHnmL5Fiyo2j",
        "colab_type": "code",
        "colab": {}
      },
      "source": [
        "topics = []\n",
        "\n",
        "for i in range(Num_SAMPLES):\n",
        "    topics.append(lda[i].argmax())"
      ],
      "execution_count": 0,
      "outputs": []
    },
    {
      "cell_type": "code",
      "metadata": {
        "id": "Zm5s_pdQy14g",
        "colab_type": "code",
        "outputId": "d28e7875-a176-4543-c75d-47f5f5f3c259",
        "colab": {
          "base_uri": "https://localhost:8080/",
          "height": 518
        }
      },
      "source": [
        "hackerNews_valid_records['topic'] = topics\n",
        "\n",
        "hackerNews_valid_records.head()"
      ],
      "execution_count": 0,
      "outputs": [
        {
          "output_type": "execute_result",
          "data": {
            "text/html": [
              "<div>\n",
              "<style scoped>\n",
              "    .dataframe tbody tr th:only-of-type {\n",
              "        vertical-align: middle;\n",
              "    }\n",
              "\n",
              "    .dataframe tbody tr th {\n",
              "        vertical-align: top;\n",
              "    }\n",
              "\n",
              "    .dataframe thead th {\n",
              "        text-align: right;\n",
              "    }\n",
              "</style>\n",
              "<table border=\"1\" class=\"dataframe\">\n",
              "  <thead>\n",
              "    <tr style=\"text-align: right;\">\n",
              "      <th></th>\n",
              "      <th>Rank</th>\n",
              "      <th>Title</th>\n",
              "      <th>domain</th>\n",
              "      <th>posted_by_user</th>\n",
              "      <th>url</th>\n",
              "      <th>num_comments</th>\n",
              "      <th>num_upvotes</th>\n",
              "      <th>date_created</th>\n",
              "      <th>formatted_date_created</th>\n",
              "      <th>article_data</th>\n",
              "      <th>exception</th>\n",
              "      <th>topic</th>\n",
              "    </tr>\n",
              "  </thead>\n",
              "  <tbody>\n",
              "    <tr>\n",
              "      <th>0</th>\n",
              "      <td>1</td>\n",
              "      <td>Problematic monetization in security products,...</td>\n",
              "      <td>palant.de</td>\n",
              "      <td>robin_reala</td>\n",
              "      <td>https://palant.de/2019/12/11/problematic-monet...</td>\n",
              "      <td>0</td>\n",
              "      <td>1</td>\n",
              "      <td>1 minute ago</td>\n",
              "      <td>2019-12-12 05:50:39.789138</td>\n",
              "      <td>Posted on 20191211 1522 by          Wladimir ...</td>\n",
              "      <td></td>\n",
              "      <td>1</td>\n",
              "    </tr>\n",
              "    <tr>\n",
              "      <th>1</th>\n",
              "      <td>2</td>\n",
              "      <td>Decentralized Social Networking â W3C Draft</td>\n",
              "      <td>activitypub.rocks</td>\n",
              "      <td>neya</td>\n",
              "      <td>http://activitypub.rocks/?source=hn</td>\n",
              "      <td>0</td>\n",
              "      <td>2</td>\n",
              "      <td>2 minutes ago</td>\n",
              "      <td>2019-12-12 05:49:39.789150</td>\n",
              "      <td>Dont you miss the days when the web really wa...</td>\n",
              "      <td></td>\n",
              "      <td>2</td>\n",
              "    </tr>\n",
              "    <tr>\n",
              "      <th>2</th>\n",
              "      <td>3</td>\n",
              "      <td>The IntercalScript Programming Language</td>\n",
              "      <td>github.com</td>\n",
              "      <td>cosmojg</td>\n",
              "      <td>https://github.com/Storyyeller/IntercalScript</td>\n",
              "      <td>0</td>\n",
              "      <td>1</td>\n",
              "      <td>6 minutes ago</td>\n",
              "      <td>2019-12-12 05:45:39.789154</td>\n",
              "      <td>GitHub is home to over 40 million developers ...</td>\n",
              "      <td></td>\n",
              "      <td>1</td>\n",
              "    </tr>\n",
              "    <tr>\n",
              "      <th>5</th>\n",
              "      <td>6</td>\n",
              "      <td>Bluesky Early Thoughts â By Sriram Krishnan</td>\n",
              "      <td>sriramk.com</td>\n",
              "      <td>Sandeepg33k</td>\n",
              "      <td>https://sriramk.com/bluesky-early</td>\n",
              "      <td>0</td>\n",
              "      <td>1</td>\n",
              "      <td>10 minutes ago</td>\n",
              "      <td>2019-12-12 05:41:39.789164</td>\n",
              "      <td>Learn more about me here or even better sub...</td>\n",
              "      <td></td>\n",
              "      <td>1</td>\n",
              "    </tr>\n",
              "    <tr>\n",
              "      <th>6</th>\n",
              "      <td>7</td>\n",
              "      <td>The Long-Forgotten Vigilante Murders of the Sa...</td>\n",
              "      <td>5280.com</td>\n",
              "      <td>axiomdata316</td>\n",
              "      <td>https://www.5280.com/2019/12/the-long-forgotte...</td>\n",
              "      <td>0</td>\n",
              "      <td>1</td>\n",
              "      <td>11 minutes ago</td>\n",
              "      <td>2019-12-12 05:40:39.789168</td>\n",
              "      <td>How history forgot Felipe and Vivián Espinosa...</td>\n",
              "      <td></td>\n",
              "      <td>0</td>\n",
              "    </tr>\n",
              "  </tbody>\n",
              "</table>\n",
              "</div>"
            ],
            "text/plain": [
              "   Rank                                              Title  ... exception topic\n",
              "0     1  Problematic monetization in security products,...  ...               1\n",
              "1     2      Decentralized Social Networking â W3C Draft  ...               2\n",
              "2     3            The IntercalScript Programming Language  ...               1\n",
              "5     6      Bluesky Early Thoughts â By Sriram Krishnan  ...               1\n",
              "6     7  The Long-Forgotten Vigilante Murders of the Sa...  ...               0\n",
              "\n",
              "[5 rows x 12 columns]"
            ]
          },
          "metadata": {
            "tags": []
          },
          "execution_count": 360
        }
      ]
    },
    {
      "cell_type": "code",
      "metadata": {
        "id": "-kkRcu5wzyGs",
        "colab_type": "code",
        "colab": {}
      },
      "source": [
        "from sklearn.decomposition import TruncatedSVD"
      ],
      "execution_count": 0,
      "outputs": []
    },
    {
      "cell_type": "code",
      "metadata": {
        "id": "Ui5IMSwAU_dD",
        "colab_type": "code",
        "colab": {}
      },
      "source": [
        "NUM_TOPICS = 10\n",
        "\n",
        "nmf_model = TruncatedSVD(n_components=NUM_TOPICS)\n",
        "\n",
        "nmf = nmf_model.fit_transform(transformed_vector)"
      ],
      "execution_count": 0,
      "outputs": []
    },
    {
      "cell_type": "code",
      "metadata": {
        "id": "MYf9txe6VDC3",
        "colab_type": "code",
        "outputId": "0d8f3e6e-e130-4d7a-baeb-5f73abaa3773",
        "colab": {
          "base_uri": "https://localhost:8080/",
          "height": 34
        }
      },
      "source": [
        "nmf.shape"
      ],
      "execution_count": 0,
      "outputs": [
        {
          "output_type": "execute_result",
          "data": {
            "text/plain": [
              "(61, 10)"
            ]
          },
          "metadata": {
            "tags": []
          },
          "execution_count": 372
        }
      ]
    },
    {
      "cell_type": "code",
      "metadata": {
        "id": "C_HBWkzUVFWO",
        "colab_type": "code",
        "outputId": "4c6a73a1-0032-45e4-99de-58e5abd68125",
        "colab": {
          "base_uri": "https://localhost:8080/",
          "height": 151
        }
      },
      "source": [
        "nmf[:2]"
      ],
      "execution_count": 0,
      "outputs": [
        {
          "output_type": "execute_result",
          "data": {
            "text/plain": [
              "array([[ 2.13103497e+01,  1.18123329e+00,  2.98880288e+00,\n",
              "        -1.56910373e+00, -2.41635808e-01,  3.69935418e+00,\n",
              "         4.14242618e-01, -1.62509223e-01,  8.51707372e-01,\n",
              "        -9.11514167e-02],\n",
              "       [ 1.37567466e+00,  3.48809992e-01,  4.24847632e-01,\n",
              "         1.13638768e-01,  4.11554826e-01, -1.24987263e-01,\n",
              "         6.71137606e-03, -6.99291859e-02,  1.20621563e-01,\n",
              "         2.56281048e-02]])"
            ]
          },
          "metadata": {
            "tags": []
          },
          "execution_count": 373
        }
      ]
    },
    {
      "cell_type": "code",
      "metadata": {
        "id": "7eFAm_DIVIJS",
        "colab_type": "code",
        "outputId": "afdebd82-caad-4236-e730-cd58c04e5756",
        "colab": {
          "base_uri": "https://localhost:8080/",
          "height": 34
        }
      },
      "source": [
        "nmf_model.components_.shape"
      ],
      "execution_count": 0,
      "outputs": [
        {
          "output_type": "execute_result",
          "data": {
            "text/plain": [
              "(10, 13632)"
            ]
          },
          "metadata": {
            "tags": []
          },
          "execution_count": 374
        }
      ]
    },
    {
      "cell_type": "code",
      "metadata": {
        "id": "IRPsywm2VMt3",
        "colab_type": "code",
        "colab": {}
      },
      "source": [
        "def get_topic(identifier, top_words=10):\n",
        "    \n",
        "    for topic_id, topic_word_probs in enumerate(nmf_model.components_):\n",
        "\n",
        "        if topic_id == identifier:\n",
        "            top_feature_names = [feature_names[i] for i in topic_word_probs.argsort()[: -top_words - 1 : -1]]\n",
        "            \n",
        "            return \" \".join(top_feature_names)"
      ],
      "execution_count": 0,
      "outputs": []
    },
    {
      "cell_type": "code",
      "metadata": {
        "id": "sACaVFFEVO8W",
        "colab_type": "code",
        "outputId": "b5c3011c-054c-4be5-d70e-0006867a2b1b",
        "colab": {
          "base_uri": "https://localhost:8080/",
          "height": 353
        }
      },
      "source": [
        "for i in range(NUM_TOPICS):\n",
        "    print(\"Topic %d:\" % (i))\n",
        "\n",
        "    print(get_topic(i, top_words=7))"
      ],
      "execution_count": 0,
      "outputs": [
        {
          "output_type": "stream",
          "text": [
            "Topic 0:\n",
            "data users tracking information trackers like companies\n",
            "Topic 1:\n",
            "todd said marv just like code years\n",
            "Topic 2:\n",
            "pep code said pypi patrick dave compiler\n",
            "Topic 3:\n",
            "pep pypi community tuf todd discussion moore\n",
            "Topic 4:\n",
            "benjamin benjamins adorno arendt theses work new\n",
            "Topic 5:\n",
            "intercalscript code type unsafe use function error\n",
            "Topic 6:\n",
            "road felipe new anteaters espinosas colorado house\n",
            "Topic 7:\n",
            "felipe espinosas colorado men hispano espinosa brothers\n",
            "Topic 8:\n",
            "anteaters roads alves giant roadkill highway desbiez\n",
            "Topic 9:\n",
            "says brain ndes nde people experiences medical\n"
          ],
          "name": "stdout"
        }
      ]
    },
    {
      "cell_type": "code",
      "metadata": {
        "id": "_p24uFg-VQya",
        "colab_type": "code",
        "outputId": "f3d07f1a-c0c3-4544-fee2-74963ddf20da",
        "colab": {
          "base_uri": "https://localhost:8080/",
          "height": 185
        }
      },
      "source": [
        "topic_id_topic_mapping = {}\n",
        "\n",
        "for i in range(NUM_TOPICS):\n",
        "    topic_id_topic_mapping[i] = get_topic(i, top_words=5)\n",
        "    \n",
        "topic_id_topic_mapping"
      ],
      "execution_count": 0,
      "outputs": [
        {
          "output_type": "execute_result",
          "data": {
            "text/plain": [
              "{0: 'data users tracking information trackers',\n",
              " 1: 'todd said marv just like',\n",
              " 2: 'pep code said pypi patrick',\n",
              " 3: 'pep pypi community tuf todd',\n",
              " 4: 'benjamin benjamins adorno arendt theses',\n",
              " 5: 'intercalscript code type unsafe use',\n",
              " 6: 'road felipe new anteaters espinosas',\n",
              " 7: 'felipe espinosas colorado men hispano',\n",
              " 8: 'anteaters roads alves giant roadkill',\n",
              " 9: 'says brain ndes nde people'}"
            ]
          },
          "metadata": {
            "tags": []
          },
          "execution_count": 379
        }
      ]
    },
    {
      "cell_type": "code",
      "metadata": {
        "id": "RDY8fpmPV1aU",
        "colab_type": "code",
        "colab": {}
      },
      "source": [
        "topic_to_doc_mapping = {}\n",
        "topic_list = []\n",
        "topic_names = []\n",
        "\n",
        "for i in range(Num_SAMPLES):\n",
        "    most_likely_topic =  nmf[i].argmax()\n",
        "\n",
        "    if most_likely_topic not in topic_to_doc_mapping:\n",
        "        topic_to_doc_mapping[most_likely_topic] = []\n",
        "\n",
        "    topic_to_doc_mapping[most_likely_topic].append(i)\n",
        "\n",
        "    topic_list.append(most_likely_topic)\n",
        "    topic_names.append(topic_id_topic_mapping[most_likely_topic])\n",
        "\n",
        "hackerNews_valid_records['Most_Likely_Topic'] = topic_list\n",
        "hackerNews_valid_records['Most_Likely_Topic_Names'] = topic_names"
      ],
      "execution_count": 0,
      "outputs": []
    },
    {
      "cell_type": "code",
      "metadata": {
        "id": "fdvHaT-aWboq",
        "colab_type": "code",
        "outputId": "f00cf5f9-b5f5-41ee-b268-d5ef6d58ec7f",
        "colab": {
          "base_uri": "https://localhost:8080/",
          "height": 34
        }
      },
      "source": [
        "print(topic_to_doc_mapping[0][:10])"
      ],
      "execution_count": 0,
      "outputs": [
        {
          "output_type": "stream",
          "text": [
            "[0, 1, 3, 5, 9, 12, 13, 14, 18, 19]\n"
          ],
          "name": "stdout"
        }
      ]
    },
    {
      "cell_type": "code",
      "metadata": {
        "id": "3k98KO2FWjNM",
        "colab_type": "code",
        "outputId": "68808f7e-f31a-423b-8915-cb3516b017b7",
        "colab": {
          "base_uri": "https://localhost:8080/",
          "height": 518
        }
      },
      "source": [
        "hackerNews_valid_records.head(5)"
      ],
      "execution_count": 0,
      "outputs": [
        {
          "output_type": "execute_result",
          "data": {
            "text/html": [
              "<div>\n",
              "<style scoped>\n",
              "    .dataframe tbody tr th:only-of-type {\n",
              "        vertical-align: middle;\n",
              "    }\n",
              "\n",
              "    .dataframe tbody tr th {\n",
              "        vertical-align: top;\n",
              "    }\n",
              "\n",
              "    .dataframe thead th {\n",
              "        text-align: right;\n",
              "    }\n",
              "</style>\n",
              "<table border=\"1\" class=\"dataframe\">\n",
              "  <thead>\n",
              "    <tr style=\"text-align: right;\">\n",
              "      <th></th>\n",
              "      <th>Rank</th>\n",
              "      <th>Title</th>\n",
              "      <th>domain</th>\n",
              "      <th>posted_by_user</th>\n",
              "      <th>url</th>\n",
              "      <th>num_comments</th>\n",
              "      <th>num_upvotes</th>\n",
              "      <th>date_created</th>\n",
              "      <th>formatted_date_created</th>\n",
              "      <th>article_data</th>\n",
              "      <th>exception</th>\n",
              "      <th>topic</th>\n",
              "      <th>Most_Likely_Topic</th>\n",
              "      <th>Most_Likely_Topic_Names</th>\n",
              "    </tr>\n",
              "  </thead>\n",
              "  <tbody>\n",
              "    <tr>\n",
              "      <th>0</th>\n",
              "      <td>1</td>\n",
              "      <td>Problematic monetization in security products,...</td>\n",
              "      <td>palant.de</td>\n",
              "      <td>robin_reala</td>\n",
              "      <td>https://palant.de/2019/12/11/problematic-monet...</td>\n",
              "      <td>0</td>\n",
              "      <td>1</td>\n",
              "      <td>1 minute ago</td>\n",
              "      <td>2019-12-12 05:50:39.789138</td>\n",
              "      <td>Posted on 20191211 1522 by          Wladimir ...</td>\n",
              "      <td></td>\n",
              "      <td>1</td>\n",
              "      <td>0</td>\n",
              "      <td>data users tracking information trackers</td>\n",
              "    </tr>\n",
              "    <tr>\n",
              "      <th>1</th>\n",
              "      <td>2</td>\n",
              "      <td>Decentralized Social Networking â W3C Draft</td>\n",
              "      <td>activitypub.rocks</td>\n",
              "      <td>neya</td>\n",
              "      <td>http://activitypub.rocks/?source=hn</td>\n",
              "      <td>0</td>\n",
              "      <td>2</td>\n",
              "      <td>2 minutes ago</td>\n",
              "      <td>2019-12-12 05:49:39.789150</td>\n",
              "      <td>Dont you miss the days when the web really wa...</td>\n",
              "      <td></td>\n",
              "      <td>2</td>\n",
              "      <td>0</td>\n",
              "      <td>data users tracking information trackers</td>\n",
              "    </tr>\n",
              "    <tr>\n",
              "      <th>2</th>\n",
              "      <td>3</td>\n",
              "      <td>The IntercalScript Programming Language</td>\n",
              "      <td>github.com</td>\n",
              "      <td>cosmojg</td>\n",
              "      <td>https://github.com/Storyyeller/IntercalScript</td>\n",
              "      <td>0</td>\n",
              "      <td>1</td>\n",
              "      <td>6 minutes ago</td>\n",
              "      <td>2019-12-12 05:45:39.789154</td>\n",
              "      <td>GitHub is home to over 40 million developers ...</td>\n",
              "      <td></td>\n",
              "      <td>1</td>\n",
              "      <td>5</td>\n",
              "      <td>intercalscript code type unsafe use</td>\n",
              "    </tr>\n",
              "    <tr>\n",
              "      <th>5</th>\n",
              "      <td>6</td>\n",
              "      <td>Bluesky Early Thoughts â By Sriram Krishnan</td>\n",
              "      <td>sriramk.com</td>\n",
              "      <td>Sandeepg33k</td>\n",
              "      <td>https://sriramk.com/bluesky-early</td>\n",
              "      <td>0</td>\n",
              "      <td>1</td>\n",
              "      <td>10 minutes ago</td>\n",
              "      <td>2019-12-12 05:41:39.789164</td>\n",
              "      <td>Learn more about me here or even better sub...</td>\n",
              "      <td></td>\n",
              "      <td>1</td>\n",
              "      <td>0</td>\n",
              "      <td>data users tracking information trackers</td>\n",
              "    </tr>\n",
              "    <tr>\n",
              "      <th>6</th>\n",
              "      <td>7</td>\n",
              "      <td>The Long-Forgotten Vigilante Murders of the Sa...</td>\n",
              "      <td>5280.com</td>\n",
              "      <td>axiomdata316</td>\n",
              "      <td>https://www.5280.com/2019/12/the-long-forgotte...</td>\n",
              "      <td>0</td>\n",
              "      <td>1</td>\n",
              "      <td>11 minutes ago</td>\n",
              "      <td>2019-12-12 05:40:39.789168</td>\n",
              "      <td>How history forgot Felipe and Vivián Espinosa...</td>\n",
              "      <td></td>\n",
              "      <td>0</td>\n",
              "      <td>7</td>\n",
              "      <td>felipe espinosas colorado men hispano</td>\n",
              "    </tr>\n",
              "  </tbody>\n",
              "</table>\n",
              "</div>"
            ],
            "text/plain": [
              "   Rank  ...                   Most_Likely_Topic_Names\n",
              "0     1  ...  data users tracking information trackers\n",
              "1     2  ...  data users tracking information trackers\n",
              "2     3  ...       intercalscript code type unsafe use\n",
              "5     6  ...  data users tracking information trackers\n",
              "6     7  ...     felipe espinosas colorado men hispano\n",
              "\n",
              "[5 rows x 14 columns]"
            ]
          },
          "metadata": {
            "tags": []
          },
          "execution_count": 387
        }
      ]
    },
    {
      "cell_type": "code",
      "metadata": {
        "id": "ODgQUjTXW6ZA",
        "colab_type": "code",
        "colab": {}
      },
      "source": [
        ""
      ],
      "execution_count": 0,
      "outputs": []
    }
  ]
}